{
 "cells": [
  {
   "cell_type": "code",
   "execution_count": 15,
   "id": "432e55d1",
   "metadata": {},
   "outputs": [],
   "source": [
    "from wremnants.datasets.datagroupsLowPU import datagroupsLowPU\n",
    "from wremnants import plot_tools\n",
    "import hist"
   ]
  },
  {
   "cell_type": "code",
   "execution_count": 2,
   "id": "5a13fee7",
   "metadata": {},
   "outputs": [],
   "source": [
    "%load_ext autoreload\n",
    "%autoreload 2"
   ]
  },
  {
   "cell_type": "code",
   "execution_count": 4,
   "id": "0a68403b",
   "metadata": {},
   "outputs": [],
   "source": [
    "groups = datagroupsLowPU(\"/scratch/shared/jaeyserm/output_cards_fineRecoBin.root\")"
   ]
  },
  {
   "cell_type": "code",
   "execution_count": 5,
   "id": "e10684f4",
   "metadata": {},
   "outputs": [],
   "source": [
    "procDict = groups.datagroupsForHist(\"mt_reco_pf\", syst=\"nominal\", label=\"nominal\")\n",
    "\n",
    "#procDict = groups.datagroupsForHist(\"mt_gen_reco_pf\", procsToRead=[\"Wmunu\"], syst=\"nominal\", label=\"nominal\")\n",
    "#procDict[\"Wmunu\"][\"nominal\"]# = procDict[\"Wmunu\"][\"nominal\"].project(\"qTreco\", \"charge\", \"mt\")"
   ]
  },
  {
   "cell_type": "code",
   "execution_count": 11,
   "id": "7ef213af",
   "metadata": {},
   "outputs": [],
   "source": [
    "procDict = groups.datagroupsForHist(\"mt_reco_pf\", syst=\"PDF\", procsToRead=[\"Wmunu\"], label=\"PDF\")"
   ]
  },
  {
   "cell_type": "code",
   "execution_count": 13,
   "id": "aef81716",
   "metadata": {},
   "outputs": [
    {
     "data": {
      "text/html": [
       "<html>\n",
       "<div style=\"display:flex; align-items:center;\">\n",
       "<div style=\"width:290px;\">\n",
       "<svg xmlns=\"http://www.w3.org/2000/svg\" viewBox=\"-10 -10 220 220\">\n",
       "<rect x=\"0\" y=\"0\" width=\"160\" height=\"160\" style=\"fill:white;opacity:.5;stroke-width:2;stroke:currentColor;\"/>\n",
       "<rect x=\"20\" y=\"20\" width=\"160\" height=\"160\" style=\"fill:white;opacity:.5;stroke-width:2;stroke:currentColor;\"/>\n",
       "<rect x=\"40\" y=\"40\" width=\"160\" height=\"160\" style=\"fill:white;opacity:.5;stroke-width:2;stroke:currentColor;\"/>\n",
       "<text x=\"120.0\" y=\"120.0\" style=\"font-size: 26pt; font-family: verdana; font-style: bold; fill: black;\" text-anchor=\"middle\" alignment-baseline=\"middle\">\n",
       "4D\n",
       "</text>\n",
       "</svg>\n",
       "</div>\n",
       "<div style=\"flex=grow:1;\">\n",
       "Regular(10, 0, 10, name='qTreco', label='qTreco')<br/>\n",
       "Regular(2, 0, 2, name='charge', label='charge')<br/>\n",
       "Regular(100, 0, 200, name='mt', label='mt')<br/>\n",
       "Regular(103, -0.5, 102.5, name='systAx', label='systAx')<br/>\n",
       "<hr style=\"margin-top:.2em; margin-bottom:.2em;\"/>\n",
       "Weight() Σ=WeightedSum(value=1.71101e+08, variance=3.65856e+07) <em>(WeightedSum(value=1.72864e+08, variance=3.69614e+07) with flow)</em>\n",
       "\n",
       "</div>\n",
       "</div>\n",
       "</html>"
      ],
      "text/plain": [
       "Hist(\n",
       "  Regular(10, 0, 10, name='qTreco', label='qTreco'),\n",
       "  Regular(2, 0, 2, name='charge', label='charge'),\n",
       "  Regular(100, 0, 200, name='mt', label='mt'),\n",
       "  Regular(103, -0.5, 102.5, name='systAx', label='systAx'),\n",
       "  storage=Weight()) # Sum: WeightedSum(value=1.71101e+08, variance=3.65856e+07) (WeightedSum(value=1.72864e+08, variance=3.69614e+07) with flow)"
      ]
     },
     "execution_count": 13,
     "metadata": {},
     "output_type": "execute_result"
    }
   ],
   "source": [
    "procDict[\"Wmunu\"][\"PDF\"]"
   ]
  },
  {
   "cell_type": "code",
   "execution_count": 17,
   "id": "befb7028",
   "metadata": {},
   "outputs": [
    {
     "data": {
      "text/html": [
       "<html>\n",
       "<div style=\"display:flex; align-items:center;\">\n",
       "<div style=\"width:290px;\">\n",
       "<svg xmlns=\"http://www.w3.org/2000/svg\" viewBox=\"-10 -10 220 220\">\n",
       "<rect x=\"0\" y=\"0\" width=\"160\" height=\"160\" style=\"fill:white;opacity:.5;stroke-width:2;stroke:currentColor;\"/>\n",
       "<rect x=\"20\" y=\"20\" width=\"160\" height=\"160\" style=\"fill:white;opacity:.5;stroke-width:2;stroke:currentColor;\"/>\n",
       "<rect x=\"40\" y=\"40\" width=\"160\" height=\"160\" style=\"fill:white;opacity:.5;stroke-width:2;stroke:currentColor;\"/>\n",
       "<text x=\"120.0\" y=\"120.0\" style=\"font-size: 26pt; font-family: verdana; font-style: bold; fill: black;\" text-anchor=\"middle\" alignment-baseline=\"middle\">\n",
       "3D\n",
       "</text>\n",
       "</svg>\n",
       "</div>\n",
       "<div style=\"flex=grow:1;\">\n",
       "Regular(10, 0, 10, name='qTreco', label='qTreco')<br/>\n",
       "Regular(2, 0, 2, name='charge', label='charge')<br/>\n",
       "Regular(103, -0.5, 102.5, name='systAx', label='systAx')<br/>\n",
       "<hr style=\"margin-top:.2em; margin-bottom:.2em;\"/>\n",
       "Weight() Σ=WeightedSum(value=1.71202e+08, variance=3.6606e+07) <em>(WeightedSum(value=1.72864e+08, variance=3.69614e+07) with flow)</em>\n",
       "\n",
       "</div>\n",
       "</div>\n",
       "</html>"
      ],
      "text/plain": [
       "Hist(\n",
       "  Regular(10, 0, 10, name='qTreco', label='qTreco'),\n",
       "  Regular(2, 0, 2, name='charge', label='charge'),\n",
       "  Regular(103, -0.5, 102.5, name='systAx', label='systAx'),\n",
       "  storage=Weight()) # Sum: WeightedSum(value=1.71202e+08, variance=3.6606e+07) (WeightedSum(value=1.72864e+08, variance=3.69614e+07) with flow)"
      ]
     },
     "execution_count": 17,
     "metadata": {},
     "output_type": "execute_result"
    }
   ],
   "source": [
    "s = hist.tag.Slicer()\n",
    "h = procDict[\"Wmunu\"][\"PDF\"]\n",
    "#procDict[\"Wmunu\"][\"PDF\"][{\"mt\" : s[::hist.sum]}]\n",
    "h.project(\"qTreco\", \"charge\", \"systAx\")"
   ]
  }
 ],
 "metadata": {
  "kernelspec": {
   "display_name": "Python 3 (ipykernel)",
   "language": "python",
   "name": "python3"
  },
  "language_info": {
   "codemirror_mode": {
    "name": "ipython",
    "version": 3
   },
   "file_extension": ".py",
   "mimetype": "text/x-python",
   "name": "python",
   "nbconvert_exporter": "python",
   "pygments_lexer": "ipython3",
   "version": "3.10.2"
  }
 },
 "nbformat": 4,
 "nbformat_minor": 5
}
