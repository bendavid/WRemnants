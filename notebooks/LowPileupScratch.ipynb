{
 "cells": [
  {
   "cell_type": "code",
   "execution_count": null,
   "id": "432e55d1",
   "metadata": {},
   "outputs": [],
   "source": [
    "from wremnants.datasets.datagroupsLowPU import datagroupsLowPU\n",
    "from wremnants import plotTools"
   ]
  },
  {
   "cell_type": "code",
   "execution_count": null,
   "id": "5a13fee7",
   "metadata": {},
   "outputs": [],
   "source": [
    "%load_ext autoreload\n",
    "%autoreload 2"
   ]
  },
  {
   "cell_type": "code",
   "execution_count": null,
   "id": "0a68403b",
   "metadata": {},
   "outputs": [],
   "source": [
    "groups = datagroupsLowPU(\"/scratch/shared/jaeyserm/output_cards_fineRecoBin.root\")"
   ]
  },
  {
   "cell_type": "code",
   "execution_count": null,
   "id": "e10684f4",
   "metadata": {},
   "outputs": [],
   "source": [
    "procDict = groups.datagroupsForHist(\"mt_reco_pf\", syst=\"nominal\", label=\"nominal\")\n",
    "procDict = groups.datagroupsForHist(\"mt_gen_reco_pf\", procsToRead=[\"Wmunu\"], syst=\"nominal\", label=\"nominal\")\n",
    "procDict[\"Wmunu\"][\"nominal\"]# = procDict[\"Wmunu\"][\"nominal\"].project(\"qTreco\", \"charge\", \"mt\")"
   ]
  },
  {
   "cell_type": "code",
   "execution_count": null,
   "id": "7ef213af",
   "metadata": {},
   "outputs": [],
   "source": [
    "procDict[\"Data\"]"
   ]
  },
  {
   "cell_type": "code",
   "execution_count": null,
   "id": "befb7028",
   "metadata": {},
   "outputs": [],
   "source": [
    "prednames = [x for x in procDict.keys() if x != \"Data\"]\n",
    "etafig = plotTools.makeStackPlotWithRatio(\"mt\", procDict, prednames, unstacked=\"Data\", scale=1.2e5, xlabel=r\"q$_{T}$\", rrange=[0.95, 1.05])\n"
   ]
  }
 ],
 "metadata": {
  "kernelspec": {
   "display_name": "Python 3 (ipykernel)",
   "language": "python",
   "name": "python3"
  },
  "language_info": {
   "codemirror_mode": {
    "name": "ipython",
    "version": 3
   },
   "file_extension": ".py",
   "mimetype": "text/x-python",
   "name": "python",
   "nbconvert_exporter": "python",
   "pygments_lexer": "ipython3",
   "version": "3.10.2"
  }
 },
 "nbformat": 4,
 "nbformat_minor": 5
}
