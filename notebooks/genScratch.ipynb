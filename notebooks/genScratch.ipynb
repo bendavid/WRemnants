{
 "cells": [
  {
   "cell_type": "code",
   "execution_count": null,
   "id": "0fa9df5a",
   "metadata": {},
   "outputs": [],
   "source": [
    "import matplotlib.pyplot as plt\n",
    "from wremnants.datasets.datagroups import datagroups2016\n",
    "from wremnants import boostHistHelpers as hh\n",
    "from wremnants import plot_tools,syst_tools\n",
    "from wremnants import histselections as sel\n",
    "import lz4.frame\n",
    "import pickle"
   ]
  },
  {
   "cell_type": "code",
   "execution_count": null,
   "id": "8373a39c",
   "metadata": {},
   "outputs": [],
   "source": [
    "%load_ext autoreload\n",
    "%autoreload 2"
   ]
  },
  {
   "cell_type": "code",
   "execution_count": null,
   "id": "81399ff0",
   "metadata": {},
   "outputs": [],
   "source": [
    "with lz4.frame.open(\"../wremnants/data/angularCoefficients/w_coeffs.pkl.lz4\") as f:\n",
    "    coeffs = pickle.load(f)"
   ]
  },
  {
   "cell_type": "code",
   "execution_count": null,
   "id": "00ecf1ac",
   "metadata": {},
   "outputs": [],
   "source": [
    "coeffs"
   ]
  },
  {
   "cell_type": "code",
   "execution_count": null,
   "id": "94370458",
   "metadata": {},
   "outputs": [],
   "source": [
    "hh.divideHists(coeffs[...,3,1,1].project(\"ptVgen\", \"absYVgen\"), coeffs[...,2,1,1].project(\"ptVgen\", \"absYVgen\")).plot()"
   ]
  },
  {
   "cell_type": "code",
   "execution_count": null,
   "id": "78a83de3",
   "metadata": {},
   "outputs": [],
   "source": []
  },
  {
   "cell_type": "code",
   "execution_count": null,
   "id": "d9689de0",
   "metadata": {},
   "outputs": [],
   "source": []
  },
  {
   "cell_type": "code",
   "execution_count": null,
   "id": "bb225a5c",
   "metadata": {},
   "outputs": [],
   "source": [
    "coeff = 1\n",
    "coeffs[{\"muRfact\" : 1.j, \"muFfact\" : 1.j, \"helicity\" : 1}].project(\"ptVgen\", \"absYVgen\").plot()\n",
    "plt.title(f\"A$_{coeff-1}$ fraction\" if coeff != 0 else \"Const. term\")"
   ]
  }
 ],
 "metadata": {
  "kernelspec": {
   "display_name": "Python 3 (ipykernel)",
   "language": "python",
   "name": "python3"
  },
  "language_info": {
   "codemirror_mode": {
    "name": "ipython",
    "version": 3
   },
   "file_extension": ".py",
   "mimetype": "text/x-python",
   "name": "python",
   "nbconvert_exporter": "python",
   "pygments_lexer": "ipython3",
   "version": "3.10.2"
  }
 },
 "nbformat": 4,
 "nbformat_minor": 5
}
