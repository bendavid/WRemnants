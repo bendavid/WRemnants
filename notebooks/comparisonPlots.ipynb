{
 "cells": [
  {
   "cell_type": "code",
   "execution_count": 129,
   "id": "e8128239",
   "metadata": {},
   "outputs": [],
   "source": [
    "import hist\n",
    "import numpy as np\n",
    "import mplhep as hep\n",
    "import matplotlib.pyplot as plt\n",
    "from wremnants import boostHistHelpers as hh\n",
    "from wremnants import histselections as sel\n",
    "from wremnants import datasets2016\n",
    "import lz4.frame\n",
    "import pickle\n",
    "hep.style.use(hep.style.ROOT)"
   ]
  },
  {
   "cell_type": "code",
   "execution_count": 130,
   "id": "396320ae",
   "metadata": {},
   "outputs": [
    {
     "name": "stdout",
     "output_type": "stream",
     "text": [
      "The autoreload extension is already loaded. To reload it, use:\n",
      "  %reload_ext autoreload\n"
     ]
    }
   ],
   "source": [
    "%load_ext autoreload\n",
    "%autoreload 2"
   ]
  },
  {
   "cell_type": "code",
   "execution_count": 131,
   "id": "eed507e6",
   "metadata": {},
   "outputs": [],
   "source": [
    "with lz4.frame.open(\"../../mw_with_mu_eta_pt.pkl.lz4\") as f:\n",
    "    boost = pickle.load(f)"
   ]
  },
  {
   "cell_type": "code",
   "execution_count": null,
   "id": "4ded5a55",
   "metadata": {},
   "outputs": [],
   "source": []
  },
  {
   "cell_type": "code",
   "execution_count": 132,
   "id": "31dee726",
   "metadata": {},
   "outputs": [],
   "source": [
    "def readForDataset(output, name, histname=\"nominal\"):\n",
    "    if name not in output:\n",
    "        raise ValueError(f\"Sample {name} not in file\")\n",
    "    lumi = 1. if not \"dataPostVFP\" in output else output[\"dataPostVFP\"][\"lumi\"]*1000\n",
    "    info = output[name]\n",
    "    scale = 1. if output[name][\"dataset\"][\"is_data\"] else \\\n",
    "                lumi*info[\"dataset\"][\"xsec\"]/info[\"weight_sum\"]\n",
    "    print(scale)\n",
    "    return info[\"output\"][histname]*scale"
   ]
  },
  {
   "cell_type": "code",
   "execution_count": 133,
   "id": "698cad42",
   "metadata": {},
   "outputs": [],
   "source": [
    "def unrolledHist(h, obs=[\"pt\", \"eta\"]):\n",
    "    bins = np.multiply(*[len(a) for a in h.axes[:2]])\n",
    "    newh = hist.Hist(hist.axis.Regular(bins, 0, bins), storage=hist.storage.Weight())\n",
    "    newh[...] = np.ravel(h.project(*obs))\n",
    "    return newh"
   ]
  },
  {
   "cell_type": "code",
   "execution_count": 134,
   "id": "dab07617",
   "metadata": {},
   "outputs": [],
   "source": [
    "def makeVariationPlot(chn, variations, obs, xlabel, rrange=[0.9, 1.1], scale=8.5e6):\n",
    "    if type(variations) == str: variations = list(variations)\n",
    "    width=3 if \"unrolled\" in obs else 1\n",
    "    fig = plt.figure(figsize=(8*width,8))\n",
    "    ax1 = fig.add_subplot(4, 1, (1, 3)) \n",
    "    ax2 = fig.add_subplot(4, 1, 4) \n",
    "    \n",
    "    op = lambda x: x.project(obs) \n",
    "    if obs == \"unrolled\":\n",
    "        op = unrolledHist\n",
    "\n",
    "    hists  = [op(wgen[chn]['hist']['nominal']), *[op(wgen[chn]['hist']['vars'][x]) for x in variations]]\n",
    "    colors = [wgen[chn]['color']['nominal'], *wgen[chn]['color']['vars']]\n",
    "    labels = [wgen[chn]['label']['nominal'], *wgen[chn]['label']['vars']]\n",
    "    \n",
    "    hep.histplot(\n",
    "        hists,\n",
    "        histtype = \"step\",\n",
    "        color = colors,\n",
    "        label = labels,\n",
    "        ax = ax1\n",
    "    )\n",
    "    \n",
    "\n",
    "    hep.histplot(\n",
    "        [hh.divideHists(x, hists[0]) for x in hists],\n",
    "        histtype=\"step\",\n",
    "        yerr=False,\n",
    "        color=colors,\n",
    "        ax=ax2\n",
    "    )\n",
    "        \n",
    "    ax1.set_xlabel(\"\")\n",
    "    ax2.set_xlabel(xlabel)\n",
    "    ax1.set_ylabel(\"Events/bin\")\n",
    "    ax1.set_xticklabels([])\n",
    "    xrange = [hists[0].axes[0].edges[0], hists[0].axes[0].edges[len(hists[0].axes[0])-1]]\n",
    "    ax1.set_xlim(xrange)\n",
    "    ax2.set_xlim(xrange)\n",
    "    ax2.set_ylabel(\"variation/nominal\", fontsize=22)\n",
    "    ax2.set_ylim(rrange)\n",
    "    ax1.set_ylim([0, scale])\n",
    "    ax1.legend(prop={'size' : 20*(0.7 if width == 1 else 1.3)}, loc='upper right')"
   ]
  },
  {
   "cell_type": "code",
   "execution_count": 148,
   "id": "3c1d8483",
   "metadata": {},
   "outputs": [
    {
     "data": {
      "text/html": [
       "<html>\n",
       "<div style=\"display:flex; align-items:center;\">\n",
       "<div style=\"width:290px;\">\n",
       "<svg xmlns=\"http://www.w3.org/2000/svg\" viewBox=\"-10 -10 220 220\">\n",
       "<rect x=\"0\" y=\"0\" width=\"160\" height=\"160\" style=\"fill:white;opacity:.5;stroke-width:2;stroke:currentColor;\"/>\n",
       "<rect x=\"20\" y=\"20\" width=\"160\" height=\"160\" style=\"fill:white;opacity:.5;stroke-width:2;stroke:currentColor;\"/>\n",
       "<rect x=\"40\" y=\"40\" width=\"160\" height=\"160\" style=\"fill:white;opacity:.5;stroke-width:2;stroke:currentColor;\"/>\n",
       "<text x=\"120.0\" y=\"120.0\" style=\"font-size: 26pt; font-family: verdana; font-style: bold; fill: black;\" text-anchor=\"middle\" alignment-baseline=\"middle\">\n",
       "7D\n",
       "</text>\n",
       "</svg>\n",
       "</div>\n",
       "<div style=\"flex=grow:1;\">\n",
       "Regular(48, -2.4, 2.4, name='eta', label='eta')<br/>\n",
       "Regular(29, 26, 55, name='pt', label='pt')<br/>\n",
       "Regular(2, -2, 2, underflow=False, overflow=False, name='charge', label='charge')<br/>\n",
       "Boolean(name='passIso', label='passIso')<br/>\n",
       "Boolean(name='passMT', label='passMT')<br/>\n",
       "Variable([0, 2.9, 4.7, 6.7, 9, 11.8, 15.3, 20.1, 27.2, 40.2, 13000], name='genPtV', label='genPtV')<br/>\n",
       "Integer(0, 9, underflow=False, overflow=False, name='tensor_axis_0', label='tensor_axis_0')<br/>\n",
       "<hr style=\"margin-top:.2em; margin-bottom:.2em;\"/>\n",
       "Weight() Σ=WeightedSum(value=9.26394e+08, variance=5.4568e+09) <em>(WeightedSum(value=1.07169e+09, variance=5.76453e+09) with flow)</em>\n",
       "\n",
       "</div>\n",
       "</div>\n",
       "</html>"
      ],
      "text/plain": [
       "Hist(\n",
       "  Regular(48, -2.4, 2.4, name='eta', label='eta'),\n",
       "  Regular(29, 26, 55, name='pt', label='pt'),\n",
       "  Regular(2, -2, 2, underflow=False, overflow=False, name='charge', label='charge'),\n",
       "  Boolean(name='passIso', label='passIso'),\n",
       "  Boolean(name='passMT', label='passMT'),\n",
       "  Variable([0, 2.9, 4.7, 6.7, 9, 11.8, 15.3, 20.1, 27.2, 40.2, 13000], name='genPtV', label='genPtV'),\n",
       "  Integer(0, 9, underflow=False, overflow=False, name='tensor_axis_0', label='tensor_axis_0'),\n",
       "  storage=Weight()) # Sum: WeightedSum(value=9.26394e+08, variance=5.4568e+09) (WeightedSum(value=1.07169e+09, variance=5.76453e+09) with flow)"
      ]
     },
     "execution_count": 148,
     "metadata": {},
     "output_type": "execute_result"
    }
   ],
   "source": [
    "boost.keys()\n",
    "boost['WplusmunuPostVFP']['output']['nominal']"
   ]
  },
  {
   "cell_type": "code",
   "execution_count": 150,
   "id": "49f888d0",
   "metadata": {},
   "outputs": [
    {
     "data": {
      "text/html": [
       "<html>\n",
       "<div style=\"display:flex; align-items:center;\">\n",
       "<div style=\"width:290px;\">\n",
       "<svg xmlns=\"http://www.w3.org/2000/svg\" viewBox=\"-10 -10 220 220\">\n",
       "<rect x=\"0\" y=\"0\" width=\"160\" height=\"160\" style=\"fill:white;opacity:.5;stroke-width:2;stroke:currentColor;\"/>\n",
       "<rect x=\"20\" y=\"20\" width=\"160\" height=\"160\" style=\"fill:white;opacity:.5;stroke-width:2;stroke:currentColor;\"/>\n",
       "<rect x=\"40\" y=\"40\" width=\"160\" height=\"160\" style=\"fill:white;opacity:.5;stroke-width:2;stroke:currentColor;\"/>\n",
       "<text x=\"120.0\" y=\"120.0\" style=\"font-size: 26pt; font-family: verdana; font-style: bold; fill: black;\" text-anchor=\"middle\" alignment-baseline=\"middle\">\n",
       "6D\n",
       "</text>\n",
       "</svg>\n",
       "</div>\n",
       "<div style=\"flex=grow:1;\">\n",
       "Regular(48, -2.4, 2.4, name='eta', label='eta')<br/>\n",
       "Regular(29, 26, 55, name='pt', label='pt')<br/>\n",
       "Regular(2, -2, 2, underflow=False, overflow=False, name='charge', label='charge')<br/>\n",
       "Boolean(name='passIso', label='passIso')<br/>\n",
       "Boolean(name='passMT', label='passMT')<br/>\n",
       "Integer(0, 101, underflow=False, overflow=False, name='tensor_axis_0', label='tensor_axis_0')<br/>\n",
       "<hr style=\"margin-top:.2em; margin-bottom:.2em;\"/>\n",
       "Weight() Σ=WeightedSum(value=1.04696e+10, variance=1.29713e+10) <em>(WeightedSum(value=1.20951e+10, variance=1.48633e+10) with flow)</em>\n",
       "\n",
       "</div>\n",
       "</div>\n",
       "</html>"
      ],
      "text/plain": [
       "Hist(\n",
       "  Regular(48, -2.4, 2.4, name='eta', label='eta'),\n",
       "  Regular(29, 26, 55, name='pt', label='pt'),\n",
       "  Regular(2, -2, 2, underflow=False, overflow=False, name='charge', label='charge'),\n",
       "  Boolean(name='passIso', label='passIso'),\n",
       "  Boolean(name='passMT', label='passMT'),\n",
       "  Integer(0, 101, underflow=False, overflow=False, name='tensor_axis_0', label='tensor_axis_0'),\n",
       "  storage=Weight()) # Sum: WeightedSum(value=1.04696e+10, variance=1.29713e+10) (WeightedSum(value=1.20951e+10, variance=1.48633e+10) with flow)"
      ]
     },
     "execution_count": 150,
     "metadata": {},
     "output_type": "execute_result"
    }
   ],
   "source": [
    "boost['WplusmunuPostVFP']['output']['pdfNNPDF31']"
   ]
  },
  {
   "cell_type": "code",
   "execution_count": 136,
   "id": "69e91c3a",
   "metadata": {},
   "outputs": [
    {
     "name": "stdout",
     "output_type": "stream",
     "text": [
      "0.7361441792334525\n",
      "0.7361441792334525\n",
      "0.7361441792334525\n",
      "0.7361441792334525\n",
      "0.560186807337461\n",
      "0.560186807337461\n",
      "0.560186807337461\n",
      "0.560186807337461\n"
     ]
    }
   ],
   "source": [
    "datagroups = {\n",
    "    \"Data\" : dict(\n",
    "        members = [\"dataPostVFP\"],\n",
    "        color = \"black\",\n",
    "        label = \"Data\",\n",
    "        hist = {},\n",
    "    ),\n",
    "    \"Fake\" : dict(\n",
    "        members = list(boost.keys()),\n",
    "        label = \"Nonprompt\",\n",
    "        color = \"grey\",\n",
    "        hist = {},\n",
    "    ),\n",
    "    \"Zmumu\" : dict(\n",
    "        members = [\"ZmumuPostVFP\"],\n",
    "        label = r\"Z$\\to\\mu\\mu$\",\n",
    "        color = \"lightblue\",\n",
    "        hist = {},\n",
    "    ),   \n",
    "    \"Wtau\" : dict(\n",
    "        members = [\"WminustaunuPostVFP\", \"WplustaunuPostVFP\"],\n",
    "        label = r\"W$^{\\pm}\\to\\tau\\nu$\",\n",
    "        color = \"orange\",\n",
    "        hist = {},\n",
    "    ),\n",
    "    \"W\" : dict(\n",
    "        members = [\"WminusmunuPostVFP\", \"WplusmunuPostVFP\"],\n",
    "        label = r\"W$^{\\pm}\\to\\mu\\nu$\",\n",
    "        color = \"darkred\",\n",
    "        hist = {},\n",
    "    ),\n",
    "    \"Ztt\" : dict(\n",
    "        members = [\"ZtautauPostVFP\"],\n",
    "        label = r\"Z$\\to\\tau\\tau$\",\n",
    "        color = \"darkblue\",\n",
    "        hist = {},\n",
    "    ), \n",
    "    \"Top\" : dict(\n",
    "        members = [\"TTSemileptonicPostVFP\", \"TTLeptonicPostVFP\"],\n",
    "        label = \"Top\",\n",
    "        color = \"green\",\n",
    "        hist = {},\n",
    "    ), \n",
    "    \"Diboson\" : dict(\n",
    "        members = [\"WWPostVFP\"],\n",
    "        label = \"Diboson\",\n",
    "        color = \"pink\",\n",
    "        hist = {},\n",
    "    ), \n",
    "}\n",
    "\n",
    "\n",
    "variations = ['qcdScale', 'pdfNNPDF31', 'muonScaleSyst']\n",
    "variation_labels = ['QCD Scale', 'NNPDF31', 'Muon Scale']\n",
    "variation_colors = ['red', 'green', 'blue']\n",
    "wgen = {\n",
    "    'WminusmunuPostVFP': dict(\n",
    "        label = {\n",
    "            'nominal': r'$W^{-}$ nominal',\n",
    "            'vars': [r'$W^{-}$ ' + x for x in variation_labels]\n",
    "        },\n",
    "        color = {\n",
    "            'nominal': 'black',\n",
    "            'vars': variation_colors\n",
    "        },\n",
    "        hist = {\n",
    "            'nominal': None,\n",
    "            'vars': {}\n",
    "        }\n",
    "    ),\n",
    "    'WplusmunuPostVFP': dict(\n",
    "        label = {\n",
    "            'nominal': r'$W^{+}$ nominal',\n",
    "            'vars': [r'$W^{+}$ ' + x for x in variation_labels]\n",
    "        },\n",
    "        color = {\n",
    "            'nominal': 'black',\n",
    "            'vars': variation_colors\n",
    "        },\n",
    "        hist = {\n",
    "            'nominal': None,\n",
    "            'vars': {}\n",
    "        }\n",
    "    )\n",
    "}\n",
    "\n",
    "\n",
    "for chn, v in wgen.items():\n",
    "    try:\n",
    "        h_nominal = readForDataset(boost, chn)\n",
    "    except ValueError as e:\n",
    "        print(e)\n",
    "        continue\n",
    "    v['hist']['nominal'] = h_nominal\n",
    "    v['hist']['nominal'] = sel.signalHistWmass(v['hist']['nominal'])\n",
    "    \n",
    "    for var in variations:\n",
    "        try:\n",
    "            h_var = readForDataset(boost, chn, histname = var)\n",
    "        except ValueError as e:\n",
    "            print(e)\n",
    "            continue\n",
    "\n",
    "        v['hist']['vars'][var] = h_var\n",
    "        # does not change bin contents\n",
    "        v['hist']['vars'][var] = sel.signalHistWmass(v['hist']['vars'][var])"
   ]
  },
  {
   "cell_type": "code",
   "execution_count": 137,
   "id": "998682b8",
   "metadata": {},
   "outputs": [],
   "source": [
    "#data"
   ]
  },
  {
   "cell_type": "code",
   "execution_count": 138,
   "id": "aad7ec1a",
   "metadata": {},
   "outputs": [
    {
     "data": {
      "image/png": "[encoded data removed]",
      "text/plain": [
       "<Figure size 576x576 with 2 Axes>"
      ]
     },
     "metadata": {
      "needs_background": "light"
     },
     "output_type": "display_data"
    },
    {
     "data": {
      "image/png": "[encoded data removed]",
      "text/plain": [
       "<Figure size 576x576 with 2 Axes>"
      ]
     },
     "metadata": {
      "needs_background": "light"
     },
     "output_type": "display_data"
    }
   ],
   "source": [
    "makeVariationPlot('WminusmunuPostVFP', variations, \"pt\", xlabel=r\"p$_{T}$ (GeV)\", rrange=[0.95, 1.05], scale=5e8)\n",
    "makeVariationPlot('WplusmunuPostVFP', variations, \"pt\", xlabel=r\"p$_{T}$ (GeV)\", rrange=[0.95, 1.05])\n"
   ]
  },
  {
   "cell_type": "code",
   "execution_count": null,
   "id": "a211cd66",
   "metadata": {},
   "outputs": [],
   "source": []
  },
  {
   "cell_type": "code",
   "execution_count": null,
   "id": "3334082b",
   "metadata": {},
   "outputs": [],
   "source": []
  },
  {
   "cell_type": "code",
   "execution_count": null,
   "id": "632ed6a1",
   "metadata": {
    "scrolled": true
   },
   "outputs": [],
   "source": []
  },
  {
   "cell_type": "code",
   "execution_count": null,
   "id": "e0a88902",
   "metadata": {},
   "outputs": [],
   "source": []
  },
  {
   "cell_type": "code",
   "execution_count": null,
   "id": "567cc035",
   "metadata": {},
   "outputs": [],
   "source": []
  }
 ],
 "metadata": {
  "kernelspec": {
   "display_name": "Python 3 (ipykernel)",
   "language": "python",
   "name": "python3"
  },
  "language_info": {
   "codemirror_mode": {
    "name": "ipython",
    "version": 3
   },
   "file_extension": ".py",
   "mimetype": "text/x-python",
   "name": "python",
   "nbconvert_exporter": "python",
   "pygments_lexer": "ipython3",
   "version": "3.10.2"
  }
 },
 "nbformat": 4,
 "nbformat_minor": 5
}
