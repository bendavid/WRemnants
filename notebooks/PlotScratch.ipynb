{
 "cells": [
  {
   "cell_type": "code",
   "execution_count": null,
   "id": "6263e11f",
   "metadata": {},
   "outputs": [],
   "source": [
    "import numpy as np\n",
    "import mplhep as hep\n",
    "import matplotlib.pyplot as plt\n",
    "from wremnants.datasets.datagroups import datagroups2016\n",
    "from wremnants import plotTools\n",
    "import lz4.frame\n",
    "import pickle\n",
    "hep.style.use(hep.style.ROOT)"
   ]
  },
  {
   "cell_type": "code",
   "execution_count": null,
   "id": "396320ae",
   "metadata": {},
   "outputs": [],
   "source": [
    "%load_ext autoreload\n",
    "%autoreload 2"
   ]
  },
  {
   "cell_type": "markdown",
   "id": "69f85907",
   "metadata": {},
   "source": [
    "Convenience class to load the script boost output into a dictionary"
   ]
  },
  {
   "cell_type": "code",
   "execution_count": null,
   "id": "eed507e6",
   "metadata": {},
   "outputs": [],
   "source": [
    "groups = datagroups2016(\"../mw_with_mu_eta_pt.pkl.lz4\")"
   ]
  },
  {
   "cell_type": "code",
   "execution_count": null,
   "id": "da591531",
   "metadata": {},
   "outputs": [],
   "source": [
    "histInfo = groups.datagroupsForHist(\"\", syst=\"nominal\", selectSignal=True, label=\"nominal\")"
   ]
  },
  {
   "cell_type": "code",
   "execution_count": null,
   "id": "b421d8a1",
   "metadata": {},
   "outputs": [],
   "source": [
    "histInfo[\"Data\"]"
   ]
  },
  {
   "cell_type": "code",
   "execution_count": null,
   "id": "01375ac4",
   "metadata": {},
   "outputs": [],
   "source": [
    "prednames = [x for x in histInfo.keys() if x != \"Data\"]\n",
    "prednames"
   ]
  },
  {
   "cell_type": "code",
   "execution_count": null,
   "id": "94717c5f",
   "metadata": {},
   "outputs": [],
   "source": [
    "fig = plotTools.makeStackPlotWithRatio(\"unrolled\", histInfo, prednames, label=\"nominal\", unstacked=\"Data\", xlabel=r\"p$_{T}$ (GeV)\", scale=2e5,rrange=[0.95, 1.05])\n"
   ]
  },
  {
   "cell_type": "code",
   "execution_count": null,
   "id": "3334082b",
   "metadata": {},
   "outputs": [],
   "source": [
    "etafig = plotTools.makePlotWithRatio(\"eta\", histInfo, prednames, \"Data\", scale=1.2e7, xlabel=r\"$\\eta$\", rrange=[0.95, 1.05], action=lambda x: x[0])"
   ]
  },
  {
   "cell_type": "code",
   "execution_count": null,
   "id": "632ed6a1",
   "metadata": {},
   "outputs": [],
   "source": [
    "unrolledFig = plotTools.makePlotWithRatio(\"unrolled\", histInfo, prednames, \"Data\", xlabel=r\"($\\eta^{\\ell}, p_{\\mathrm{T}}^{\\ell})$ bin\", scale=6e5, rrange=[0.9, 1.1])"
   ]
  },
  {
   "cell_type": "code",
   "execution_count": null,
   "id": "403d728b",
   "metadata": {},
   "outputs": [],
   "source": [
    "res = groups.resultsDict()"
   ]
  },
  {
   "cell_type": "code",
   "execution_count": null,
   "id": "125efdce",
   "metadata": {},
   "outputs": [],
   "source": [
    "res[\"WminusmunuPostVFP\"][\"output\"][\"muonScaleSyst\"]"
   ]
  },
  {
   "cell_type": "code",
   "execution_count": null,
   "id": "55b05dad",
   "metadata": {},
   "outputs": [],
   "source": [
    "histInfoSyst = groups.datagroupsForHist(\"muonScaleSyst\", selectSignal=True)"
   ]
  },
  {
   "cell_type": "code",
   "execution_count": null,
   "id": "9174a838",
   "metadata": {},
   "outputs": [],
   "source": [
    "results = groups.resultsDict()\n",
    "'muonScaleSyst' in results[\"WplusmunuPostVFP\"][\"output\"]"
   ]
  }
 ],
 "metadata": {
  "kernelspec": {
   "display_name": "Python 3 (ipykernel)",
   "language": "python",
   "name": "python3"
  },
  "language_info": {
   "codemirror_mode": {
    "name": "ipython",
    "version": 3
   },
   "file_extension": ".py",
   "mimetype": "text/x-python",
   "name": "python",
   "nbconvert_exporter": "python",
   "pygments_lexer": "ipython3",
   "version": "3.10.2"
  }
 },
 "nbformat": 4,
 "nbformat_minor": 5
}
