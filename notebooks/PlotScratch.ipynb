{
 "cells": [
  {
   "cell_type": "code",
   "execution_count": null,
   "id": "e8128239",
   "metadata": {},
   "outputs": [],
   "source": [
    "import hist\n",
    "import numpy as np\n",
    "import mplhep as hep\n",
    "import matplotlib.pyplot as plt\n",
    "from wremnants import boostHistHelpers as hh\n",
    "from wremnants import histselections as sel\n",
    "from wremnants import datasets2016\n",
    "import lz4.frame\n",
    "import pickle\n",
    "hep.style.use(hep.style.ROOT)"
   ]
  },
  {
   "cell_type": "code",
   "execution_count": null,
   "id": "396320ae",
   "metadata": {},
   "outputs": [],
   "source": [
    "%load_ext autoreload\n",
    "%autoreload 2"
   ]
  },
  {
   "cell_type": "code",
   "execution_count": null,
   "id": "eed507e6",
   "metadata": {},
   "outputs": [],
   "source": [
    "with lz4.frame.open(\"../mw_with_mu_eta_pt.pkl.lz4\") as f:\n",
    "    boost = pickle.load(f)"
   ]
  },
  {
   "cell_type": "code",
   "execution_count": null,
   "id": "4ded5a55",
   "metadata": {},
   "outputs": [],
   "source": []
  },
  {
   "cell_type": "code",
   "execution_count": null,
   "id": "31dee726",
   "metadata": {},
   "outputs": [],
   "source": [
    "def readForDataset(output, name, histname=\"nominal\"):\n",
    "    if name not in output:\n",
    "        raise ValueError(f\"Sample {name} not in file\")\n",
    "    lumi = 1. if not \"dataPostVFP\" in output else output[\"dataPostVFP\"][\"lumi\"]*1000\n",
    "    info = output[name]\n",
    "    scale = 1. if output[name][\"dataset\"][\"is_data\"] else \\\n",
    "                lumi*info[\"dataset\"][\"xsec\"]/info[\"weight_sum\"]\n",
    "    return info[\"output\"][histname]*scale"
   ]
  },
  {
   "cell_type": "code",
   "execution_count": null,
   "id": "698cad42",
   "metadata": {},
   "outputs": [],
   "source": [
    "def unrolledHist(h, obs=[\"pt\", \"eta\"]):\n",
    "    bins = np.multiply(*[len(a) for a in h.axes[:2]])\n",
    "    newh = hist.Hist(hist.axis.Regular(bins, 0, bins), storage=hist.storage.Weight())\n",
    "    newh[...] = np.ravel(h.project(*obs))\n",
    "    return newh"
   ]
  },
  {
   "cell_type": "code",
   "execution_count": null,
   "id": "5c1c59ff",
   "metadata": {},
   "outputs": [],
   "source": [
    "def makePlot(datagroups, procs, obs, name, data=None, rrange=[0.9, 1.1], scale=8.5e6):\n",
    "    width=3 if \"unrolled\" in obs else 1\n",
    "    fig = plt.figure(figsize=(8*width,8))\n",
    "    ax1 = fig.add_subplot(4, 1, (1, 3)) \n",
    "    ax2 = fig.add_subplot(4, 1, 4) \n",
    "    \n",
    "    op = lambda x: x.project(obs) \n",
    "    if obs == \"unrolled\":\n",
    "        op = unrolledHist\n",
    "\n",
    "    pred = [op(datagroups[k][\"hist\"]) for k in procs if datagroups[k][\"hist\"]]\n",
    "    colors = [datagroups[k][\"color\"] for k in procs if datagroups[k][\"hist\"]]\n",
    "    labels = [datagroups[k][\"label\"] for k in procs if datagroups[k][\"hist\"]]\n",
    "            \n",
    "    hep.histplot(\n",
    "        pred,\n",
    "        histtype=\"fill\",\n",
    "        color=colors,\n",
    "        label=labels,\n",
    "        stack=True,\n",
    "        ax=ax1\n",
    "    )\n",
    "    \n",
    "    data = datagroups[\"Data\"][\"hist\"]\n",
    "    if data:\n",
    "        data = op(data)\n",
    "        hep.histplot(\n",
    "            data,\n",
    "            histtype=\"errorbar\",\n",
    "            yerr=True, \n",
    "            color=\"black\",\n",
    "            ax=ax1,\n",
    "        )\n",
    "        hep.histplot(\n",
    "            hh.divideHists(data, sum(pred)),\n",
    "            histtype=\"errorbar\",\n",
    "            yerr=False,\n",
    "            color=\"black\",\n",
    "            ax=ax2\n",
    "        )\n",
    "        \n",
    "    ax1.set_xlabel(\"\")\n",
    "    ax2.set_xlabel(name)\n",
    "    ax1.set_ylabel(\"Events/bin\")\n",
    "    ax1.set_xticklabels([])\n",
    "    xrange = [pred[0].axes[0].edges[0], pred[0].axes[0].edges[len(pred[0].axes[0])-1]]\n",
    "    ax1.set_xlim(xrange)\n",
    "    ax2.set_xlim(xrange)\n",
    "    ax2.set_ylabel(\"data/pred.\", fontsize=22)\n",
    "    ax2.set_ylim(rrange)\n",
    "    ax1.set_ylim([0, scale])\n",
    "    ax1.legend(prop={'size' : 20*(0.7 if width == 1 else 1.3)}, ncol=2, loc='upper right')"
   ]
  },
  {
   "cell_type": "code",
   "execution_count": null,
   "id": "1a9f7d9e",
   "metadata": {},
   "outputs": [],
   "source": []
  },
  {
   "cell_type": "code",
   "execution_count": null,
   "id": "99b3b123",
   "metadata": {},
   "outputs": [],
   "source": []
  },
  {
   "cell_type": "code",
   "execution_count": null,
   "id": "3c1d8483",
   "metadata": {},
   "outputs": [],
   "source": [
    "boost.keys()"
   ]
  },
  {
   "cell_type": "markdown",
   "id": "122ece54",
   "metadata": {},
   "source": [
    "pred[0]"
   ]
  },
  {
   "cell_type": "code",
   "execution_count": null,
   "id": "69e91c3a",
   "metadata": {},
   "outputs": [],
   "source": [
    "datagroups = {\n",
    "    \"Data\" : dict(\n",
    "        members = [\"dataPostVFP\"],\n",
    "        color = \"black\",\n",
    "        label = \"Data\",\n",
    "        hist = None,\n",
    "    ),\n",
    "    \"Fake\" : dict(\n",
    "        members = list(boost.keys()),\n",
    "        label = \"Nonprompt\",\n",
    "        color = \"grey\",\n",
    "        hist = None,\n",
    "    ),\n",
    "    \"Zmumu\" : dict(\n",
    "        members = [\"ZmumuPostVFP\"],\n",
    "        label = r\"Z$\\to\\mu\\mu$\",\n",
    "        color = \"lightblue\",\n",
    "        hist = None,\n",
    "    ),   \n",
    "    \"Wtau\" : dict(\n",
    "        members = [\"WminustaunuPostVFP\", \"WplustaunuPostVFP\"],\n",
    "        label = r\"W$^{\\pm}\\to\\tau\\nu$\",\n",
    "        color = \"orange\",\n",
    "        hist = None,\n",
    "    ),\n",
    "    \"W\" : dict(\n",
    "        members = [\"WminusmunuPostVFP\", \"WplusmunuPostVFP\"],\n",
    "        label = r\"W$^{\\pm}\\to\\mu\\nu$\",\n",
    "        color = \"darkred\",\n",
    "        hist = None,\n",
    "    ),\n",
    "    \"Ztt\" : dict(\n",
    "        members = [\"ZtautauPostVFP\"],\n",
    "        label = r\"Z$\\to\\tau\\tau$\",\n",
    "        color = \"darkblue\",\n",
    "        hist = None,\n",
    "    ), \n",
    "    \"Top\" : dict(\n",
    "        members = [\"TTSemileptonicPostVFP\", \"TTLeptonicPostVFP\"],\n",
    "        label = \"Top\",\n",
    "        color = \"green\",\n",
    "        hist = None,\n",
    "    ), \n",
    "    \"Diboson\" : dict(\n",
    "        members = [\"WWPostVFP\"],\n",
    "        label = \"Diboson\",\n",
    "        color = \"pink\",\n",
    "        hist = None,\n",
    "    ), \n",
    "}\n",
    "for k,v in datagroups.items():\n",
    "    for sample in v[\"members\"]:\n",
    "        try:\n",
    "            h = readForDataset(boost, sample)\n",
    "        except ValueError as e:\n",
    "            print(e)\n",
    "            continue\n",
    "        scale = 1 if not (k == \"Fake\" and \"data\" not in sample) else -1\n",
    "        if not v[\"hist\"]:\n",
    "            v[\"hist\"] = h if k != \"Fake\" else h.copy()\n",
    "        else:\n",
    "            v[\"hist\"] += h*scale\n",
    "        if k == \"Fake\":\n",
    "            hnew = hist.Hist(*v[\"hist\"].axes, storage=hist.storage.Weight())\n",
    "            vals = v[\"hist\"].values()\n",
    "            vals[vals<0] = 0\n",
    "            hnew[...] = np.stack((vals, h.variances()), axis=-1)\n",
    "            h = hnew\n",
    "    if v[\"hist\"] and k == \"Fake\":\n",
    "        v[\"hist\"] = sel.fakeHistABCD(v[\"hist\"])\n",
    "    elif v[\"hist\"]:\n",
    "        v[\"hist\"] = sel.signalHistWmass(v[\"hist\"])"
   ]
  },
  {
   "cell_type": "code",
   "execution_count": null,
   "id": "998682b8",
   "metadata": {},
   "outputs": [],
   "source": [
    "data"
   ]
  },
  {
   "cell_type": "code",
   "execution_count": null,
   "id": "aad7ec1a",
   "metadata": {},
   "outputs": [],
   "source": [
    "mcnames = [x for x in boost.keys() if not boost[x][\"dataset\"][\"is_data\"] and x != \"Fake\"]\n",
    "prednames = [x for x in datagroups.keys() if x != \"Data\"]"
   ]
  },
  {
   "cell_type": "code",
   "execution_count": null,
   "id": "a211cd66",
   "metadata": {},
   "outputs": [],
   "source": [
    "makePlot(datagroups, prednames, \"pt\", name=r\"p$_{T}$ (GeV)\", rrange=[0.95, 1.05])"
   ]
  },
  {
   "cell_type": "code",
   "execution_count": null,
   "id": "3334082b",
   "metadata": {},
   "outputs": [],
   "source": [
    "makePlot(datagroups, prednames, \"eta\", scale=5e6, name=r\"$\\eta$\", rrange=[0.95, 1.05])"
   ]
  },
  {
   "cell_type": "code",
   "execution_count": null,
   "id": "632ed6a1",
   "metadata": {},
   "outputs": [],
   "source": [
    "makePlot(datagroups, prednames, \"unrolled\", name=r\"($\\eta^{\\ell}, p_{\\mathrm{T}}^{\\ell})$ bin\", scale=1.5e5, rrange=[0.9, 1.1])"
   ]
  },
  {
   "cell_type": "code",
   "execution_count": null,
   "id": "e0a88902",
   "metadata": {},
   "outputs": [],
   "source": []
  }
 ],
 "metadata": {
  "kernelspec": {
   "display_name": "Python 3 (ipykernel)",
   "language": "python",
   "name": "python3"
  },
  "language_info": {
   "codemirror_mode": {
    "name": "ipython",
    "version": 3
   },
   "file_extension": ".py",
   "mimetype": "text/x-python",
   "name": "python",
   "nbconvert_exporter": "python",
   "pygments_lexer": "ipython3",
   "version": "3.10.1"
  }
 },
 "nbformat": 4,
 "nbformat_minor": 5
}
