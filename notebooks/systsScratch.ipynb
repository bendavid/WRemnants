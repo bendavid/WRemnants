{
 "cells": [
  {
   "cell_type": "code",
   "execution_count": 119,
   "id": "3dfe1779",
   "metadata": {},
   "outputs": [],
   "source": [
    "import mplhep as hep\n",
    "import matplotlib.pyplot as plt\n",
    "from wremnants.datasets.datagroups import datagroups2016\n",
    "from utilities import boostHistHelpers as hh,common\n",
    "from wremnants import plot_tools,syst_tools\n",
    "from wremnants import histselections as sel\n",
    "import hist\n",
    "import narf\n",
    "import numpy as np\n",
    "import pickle,lz4.frame"
   ]
  },
  {
   "cell_type": "code",
   "execution_count": 3,
   "id": "77eb7135",
   "metadata": {},
   "outputs": [],
   "source": [
    "%load_ext autoreload\n",
    "%autoreload 2"
   ]
  },
  {
   "cell_type": "code",
   "execution_count": 193,
   "id": "60aa8024",
   "metadata": {},
   "outputs": [],
   "source": [
    "groups = datagroups2016(\"../mw_with_mu_eta_pt_nnpdf31.pkl.lz4\")\n"
   ]
  },
  {
   "cell_type": "code",
   "execution_count": null,
   "id": "b1d22306",
   "metadata": {},
   "outputs": [],
   "source": [
    "groups.results[\"WplusmunuPostVFP\"][\"output\"].keys()"
   ]
  },
  {
   "cell_type": "code",
   "execution_count": null,
   "id": "2c51580d",
   "metadata": {},
   "outputs": [],
   "source": []
  },
  {
   "cell_type": "code",
   "execution_count": null,
   "id": "f4114925",
   "metadata": {},
   "outputs": [],
   "source": [
    "# This is for reading groups\n",
    "groups.loadHistsForDatagroups(\"nominal\", syst=\"\", procsToRead=[\"Wmunu\"])\n",
    "groups.loadHistsForDatagroups(\"\", syst=\"muonScaleSyst\", procsToRead=[\"Wmunu\"])\n",
    "groups.loadHistsForDatagroups(\"\", syst=\"muonScaleSyst_responseWeights\", procsToRead=[\"Wmunu\"])\n",
    "histInfo = groups.getDatagroups()"
   ]
  },
  {
   "cell_type": "code",
   "execution_count": null,
   "id": "e6879f8c",
   "metadata": {},
   "outputs": [],
   "source": [
    "# This is for reading groups\n",
    "groups.loadHistsForDatagroups(\"nominal\", syst=\"\", procsToRead=[\"Wmunu\"])\n",
    "groups.loadHistsForDatagroups(\"\", syst=\"qcdScaleByHelicity\", procsToRead=[\"Wmunu\"])\n",
    "groups.loadHistsForDatagroups(\"\", syst=\"pdfNNPDF31\", procsToRead=[\"Wmunu\"])\n",
    "groups.loadHistsForDatagroups(\"\", syst=\"pdfMMHT\", procsToRead=[\"Wmunu\"])\n",
    "groups.loadHistsForDatagroups(\"\", syst=\"pdfCT18\", procsToRead=[\"Wmunu\"])\n",
    "histInfo = groups.getDatagroups()"
   ]
  },
  {
   "cell_type": "code",
   "execution_count": null,
   "id": "f9b0bcb9",
   "metadata": {},
   "outputs": [],
   "source": [
    "histInfo[\"Wmunu\"][\"pdfCT18\"]"
   ]
  },
  {
   "cell_type": "code",
   "execution_count": null,
   "id": "d5aad4a2",
   "metadata": {},
   "outputs": [],
   "source": [
    "hh.divideHists(histInfo[\"Wmunu\"][\"pdfMMHT\"][{\"tensor_axis_0\" : 0}].project(\"eta\"), histInfo[\"Wmunu\"][\"nominal\"].project(\"eta\")).plot(label=\"MMHT14\")\n",
    "hh.divideHists(histInfo[\"Wmunu\"][\"pdfCT18\"][{\"tensor_axis_0\" : 0}].project(\"eta\"), histInfo[\"Wmunu\"][\"nominal\"].project(\"eta\")).plot(label=\"CT18\")\n",
    "plt.legend()\n",
    "plt.ylim([0.95, 1.05])\n"
   ]
  },
  {
   "cell_type": "code",
   "execution_count": null,
   "id": "87f3e00b",
   "metadata": {},
   "outputs": [],
   "source": [
    "hh.divideHists(histInfo[\"Wmunu\"][\"pdfMMHT\"][{\"tensor_axis_0\" : 0}].project(\"pt\"), histInfo[\"Wmunu\"][\"nominal\"].project(\"pt\")).plot(label=\"MMHT14\")\n",
    "hh.divideHists(histInfo[\"Wmunu\"][\"pdfCT18\"][{\"tensor_axis_0\" : 0}].project(\"pt\"), histInfo[\"Wmunu\"][\"nominal\"].project(\"pt\")).plot(label=\"CT18\")\n",
    "plt.legend()\n",
    "plt.ylim([0.95, 1.05])\n"
   ]
  },
  {
   "cell_type": "code",
   "execution_count": null,
   "id": "5e3ebc57",
   "metadata": {},
   "outputs": [],
   "source": [
    "hscaleUp = procDict[\"Wmunu\"][\"muonScaleSyst\"][{\"downUpVar\" : 1, \"scaleEtaSlice\" : 1.j}]\n",
    "hscaleDown = procDict[\"Wmunu\"][\"muonScaleSyst\"][{\"downUpVar\" : 0, \"scaleEtaSlice\" : 1.j}]"
   ]
  },
  {
   "cell_type": "code",
   "execution_count": null,
   "id": "ca4fe1f4",
   "metadata": {},
   "outputs": [],
   "source": [
    "hnom = procDict[\"Wmunu\"][\"nominal\"]\n",
    "# Can also read specific samples by accessing the original \n",
    "hnomminus = groups.results[\"WminusmunuPostVFP\"][\"output\"][\"nominal\"]"
   ]
  },
  {
   "cell_type": "code",
   "execution_count": null,
   "id": "5331bc6e",
   "metadata": {},
   "outputs": [],
   "source": [
    "hscaleUp.project(\"pt\").plot()"
   ]
  },
  {
   "cell_type": "code",
   "execution_count": null,
   "id": "8adff4c3",
   "metadata": {},
   "outputs": [],
   "source": [
    "hh.divideHists(hscaleUp.project(\"pt\"), hnom.project(\"pt\")).plot()\n",
    "hh.divideHists(hscaleDown.project(\"pt\"), hnom.project(\"pt\")).plot()\n",
    "plt.ylim([0.995, 1.005])"
   ]
  },
  {
   "cell_type": "code",
   "execution_count": null,
   "id": "124f6db5",
   "metadata": {},
   "outputs": [],
   "source": [
    "combine = datagroups2016(\"../temp/WMassCombineInput.root\")"
   ]
  },
  {
   "cell_type": "code",
   "execution_count": null,
   "id": "a9cb0a83",
   "metadata": {},
   "outputs": [],
   "source": [
    "procs = combine.datagroupsForHist(\"x_Wmunu_plus\", label=\"nominal\")\n",
    "procs = combine.datagroupsForHist(\"x_Wmunu_CMS_scale_m_ieta0Up_plus\", label=\"scaleEta0Up\")\n",
    "procs = combine.datagroupsForHist(\"x_Wmunu_CMS_scale_m_ieta0Down_plus\", label=\"scaleEta0Down\")\n",
    "procs = combine.datagroupsForHist(\"x_Wmunu_pdf1NNPDF31Up_plus\", label=\"pdf1Up\")\n",
    "procs = combine.datagroupsForHist(\"x_Wmunu_pdf1NNPDF31Down_plus\", label=\"pdf1Down\")"
   ]
  },
  {
   "cell_type": "code",
   "execution_count": null,
   "id": "793bb1d9",
   "metadata": {},
   "outputs": [],
   "source": [
    "hh.divideHists(procs[\"Wmunu\"][\"scaleEta0Up\"], procs[\"Wmunu\"][\"nominal\"]).plot()\n",
    "hh.divideHists(procs[\"Wmunu\"][\"scaleEta0Down\"], procs[\"Wmunu\"][\"nominal\"]).plot()\n",
    "#plt.ylim([0.99, 1.01])"
   ]
  },
  {
   "cell_type": "code",
   "execution_count": null,
   "id": "99c44990",
   "metadata": {},
   "outputs": [],
   "source": [
    "hmirror = hh.mirrorHist(hnom, procs[\"Wmunu\"][\"pdf1Up\"])"
   ]
  },
  {
   "cell_type": "code",
   "execution_count": null,
   "id": "75401183",
   "metadata": {},
   "outputs": [],
   "source": [
    "hh.divideHists(procs[\"Wmunu\"][\"pdf1Up\"].project(\"pt\"),procs[\"Wmunu\"][\"nominal\"].project(\"pt\")).plot()\n",
    "hh.divideHists(procs[\"Wmunu\"][\"pdf1Down\"].project(\"pt\"),procs[\"Wmunu\"][\"nominal\"].project(\"pt\")).plot()\n",
    "plt.ylim([0.99, 1.01])"
   ]
  },
  {
   "cell_type": "code",
   "execution_count": null,
   "id": "b3637959",
   "metadata": {},
   "outputs": [],
   "source": [
    "hists = [sel.unrolledHist(h) for h in [procs[\"Wmunu\"][\"nominal\"], procs[\"Wmunu\"][\"scaleEta0Up\"], procs[\"Wmunu\"][\"scaleEta0Down\"]]]\n",
    "#hists = [h.project(\"pt\") for h in [procs[\"Wmunu\"][\"nominal\"], procs[\"Wmunu\"][\"pdf1Up\"], procs[\"Wmunu\"][\"pdf1Down\"]]]\n",
    "colors = [\"black\", \"red\", \"pink\"]\n",
    "labels = [\"nominal\", \"scaleEta0Up\", \"scaleEta0Down\"]\n",
    "\n",
    "fig = plotTools.makePlotsWithRatioToRef(hists, labels, colors, xlabel=r\"($\\eta$, p$_{T}$) bin\", scale=1e5,rrange=[0.998, 1.002])\n"
   ]
  },
  {
   "cell_type": "code",
   "execution_count": null,
   "id": "5a0b8369",
   "metadata": {},
   "outputs": [],
   "source": [
    "hists = [sel.unrolledHist(h) for h in [procs[\"Wmunu\"][\"nominal\"], procs[\"Wmunu\"][\"pdf1Up\"], procs[\"Wmunu\"][\"pdf1Down\"]]]\n",
    "colors = [\"black\", \"red\", \"pink\"]\n",
    "labels = [\"nominal\", \"pdf1Up\", \"pdf1Down\"]\n",
    "\n",
    "fig = plotTools.makePlotsWithRatioToRef(hists, labels, colors, xlabel=r\"($\\eta$, p$_{T}$) bin\", scale=1e5,rrange=[0.995, 1.005])\n"
   ]
  },
  {
   "cell_type": "code",
   "execution_count": null,
   "id": "d42cadd1",
   "metadata": {},
   "outputs": [],
   "source": [
    "histInfo = groups.getDatagroups()\n",
    "groups.loadHistsForDatagroups(\"nominal\", syst=\"\", selectSignal=True, label=\"nominal\", procsToRead=[\"Wmunu\"])"
   ]
  },
  {
   "cell_type": "code",
   "execution_count": null,
   "id": "85a102ba",
   "metadata": {},
   "outputs": [],
   "source": [
    "groups.loadHistsForDatagroups(\"\", syst=\"qcdScaleByHelicity\", selectSignal=True, label=\"qcdScaleByHelicity\", procsToRead=[\"Wmunu\"], forceNonzero=False)"
   ]
  },
  {
   "cell_type": "code",
   "execution_count": null,
   "id": "cda22cbf",
   "metadata": {},
   "outputs": [],
   "source": [
    "histInfo[\"Wmunu\"][\"qcdScaleByHelicity\"]"
   ]
  },
  {
   "cell_type": "code",
   "execution_count": null,
   "id": "6173775a",
   "metadata": {},
   "outputs": [],
   "source": [
    "histInfo[\"Wmunu\"][\"qcdScaleByHelicitySum\"] = syst_tools.scale_helicity_hist_to_variations(histInfo[\"Wmunu\"][\"qcdScaleByHelicity\"])"
   ]
  },
  {
   "cell_type": "code",
   "execution_count": null,
   "id": "b69d9b27",
   "metadata": {},
   "outputs": [],
   "source": [
    "s = hist.tag.Slicer()\n",
    "hVarNom = histInfo[\"Wmunu\"][\"qcdScaleByHelicity\"][{\"ptVgen\" : s[::hist.sum], \"chargeVgen\" : s[::hist.sum], \"helicity\" : s[::hist.sum], \"muRfact\" : s[1.j], \"muFfact\" : s[1.j] }]\n"
   ]
  },
  {
   "cell_type": "code",
   "execution_count": null,
   "id": "e1b313f8",
   "metadata": {},
   "outputs": [],
   "source": [
    "selections = [{\"muRfact\" : hist.loc(j), \"muFfact\" : hist.loc(j), \"helicity\" : i, \"ptVgen\" : 0, \"chargeVgen\" : -1j} for i in range(2) for j in [0.5,1.,2.]]\n",
    "names = [f\"muR{j}_muF{j}_hel_sigma{i}_ptVgen0_minus\" for i in range(2) for j in [0.5,1.,2.]]"
   ]
  },
  {
   "cell_type": "code",
   "execution_count": null,
   "id": "02273d63",
   "metadata": {},
   "outputs": [],
   "source": [
    "hists = [sel.unrolledHist(histInfo[\"Wmunu\"][\"nominal\"])]\n",
    "hists.extend([sel.unrolledHist(histInfo[\"Wmunu\"][\"qcdScaleByHelicitySum\"][s]) for s in selections])\n",
    "labels = [\"nominal\"]+names\n",
    "colors = [\"black\", \"blue\", \"purple\", \"green\", \"pink\", \"orange\", \"lightblue\"]"
   ]
  },
  {
   "cell_type": "code",
   "execution_count": null,
   "id": "17714b8c",
   "metadata": {},
   "outputs": [],
   "source": [
    "hists = [histInfo[\"Wmunu\"][\"nominal\"].project(\"pt\")]\n",
    "hists.extend([histInfo[\"Wmunu\"][\"qcdScaleByHelicitySum\"][s].project(\"pt\") for s in selections])"
   ]
  },
  {
   "cell_type": "code",
   "execution_count": null,
   "id": "fc07186e",
   "metadata": {},
   "outputs": [],
   "source": []
  },
  {
   "cell_type": "code",
   "execution_count": null,
   "id": "46a77ecd",
   "metadata": {},
   "outputs": [],
   "source": []
  },
  {
   "cell_type": "code",
   "execution_count": null,
   "id": "0ed0a771",
   "metadata": {},
   "outputs": [],
   "source": [
    "fig = plot_tools.makePlotWithRatioToRef(hists, labels, colors, xlabel=r\"p$_{T}$ (GeV)\", ymax=3e7,rrange=[0.99, 1.01])"
   ]
  },
  {
   "cell_type": "code",
   "execution_count": null,
   "id": "645ff78b",
   "metadata": {},
   "outputs": [],
   "source": [
    "selections = [{\"muRfact\" : 1.j, \"muFfact\" : 1.j, \"helicity\" : i} for i in range(9)]\n",
    "#histInfo[\"Wmunu\"][\"qcdScaleByHelicity\"] = syst_tools.scale_helicity_hist_to_variations(histInfo[\"Wmunu\"][\"qcdScaleByHelicity\"], sum_ptV=True)\n",
    "hists = [sel.unrolledHist(histInfo[\"Wmunu\"][\"nominal\"])]\n",
    "hists.extend([sel.unrolledHist(histInfo[\"Wmunu\"][\"qcdScaleByHelicity\"][s]) for s in selections])\n",
    "labels = [\"nominal\"]+[f\"$sigma_{i-1}$*angular\" if i != 0 else \"$\\sigma_\\mathrm{UL}$\" for i in range(9)]\n",
    "colors = [\"black\", \"blue\", \"purple\", \"green\", \"pink\", \"orange\", \"lightblue\", \"red\", \"lightgreen\", \"yellow\"]\n",
    "print(len(hists), len(labels), len(colors))\n",
    "fig = plot_tools.makePlotWithRatioToRef(hists, labels, colors, xlabel=r\"($\\eta_{\\ell}$, p$_{T}$) bin\", ymax=8e6,rrange=[-0.2, 1.5])\n",
    "fig.get_axes()[0].set_ylim([-1e4, 1.8e5])"
   ]
  },
  {
   "cell_type": "code",
   "execution_count": null,
   "id": "9cafbd46",
   "metadata": {},
   "outputs": [],
   "source": [
    "angular = [\n",
    "    r\"(1+\\cos^{2}\\theta)\",\n",
    "    r\"(1-3\\cos^{2}\\theta)\",\n",
    "    r\"\\sin2\\theta\\cos\\phi\",\n",
    "    r\"\\sin^{2}\\theta\",\n",
    "    r\"\\sin\\theta\\cos\\phi\",\n",
    "    r\"\\cos\\phi\",\n",
    "    r\"\\sin^{2}\\theta\\sin2\\theta\",\n",
    "    r\"\\sin2\\theta\\sin\\phi\",\n",
    "    r\"\\sin\\theta\\sin\\phi\",\n",
    "]"
   ]
  },
  {
   "cell_type": "code",
   "execution_count": null,
   "id": "ba965d68",
   "metadata": {},
   "outputs": [],
   "source": []
  },
  {
   "cell_type": "code",
   "execution_count": null,
   "id": "fa28da8f",
   "metadata": {},
   "outputs": [],
   "source": [
    "selections = [{\"muRfact\" : 1.j, \"muFfact\" : 1.j, \"helicity\" : i} for i in range(9)]\n",
    "#histInfo[\"Wmunu\"][\"qcdScaleByHelicity\"] = syst_tools.scale_helicity_hist_to_variations(histInfo[\"Wmunu\"][\"qcdScaleByHelicity\"], sum_ptV=True)\n",
    "hists = [sel.unrolledHist(histInfo[\"Wmunu\"][\"nominal\"])]\n",
    "hists.extend([sel.unrolledHist(histInfo[\"Wmunu\"][\"qcdScaleByHelicity\"][s]) for s in selections])\n",
    "labels = [\"nominal\"]+[\"$\\sigma_{%i}%s$\" % (i-1, angular[i]) for i in range(0,9)]\n",
    "colors = [\"black\", \"blue\", \"purple\", \"green\", \"pink\", \"orange\", \"lightblue\", \"red\", \"lightgreen\", \"yellow\"]\n",
    "print(len(hists), len(labels), len(colors))\n",
    "fig = plot_tools.makePlotWithRatioToRef(hists, labels, colors, xlabel=r\"($\\eta_{\\ell}$, p$_{T}$) bin\", ymax=8e6,rrange=[0.9, 1.1], rlabel=\"$x/\\sigma_{total}$\")\n",
    "fig.get_axes()[0].set_ylim([-1e4, 1.8e5])"
   ]
  },
  {
   "cell_type": "code",
   "execution_count": null,
   "id": "0198fa08",
   "metadata": {},
   "outputs": [],
   "source": [
    "selections = [{\"muRfact\" : 1.j, \"muFfact\" : 1.j, \"helicity\" : i} for i in range(9)]\n",
    "hists = [sel.unrolledHist(histInfo[\"Wmunu\"][\"nominal\"])]\n",
    "hists.extend([sel.unrolledHist(histInfo[\"Wmunu\"][\"qcdScaleByHelicity\"][s]) for s in selections])\n",
    "labels = [\"nominal\"]+[\"$\\sigma_{%i}%s$\" % (i-1, angular[i]) for i in range(0,9)]\n",
    "colors = [\"black\", \"blue\", \"purple\", \"green\", \"pink\", \"orange\", \"lightblue\", \"red\", \"lightgreen\", \"yellow\"]\n",
    "print(len(hists), len(labels), len(colors))\n",
    "fig = plot_tools.makePlotWithRatioToRef(hists, labels, colors, xlabel=r\"($\\eta_{\\ell}$, p$_{T}$) bin\", ymax=8e6,rrange=[-0.05, 0.1])\n",
    "fig.get_axes()[0].set_ylim([-1e4, 1.8e5])"
   ]
  },
  {
   "cell_type": "code",
   "execution_count": null,
   "id": "a0e890ed",
   "metadata": {},
   "outputs": [],
   "source": [
    "histInfo[\"Wmunu\"][\"qcdScaleByHelicity\"]"
   ]
  },
  {
   "cell_type": "code",
   "execution_count": null,
   "id": "5f6a158e",
   "metadata": {},
   "outputs": [],
   "source": [
    "histInfo[\"Wmunu\"][\"nominal\"].project(\"pt\").plot()\n",
    "histInfo[\"Wmunu\"][\"qcdScaleByHelicity\"][{\"muRfact\" : 1.j, \"muFfact\" : 1.j}].project(\"pt\").plot()"
   ]
  },
  {
   "cell_type": "code",
   "execution_count": null,
   "id": "f881f4cc",
   "metadata": {},
   "outputs": [],
   "source": []
  },
  {
   "cell_type": "code",
   "execution_count": null,
   "id": "578aba24",
   "metadata": {},
   "outputs": [],
   "source": []
  },
  {
   "cell_type": "code",
   "execution_count": null,
   "id": "b7ff1a78",
   "metadata": {},
   "outputs": [],
   "source": [
    "print(groups.results[\"WminusmunuPostVFP\"][\"output\"][\"nominal\"].sum(flow=True))\n",
    "print(groups.results[\"WminusmunuPostVFP\"][\"output\"][\"qcdScale\"][{\"muRfact\" : 1.j, \"muFfact\" : 1.j}].sum(flow=True))\n"
   ]
  },
  {
   "cell_type": "code",
   "execution_count": null,
   "id": "b669a3d0",
   "metadata": {},
   "outputs": [],
   "source": [
    "groups.results[\"WminusmunuPostVFP\"][\"output\"][\"nominal\"].project(\"pt\").plot(label=\"nominal\")\n",
    "groups.results[\"WminusmunuPostVFP\"][\"output\"][\"qcdScaleByHelicity\"][{\"muRfact\" : 1.j, \"muFfact\" : 1.j}].project(\"pt\").plot()\n",
    "plt.legend()"
   ]
  },
  {
   "cell_type": "code",
   "execution_count": null,
   "id": "8a2189e6",
   "metadata": {},
   "outputs": [],
   "source": [
    "groups.results[\"WplusmunuPostVFP\"][\"output\"][\"nominal\"].project(\"pt\").plot(label=\"nominal\")\n",
    "groups.results[\"WplusmunuPostVFP\"][\"output\"][\"qcdScaleByHelicity\"][{\"muRfact\" : 1.j, \"muFfact\" : 1.j}].project(\"pt\").plot()\n",
    "plt.legend()"
   ]
  },
  {
   "cell_type": "code",
   "execution_count": null,
   "id": "dffd6ef4",
   "metadata": {},
   "outputs": [],
   "source": [
    "groups.results[\"WminusmunuPostVFP\"][\"output\"][\"qcdScaleByHelicity\"]"
   ]
  },
  {
   "cell_type": "code",
   "execution_count": null,
   "id": "989e9fa4",
   "metadata": {},
   "outputs": [],
   "source": [
    "#groups.results[\"WplusmunuPostVFP\"][\"output\"][\"qcdScaleByHelicity\"]\n",
    "groups.results[\"WminusmunuPostVFP\"][\"output\"][\"qcdScaleByHelicity\"]"
   ]
  },
  {
   "cell_type": "code",
   "execution_count": null,
   "id": "18608c02",
   "metadata": {},
   "outputs": [],
   "source": [
    "orig = groups.results[\"WplusmunuPostVFP\"][\"output\"][\"qcdScaleByHelicity\"].copy()\n",
    "orig"
   ]
  },
  {
   "cell_type": "code",
   "execution_count": null,
   "id": "5be40d5f",
   "metadata": {},
   "outputs": [],
   "source": [
    "orig_sum = orig +  groups.results[\"WminusmunuPostVFP\"][\"output\"][\"qcdScaleByHelicity\"]"
   ]
  },
  {
   "cell_type": "code",
   "execution_count": 195,
   "id": "be920f42",
   "metadata": {},
   "outputs": [
    {
     "name": "stdout",
     "output_type": "stream",
     "text": [
      "---> applying custom operation for proc WplusmunuPostVFP group Wmunu\n",
      "    Before WeightedSum(value=8.05569e+08, variance=1.20407e+09) ('eta', 'pt', 'charge', 'passIso', 'passMT', 'ptVgen', 'chargeVgen', 'helicity', 'muRfact', 'muFfact')\n",
      "    Before central value WeightedSum(value=8.9784e+07, variance=1.01559e+08)\n",
      "Hist(\n",
      "  Regular(48, -2.4, 2.4, name='eta', label='eta'),\n",
      "  Regular(29, 26, 55, name='pt', label='pt'),\n",
      "  Regular(2, -2, 2, underflow=False, overflow=False, name='charge', label='charge'),\n",
      "  Boolean(name='passIso', label='passIso'),\n",
      "  Boolean(name='passMT', label='passMT'),\n",
      "  Variable([0, 2, 3, 4, 5, 6, 7, 8, 9, 10, 12, 14, 16, 18, 20, 23, 27, 32, 40, 55, 100], underflow=False, name='ptVgen', label='ptVgen'),\n",
      "  Regular(2, -2, 2, underflow=False, overflow=False, name='chargeVgen', label='chargeVgen'),\n",
      "  Integer(-1, 8, underflow=False, overflow=False, name='helicity', label='helicity'),\n",
      "  Variable([0.25, 0.75, 1.25, 2.75], underflow=False, overflow=False, name='muRfact', label='muRfact'),\n",
      "  Variable([0.25, 0.75, 1.25, 2.75], underflow=False, overflow=False, name='muFfact', label='muFfact'),\n",
      "  storage=Weight()) # Sum: WeightedSum(value=6.95144e+08, variance=1.06259e+09) (WeightedSum(value=8.05569e+08, variance=1.20407e+09) with flow)\n",
      "    central value WeightedSum(value=1.79568e+08, variance=4.06238e+08)\n",
      "+Now sum is WeightedSum(value=1.61362e+09, variance=3.94618e+09) after WplusmunuPostVFP\n",
      "    The central value is WeightedSum(value=1.79568e+08, variance=4.06238e+08)\n"
     ]
    }
   ],
   "source": [
    "groups.loadHistsForDatagroups(\"nominal\", syst=\"qcdScaleByHelicity\", procsToRead=[\"Wmunu\"], forceNonzero=False, selectSignal=False,\n",
    "    preOpMap={x : syst_tools.scale_helicity_hist_to_variations for x in common.vprocs},\n",
    "    preOpArgs={\"sum_axis\" : [ \"helicity\", \"ptVgen\",]})"
   ]
  },
  {
   "cell_type": "code",
   "execution_count": 272,
   "id": "6e2849d0",
   "metadata": {},
   "outputs": [
    {
     "name": "stdout",
     "output_type": "stream",
     "text": [
      "---> applying custom operation for proc ZmumuPostVFP group Zmumu\n",
      "    Before WeightedSum(value=1.15654e+08, variance=2.03013e+08) ('eta', 'pt', 'charge', 'passIso', 'passMT', 'ptVgen', 'chargeVgen', 'helicity', 'muRfact', 'muFfact')\n",
      "    Before central value WeightedSum(value=1.288e+07, variance=1.81318e+07)\n",
      "Hist(\n",
      "  Regular(48, -2.4, 2.4, name='eta', label='eta'),\n",
      "  Regular(29, 26, 55, name='pt', label='pt'),\n",
      "  Regular(2, -2, 2, underflow=False, overflow=False, name='charge', label='charge'),\n",
      "  Boolean(name='passIso', label='passIso'),\n",
      "  Boolean(name='passMT', label='passMT'),\n",
      "  Variable([0, 2, 3, 4, 5, 6, 7, 8, 9, 10, 12, 14, 16, 18, 20, 23, 27, 32, 40, 55, 100], underflow=False, name='ptVgen', label='ptVgen'),\n",
      "  Regular(2, -2, 2, underflow=False, overflow=False, name='chargeVgen', label='chargeVgen'),\n",
      "  Integer(-1, 8, underflow=False, overflow=False, name='helicity', label='helicity'),\n",
      "  Variable([0.25, 0.75, 1.25, 2.75], underflow=False, overflow=False, name='muRfact', label='muRfact'),\n",
      "  Variable([0.25, 0.75, 1.25, 2.75], underflow=False, overflow=False, name='muFfact', label='muFfact'),\n",
      "  storage=Weight()) # Sum: WeightedSum(value=9.64828e+07, variance=1.7053e+08) (WeightedSum(value=1.15654e+08, variance=2.03013e+08) with flow)\n",
      "    central value WeightedSum(value=2.3184e+08, variance=3.62636e+08)\n",
      "+Now sum is WeightedSum(value=2.0863e+09, variance=3.30355e+09) after ZmumuPostVFP\n",
      "    The central value is WeightedSum(value=2.3184e+08, variance=3.62636e+08)\n"
     ]
    }
   ],
   "source": [
    "groups.loadHistsForDatagroups(\"nominal\", syst=\"qcdScaleByHelicity\", procsToRead=[\"Zmumu\"], forceNonzero=False, selectSignal=False,               \n",
    "    preOpMap={x : syst_tools.scale_helicity_hist_to_variations for x in common.vprocs},\n",
    "    preOpArgs={\"sum_axis\" : [\"ptVgen\",]})"
   ]
  },
  {
   "cell_type": "code",
   "execution_count": 322,
   "id": "e0d24d0d",
   "metadata": {},
   "outputs": [
    {
     "name": "stdout",
     "output_type": "stream",
     "text": [
      "-> Adding WeightedSum(value=1.61493e+08, variance=1.61493e+08)\n",
      "+Now sum is WeightedSum(value=1.61493e+08, variance=1.61493e+08) after dataPostVFP\n",
      "-> Adding WeightedSum(value=-7.26107e+07, variance=7.20293e+07)\n",
      "+Now sum is WeightedSum(value=8.88824e+07, variance=2.33522e+08) after WplusmunuPostVFP\n",
      "-> Adding WeightedSum(value=-5.62563e+07, variance=5.47208e+07)\n",
      "+Now sum is WeightedSum(value=3.26261e+07, variance=2.88243e+08) after WminusmunuPostVFP\n",
      "-> Adding WeightedSum(value=-2.18549e+06, variance=435505)\n",
      "+Now sum is WeightedSum(value=3.04406e+07, variance=2.88679e+08) after WplustaunuPostVFP\n",
      "-> Adding WeightedSum(value=-1.82772e+06, variance=1.89654e+06)\n",
      "+Now sum is WeightedSum(value=2.86129e+07, variance=2.90575e+08) after WminustaunuPostVFP\n",
      "-> Adding WeightedSum(value=-5.42896e+06, variance=2.97692e+06)\n",
      "+Now sum is WeightedSum(value=2.31839e+07, variance=2.93552e+08) after ZmumuPostVFP\n",
      "-> Adding WeightedSum(value=-558717, variance=103914)\n",
      "+Now sum is WeightedSum(value=2.26252e+07, variance=2.93656e+08) after ZtautauPostVFP\n",
      "-> Adding WeightedSum(value=-212234, variance=8092.18)\n",
      "+Now sum is WeightedSum(value=2.2413e+07, variance=2.93664e+08) after TTLeptonicPostVFP\n",
      "-> Adding WeightedSum(value=-1.07547e+06, variance=50788)\n",
      "+Now sum is WeightedSum(value=2.13375e+07, variance=2.93715e+08) after TTSemileptonicPostVFP\n",
      "-> Adding WeightedSum(value=-9445.24, variance=279.366)\n",
      "+Now sum is WeightedSum(value=2.13281e+07, variance=2.93715e+08) after SingleTschanLepDecaysPostVFP\n",
      "-> Adding WeightedSum(value=-60930, variance=6012.66)\n",
      "+Now sum is WeightedSum(value=2.12672e+07, variance=2.93721e+08) after SingleTtWAntitopPostVFP\n",
      "-> Adding WeightedSum(value=-68216.7, variance=3064.49)\n",
      "+Now sum is WeightedSum(value=2.11989e+07, variance=2.93724e+08) after SingleTtchanAntitopPostVFP\n",
      "-> Adding WeightedSum(value=-108683, variance=4342.9)\n",
      "+Now sum is WeightedSum(value=2.10903e+07, variance=2.93729e+08) after SingleTtchanTopPostVFP\n",
      "-> Adding WeightedSum(value=-113174, variance=10001.3)\n",
      "+Now sum is WeightedSum(value=2.09771e+07, variance=2.93739e+08) after WWPostVFP\n",
      "-> Adding WeightedSum(value=-25543.7, variance=1716.71)\n",
      "+Now sum is WeightedSum(value=2.09515e+07, variance=2.9374e+08) after WZPostVFP\n",
      "-> Adding WeightedSum(value=-487.335, variance=0.320196)\n",
      "+Now sum is WeightedSum(value=2.0951e+07, variance=2.9374e+08) after ZZ2l2nuPostVFP\n",
      "***Finally sum is WeightedSum(value=4.97632e+06, variance=2.94862e+07) for proc Fake\n"
     ]
    }
   ],
   "source": [
    "groups.loadHistsForDatagroups(\"nominal\", syst=\"\", procsToRead=[\"Fake\",], selectSignal=True, forceNonzero=False)"
   ]
  },
  {
   "cell_type": "code",
   "execution_count": 347,
   "id": "dda4554c",
   "metadata": {},
   "outputs": [
    {
     "name": "stdout",
     "output_type": "stream",
     "text": [
      "-> Adding WeightedSum(value=1.61493e+08, variance=1.61493e+08)\n",
      "+Now sum is WeightedSum(value=1.61493e+08, variance=1.61493e+08) after dataPostVFP\n",
      "-> Adding WeightedSum(value=-3.04946e+09, variance=3.1689e+09)\n",
      "+Now sum central val is WeightedSum(value=3.73325e+09, variance=9.95161e+09) after WplusmunuPostVFP\n",
      "-> Adding WeightedSum(value=-2.36262e+09, variance=2.40742e+09)\n",
      "+Now sum central val is WeightedSum(value=1.37063e+09, variance=1.2359e+10) after WminusmunuPostVFP\n",
      "-> Adding WeightedSum(value=-9.17851e+07, variance=1.91599e+07)\n",
      "+Now sum central val is WeightedSum(value=1.27884e+09, variance=1.23782e+10) after WplustaunuPostVFP\n",
      "-> Adding WeightedSum(value=-7.67594e+07, variance=8.34377e+07)\n",
      "+Now sum central val is WeightedSum(value=1.20208e+09, variance=1.24616e+10) after WminustaunuPostVFP\n",
      "-> Adding WeightedSum(value=-2.28016e+08, variance=1.30984e+08)\n",
      "+Now sum central val is WeightedSum(value=9.74066e+08, variance=1.25926e+10) after ZmumuPostVFP\n",
      "-> Adding WeightedSum(value=-2.34661e+07, variance=4.57221e+06)\n",
      "+Now sum central val is WeightedSum(value=9.506e+08, variance=1.25972e+10) after ZtautauPostVFP\n",
      "-> Adding WeightedSum(value=-212234, variance=8092.18)\n",
      "+Now sum central val is WeightedSum(value=9.41686e+08, variance=1.25975e+10) after TTLeptonicPostVFP\n",
      "-> Adding WeightedSum(value=-1.07547e+06, variance=50788)\n",
      "+Now sum central val is WeightedSum(value=8.96516e+08, variance=1.25997e+10) after TTSemileptonicPostVFP\n",
      "-> Adding WeightedSum(value=-9445.24, variance=279.366)\n",
      "+Now sum central val is WeightedSum(value=8.9612e+08, variance=1.25997e+10) after SingleTschanLepDecaysPostVFP\n",
      "-> Adding WeightedSum(value=-60930, variance=6012.66)\n",
      "+Now sum central val is WeightedSum(value=8.9356e+08, variance=1.25999e+10) after SingleTtWAntitopPostVFP\n",
      "-> Adding WeightedSum(value=-68216.7, variance=3064.49)\n",
      "+Now sum central val is WeightedSum(value=8.90695e+08, variance=1.26001e+10) after SingleTtchanAntitopPostVFP\n",
      "-> Adding WeightedSum(value=-108683, variance=4342.9)\n",
      "+Now sum central val is WeightedSum(value=8.86131e+08, variance=1.26002e+10) after SingleTtchanTopPostVFP\n",
      "-> Adding WeightedSum(value=-113174, variance=10001.3)\n",
      "+Now sum central val is WeightedSum(value=8.81377e+08, variance=1.26007e+10) after WWPostVFP\n",
      "-> Adding WeightedSum(value=-25543.7, variance=1716.71)\n",
      "+Now sum central val is WeightedSum(value=8.80305e+08, variance=1.26007e+10) after WZPostVFP\n",
      "-> Adding WeightedSum(value=-487.335, variance=0.320196)\n",
      "+Now sum central val is WeightedSum(value=8.80284e+08, variance=1.26007e+10) after ZZ2l2nuPostVFP\n",
      "***Finally sum is WeightedSum(value=1.88099e+09, variance=1.12865e+10) for proc Fake\n"
     ]
    }
   ],
   "source": [
    "groups.loadHistsForDatagroups(\"nominal\", syst=\"qcdScale\", procsToRead=[\"Fake\",], forceNonzero=False, selectSignal=True,\n",
    "    preOpMap={x : syst_tools.scale_helicity_hist_to_variations for x in common.vprocs},\n",
    "                             )#preOpArgs={\"sum_axis\" : [\"ptVgen\"]})"
   ]
  },
  {
   "cell_type": "code",
   "execution_count": 241,
   "id": "c3532a1b",
   "metadata": {},
   "outputs": [],
   "source": [
    "res = groups.getDatagroups()"
   ]
  },
  {
   "cell_type": "code",
   "execution_count": 351,
   "id": "f4dcf6b7",
   "metadata": {},
   "outputs": [
    {
     "data": {
      "text/plain": [
       "Hist(\n",
       "  Regular(48, -2.4, 2.4, name='eta', label='eta'),\n",
       "  Regular(29, 26, 55, name='pt', label='pt'),\n",
       "  Regular(2, -2, 2, underflow=False, overflow=False, name='charge', label='charge'),\n",
       "  storage=Weight()) # Sum: WeightedSum(value=3.63373e+06, variance=2.2648e+07) (WeightedSum(value=4.9768e+06, variance=2.97148e+07) with flow)"
      ]
     },
     "execution_count": 351,
     "metadata": {},
     "output_type": "execute_result"
    }
   ],
   "source": [
    "res[\"Fake\"][\"qcdScale\"][{\"muRfact\" : 1.j, \"muFfact\" : 1.j, \"ptVgen\" : 10, \"chargeVgen\" : -1.j}]"
   ]
  },
  {
   "cell_type": "code",
   "execution_count": 350,
   "id": "cdad10f8",
   "metadata": {},
   "outputs": [
    {
     "data": {
      "text/plain": [
       "Hist(\n",
       "  Regular(48, -2.4, 2.4, name='eta', label='eta'),\n",
       "  Regular(29, 26, 55, name='pt', label='pt'),\n",
       "  Regular(2, -2, 2, underflow=False, overflow=False, name='charge', label='charge'),\n",
       "  storage=Weight()) # Sum: WeightedSum(value=3.63338e+06, variance=2.24412e+07) (WeightedSum(value=4.97632e+06, variance=2.94862e+07) with flow)"
      ]
     },
     "execution_count": 350,
     "metadata": {},
     "output_type": "execute_result"
    }
   ],
   "source": [
    "res[\"Fake\"][\"nominal\"]"
   ]
  },
  {
   "cell_type": "code",
   "execution_count": 353,
   "id": "a7c59d57",
   "metadata": {},
   "outputs": [
    {
     "data": {
      "text/plain": [
       "(0.9, 1.1)"
      ]
     },
     "execution_count": 353,
     "metadata": {},
     "output_type": "execute_result"
    },
    {
     "data": {
      "image/png": "[encoded data removed]",
      "text/plain": [
       "<Figure size 720x720 with 1 Axes>"
      ]
     },
     "metadata": {
      "needs_background": "light"
     },
     "output_type": "display_data"
    }
   ],
   "source": [
    "hh.divideHists(res[\"Fake\"][\"qcdScale\"][{\"muRfact\" : 0.5j, \"muFfact\" : 0.5j, \"ptVgen\" :1, \"chargeVgen\" : 1.j}].project(\"pt\"),\n",
    "    res[\"Fake\"][\"nominal\"].project(\"pt\")).plot()\n",
    "hh.divideHists(res[\"Fake\"][\"qcdScale\"][{\"muRfact\" : 2j, \"muFfact\" : 2j, \"ptVgen\" :1, \"chargeVgen\" : 1.j}].project(\"pt\"),\n",
    "    res[\"Fake\"][\"nominal\"].project(\"pt\")).plot()\n",
    "plt.ylim([0.9, 1.1])"
   ]
  },
  {
   "cell_type": "code",
   "execution_count": 326,
   "id": "af0faebe",
   "metadata": {},
   "outputs": [
    {
     "data": {
      "text/plain": [
       "[StairsArtists(stairs=<matplotlib.patches.StepPatch object at 0x7f82b690e560>, errorbar=<ErrorbarContainer object of 3 artists>, legend_artist=<ErrorbarContainer object of 3 artists>)]"
      ]
     },
     "execution_count": 326,
     "metadata": {},
     "output_type": "execute_result"
    },
    {
     "data": {
      "image/png": "[encoded data removed]",
      "text/plain": [
       "<Figure size 720x720 with 1 Axes>"
      ]
     },
     "metadata": {
      "needs_background": "light"
     },
     "output_type": "display_data"
    }
   ],
   "source": [
    "res[\"Fake\"][\"qcdScaleByHelicity\"][{\"muRfact\" : 2j, \"muFfact\" : 2j}].project(\"pt\").plot()\n",
    "res[\"Fake\"][\"nominal\"].project(\"pt\").plot()\n",
    "\n"
   ]
  },
  {
   "cell_type": "code",
   "execution_count": 212,
   "id": "6b992769",
   "metadata": {},
   "outputs": [],
   "source": [
    "read = pickle.load(lz4.frame.open(\"../mw_with_mu_eta_pt_nnpdf31.pkl.lz4\", \"rb\"))"
   ]
  },
  {
   "cell_type": "code",
   "execution_count": 135,
   "id": "3ec0e48f",
   "metadata": {},
   "outputs": [
    {
     "name": "stdout",
     "output_type": "stream",
     "text": [
      "WeightedSum(value=7.75587e+07, variance=8.8242e+07)\n",
      "WeightedSum(value=7.29225e+07, variance=8.45409e+07)\n"
     ]
    }
   ],
   "source": [
    "print(res[\"WplusmunuPostVFP\"][\"output\"][\"qcdScaleByHelicity\"][{\"helicity\" : s[::hist.sum], \"muRfact\" : 1.j, \"muFfact\" :1.j}].sum())\n",
    "print(res[\"WplusmunuPostVFP\"][\"output\"][\"qcdScaleByHelicity\"][{\"helicity\" : -1.j, \"muRfact\" : -1.j, \"muFfact\" :1.j,}].sum())"
   ]
  },
  {
   "cell_type": "code",
   "execution_count": 171,
   "id": "5259df03",
   "metadata": {},
   "outputs": [
    {
     "data": {
      "text/plain": [
       "Hist(\n",
       "  Regular(48, -2.4, 2.4, name='eta', label='eta'),\n",
       "  Regular(29, 26, 55, name='pt', label='pt'),\n",
       "  Regular(2, -2, 2, underflow=False, overflow=False, name='charge', label='charge'),\n",
       "  Boolean(name='passIso', label='passIso'),\n",
       "  Boolean(name='passMT', label='passMT'),\n",
       "  storage=Weight()) # Sum: WeightedSum(value=7.81358e+07, variance=8.74671e+07) (WeightedSum(value=8.96738e+07, variance=9.97315e+07) with flow)"
      ]
     },
     "execution_count": 171,
     "metadata": {},
     "output_type": "execute_result"
    }
   ],
   "source": [
    "groups.results[\"WplusmunuPostVFP\"][\"output\"][\"qcdScaleByHelicity\"][{\"chargeVgen\" : s[::hist.sum], \"ptVgen\" : s[::hist.sum], \"helicity\" : s[::hist.sum], \"muRfact\" : -1.j, \"muFfact\" :1.j,}]"
   ]
  },
  {
   "cell_type": "code",
   "execution_count": 227,
   "id": "0a119021",
   "metadata": {},
   "outputs": [
    {
     "data": {
      "text/plain": [
       "Hist(\n",
       "  Regular(48, -2.4, 2.4, name='eta', label='eta'),\n",
       "  Regular(29, 26, 55, name='pt', label='pt'),\n",
       "  Regular(2, -2, 2, underflow=False, overflow=False, name='charge', label='charge'),\n",
       "  Boolean(name='passIso', label='passIso'),\n",
       "  Boolean(name='passMT', label='passMT'),\n",
       "  storage=Weight()) # Sum: WeightedSum(value=7.80283e+07, variance=9.64282e+07) (WeightedSum(value=8.97894e+07, variance=1.10144e+08) with flow)"
      ]
     },
     "execution_count": 227,
     "metadata": {},
     "output_type": "execute_result"
    }
   ],
   "source": [
    "groups.results[\"WplusmunuPostVFP\"][\"output\"][\"nominal\"]"
   ]
  },
  {
   "cell_type": "code",
   "execution_count": 253,
   "id": "781a8061",
   "metadata": {},
   "outputs": [
    {
     "data": {
      "text/plain": [
       "Hist(\n",
       "  Regular(48, -2.4, 2.4, name='eta', label='eta'),\n",
       "  Regular(29, 26, 55, name='pt', label='pt'),\n",
       "  Regular(2, -2, 2, underflow=False, overflow=False, name='charge', label='charge'),\n",
       "  Boolean(name='passIso', label='passIso'),\n",
       "  Boolean(name='passMT', label='passMT'),\n",
       "  storage=Weight()) # Sum: WeightedSum(value=7.80235e+07, variance=8.91069e+07) (WeightedSum(value=8.9784e+07, variance=1.0192e+08) with flow)"
      ]
     },
     "execution_count": 253,
     "metadata": {},
     "output_type": "execute_result"
    }
   ],
   "source": [
    "res[\"Wmunu\"][\"qcdScaleByHelicity\"][{\"chargeVgen\" : 1.j, \"muRfact\" : 1j, \"muFfact\" : 1j, \"helicity\" : 4.j, \"ptVgen\" : 1}]"
   ]
  },
  {
   "cell_type": "code",
   "execution_count": 264,
   "id": "7e8ebfcf",
   "metadata": {},
   "outputs": [
    {
     "data": {
      "text/plain": [
       "(0.96, 1.04)"
      ]
     },
     "execution_count": 264,
     "metadata": {},
     "output_type": "execute_result"
    },
    {
     "data": {
      "image/png": "[encoded data removed]",
      "text/plain": [
       "<Figure size 720x720 with 1 Axes>"
      ]
     },
     "metadata": {
      "needs_background": "light"
     },
     "output_type": "display_data"
    }
   ],
   "source": [
    "for i in range(8):\n",
    "    hh.divideHists(res[\"Wmunu\"][\"qcdScaleByHelicity\"][{\"chargeVgen\" : 1.j, \"muRfact\" : 2j, \"muFfact\" : 2j, \"helicity\" : i, }].project(\"pt\"),\n",
    "    groups.results[\"WplusmunuPostVFP\"][\"output\"][\"nominal\"].project(\"pt\")).plot()\n",
    "    hh.divideHists(res[\"Wmunu\"][\"qcdScaleByHelicity\"][{\"chargeVgen\" : 1.j, \"muRfact\" : 0.5j, \"muFfact\" : 0.5j, \"helicity\" : i, }].project(\"pt\"),\n",
    "    groups.results[\"WplusmunuPostVFP\"][\"output\"][\"nominal\"].project(\"pt\")).plot()\n",
    "plt.ylim([0.96, 1.04])"
   ]
  },
  {
   "cell_type": "code",
   "execution_count": 367,
   "id": "48fcc9f0",
   "metadata": {},
   "outputs": [
    {
     "name": "stdout",
     "output_type": "stream",
     "text": [
      "WeightedSum(value=1.75766e+06, variance=1.16929e+07)\n",
      "WeightedSum(value=1.87572e+06, variance=1.07484e+07)\n"
     ]
    }
   ],
   "source": [
    "print(res[\"Fake\"][\"nominal\"][{\"charge\" : 1.j}].sum())\n",
    "print(res[\"Fake\"][\"nominal\"][{\"charge\" : -1.j}].sum())"
   ]
  },
  {
   "cell_type": "code",
   "execution_count": 382,
   "id": "41db46a9",
   "metadata": {},
   "outputs": [
    {
     "data": {
      "text/plain": [
       "20"
      ]
     },
     "execution_count": 382,
     "metadata": {},
     "output_type": "execute_result"
    }
   ],
   "source": [
    "res[\"Fake\"][\"qcdScale\"].axes[\"ptVgen\"].size"
   ]
  },
  {
   "cell_type": "code",
   "execution_count": 398,
   "id": "14a61799",
   "metadata": {},
   "outputs": [],
   "source": [
    "import uproot\n",
    "combf = uproot.open(\"../test/WMassCombineInput.root\")"
   ]
  },
  {
   "cell_type": "code",
   "execution_count": 399,
   "id": "51749c15",
   "metadata": {},
   "outputs": [
    {
     "name": "stdout",
     "output_type": "stream",
     "text": [
      "WeightedSum(value=1.75766e+06, variance=0)\n",
      "WeightedSum(value=1.87572e+06, variance=0)\n"
     ]
    }
   ],
   "source": [
    "print(combf[\"x_Fake_plus\"].to_hist().sum())\n",
    "print(combf[\"x_Fake_minus\"].to_hist().sum())"
   ]
  },
  {
   "cell_type": "code",
   "execution_count": 400,
   "id": "b593887d",
   "metadata": {},
   "outputs": [],
   "source": [
    "refm = combf[\"x_Fake_minus\"].to_hist().sum().value\n",
    "refp = combf[\"x_Fake_plus\"].to_hist().sum().value"
   ]
  },
  {
   "cell_type": "code",
   "execution_count": 405,
   "id": "ccf14482",
   "metadata": {},
   "outputs": [
    {
     "data": {
      "text/plain": [
       "20"
      ]
     },
     "execution_count": 405,
     "metadata": {},
     "output_type": "execute_result"
    }
   ],
   "source": [
    "res[\"Fake\"][\"qcdScale\"].axes[\"ptVgen\"].size"
   ]
  },
  {
   "cell_type": "code",
   "execution_count": 407,
   "id": "54751dc2",
   "metadata": {},
   "outputs": [
    {
     "name": "stdout",
     "output_type": "stream",
     "text": [
      "Q= minus bin 0 0.9999868455309749\n",
      "Q= minus bin 1 0.9999883002805192\n",
      "Q= minus bin 2 0.9999875925950494\n",
      "Q= minus bin 3 0.9999872253225376\n",
      "Q= minus bin 4 0.9999872829623453\n",
      "Q= minus bin 5 0.9999871210157846\n",
      "Q= minus bin 6 0.9999870499896456\n",
      "Q= minus bin 7 0.9999869456337404\n",
      "Q= minus bin 8 0.9999883524529881\n",
      "Q= minus bin 9 0.9999902317386176\n"
     ]
    },
    {
     "ename": "KeyInFileError",
     "evalue": "not found: 'x_Fake_QCDscale_genVplusgenPtV0muRmuFDown_plus' (with any cycle number)\n\n    Available keys: 'x_Fake_QCDscale_gengenVplusgenPtV0muRmuFDown_plus;1', 'x_Fake_QCDscale_genVminusgenPtV0muRmuFDown_plus;1', 'x_Fake_QCDscale_gengenVplusgenPtV1muRmuFDown_plus;1', 'x_Fake_QCDscale_gengenVplusgenPtV2muRmuFDown_plus;1'...\n\nin file ../test/WMassCombineInput.root",
     "output_type": "error",
     "traceback": [
      "\u001b[0;31m---------------------------------------------------------------------------\u001b[0m",
      "\u001b[0;31mKeyInFileError\u001b[0m                            Traceback (most recent call last)",
      "Input \u001b[0;32mIn [407]\u001b[0m, in \u001b[0;36m<cell line: 1>\u001b[0;34m()\u001b[0m\n\u001b[1;32m      1\u001b[0m \u001b[38;5;28;01mfor\u001b[39;00m c \u001b[38;5;129;01min\u001b[39;00m [\u001b[38;5;124m\"\u001b[39m\u001b[38;5;124mminus\u001b[39m\u001b[38;5;124m\"\u001b[39m, \u001b[38;5;124m\"\u001b[39m\u001b[38;5;124mplus\u001b[39m\u001b[38;5;124m\"\u001b[39m]:\n\u001b[1;32m      2\u001b[0m     \u001b[38;5;28;01mfor\u001b[39;00m i \u001b[38;5;129;01min\u001b[39;00m \u001b[38;5;28mrange\u001b[39m(\u001b[38;5;241m0\u001b[39m,\u001b[38;5;28mint\u001b[39m(res[\u001b[38;5;124m\"\u001b[39m\u001b[38;5;124mFake\u001b[39m\u001b[38;5;124m\"\u001b[39m][\u001b[38;5;124m\"\u001b[39m\u001b[38;5;124mqcdScale\u001b[39m\u001b[38;5;124m\"\u001b[39m]\u001b[38;5;241m.\u001b[39maxes[\u001b[38;5;124m\"\u001b[39m\u001b[38;5;124mptVgen\u001b[39m\u001b[38;5;124m\"\u001b[39m]\u001b[38;5;241m.\u001b[39msize\u001b[38;5;241m/\u001b[39m\u001b[38;5;241m2\u001b[39m)):\n\u001b[0;32m----> 3\u001b[0m         \u001b[38;5;28mprint\u001b[39m(\u001b[38;5;124m\"\u001b[39m\u001b[38;5;124mQ=\u001b[39m\u001b[38;5;124m\"\u001b[39m, c, \u001b[38;5;124m\"\u001b[39m\u001b[38;5;124mbin\u001b[39m\u001b[38;5;124m\"\u001b[39m, i, \u001b[43mcombf\u001b[49m\u001b[43m[\u001b[49m\u001b[38;5;124;43mf\u001b[39;49m\u001b[38;5;124;43m\"\u001b[39;49m\u001b[38;5;124;43mx_Fake_QCDscale_genV\u001b[39;49m\u001b[38;5;132;43;01m{\u001b[39;49;00m\u001b[43mc\u001b[49m\u001b[38;5;132;43;01m}\u001b[39;49;00m\u001b[38;5;124;43mgenPtV\u001b[39;49m\u001b[38;5;132;43;01m{\u001b[39;49;00m\u001b[43mi\u001b[49m\u001b[38;5;132;43;01m}\u001b[39;49;00m\u001b[38;5;124;43mmuRmuFDown_plus\u001b[39;49m\u001b[38;5;124;43m\"\u001b[39;49m\u001b[43m]\u001b[49m\u001b[38;5;241m.\u001b[39mto_hist()\u001b[38;5;241m.\u001b[39msum()\u001b[38;5;241m.\u001b[39mvalue\u001b[38;5;241m/\u001b[39mrefp)\n",
      "File \u001b[0;32m/opt/venv/lib/python3.10/site-packages/uproot/reading.py:2096\u001b[0m, in \u001b[0;36mReadOnlyDirectory.__getitem__\u001b[0;34m(self, where)\u001b[0m\n\u001b[1;32m   2093\u001b[0m     \u001b[38;5;28;01mreturn\u001b[39;00m step\n\u001b[1;32m   2095\u001b[0m \u001b[38;5;28;01melse\u001b[39;00m:\n\u001b[0;32m-> 2096\u001b[0m     \u001b[38;5;28;01mreturn\u001b[39;00m \u001b[38;5;28;43mself\u001b[39;49m\u001b[38;5;241;43m.\u001b[39;49m\u001b[43mkey\u001b[49m\u001b[43m(\u001b[49m\u001b[43mwhere\u001b[49m\u001b[43m)\u001b[49m\u001b[38;5;241m.\u001b[39mget()\n",
      "File \u001b[0;32m/opt/venv/lib/python3.10/site-packages/uproot/reading.py:2046\u001b[0m, in \u001b[0;36mReadOnlyDirectory.key\u001b[0;34m(self, where)\u001b[0m\n\u001b[1;32m   2044\u001b[0m     \u001b[38;5;28;01mreturn\u001b[39;00m last\n\u001b[1;32m   2045\u001b[0m \u001b[38;5;28;01melif\u001b[39;00m cycle \u001b[38;5;129;01mis\u001b[39;00m \u001b[38;5;28;01mNone\u001b[39;00m:\n\u001b[0;32m-> 2046\u001b[0m     \u001b[38;5;28;01mraise\u001b[39;00m uproot\u001b[38;5;241m.\u001b[39mKeyInFileError(\n\u001b[1;32m   2047\u001b[0m         item, cycle\u001b[38;5;241m=\u001b[39m\u001b[38;5;124m\"\u001b[39m\u001b[38;5;124many\u001b[39m\u001b[38;5;124m\"\u001b[39m, keys\u001b[38;5;241m=\u001b[39m\u001b[38;5;28mself\u001b[39m\u001b[38;5;241m.\u001b[39mkeys(), file_path\u001b[38;5;241m=\u001b[39m\u001b[38;5;28mself\u001b[39m\u001b[38;5;241m.\u001b[39m_file\u001b[38;5;241m.\u001b[39mfile_path\n\u001b[1;32m   2048\u001b[0m     )\n\u001b[1;32m   2049\u001b[0m \u001b[38;5;28;01melse\u001b[39;00m:\n\u001b[1;32m   2050\u001b[0m     \u001b[38;5;28;01mraise\u001b[39;00m uproot\u001b[38;5;241m.\u001b[39mKeyInFileError(\n\u001b[1;32m   2051\u001b[0m         item, cycle\u001b[38;5;241m=\u001b[39mcycle, keys\u001b[38;5;241m=\u001b[39m\u001b[38;5;28mself\u001b[39m\u001b[38;5;241m.\u001b[39mkeys(), file_path\u001b[38;5;241m=\u001b[39m\u001b[38;5;28mself\u001b[39m\u001b[38;5;241m.\u001b[39m_file\u001b[38;5;241m.\u001b[39mfile_path\n\u001b[1;32m   2052\u001b[0m     )\n",
      "\u001b[0;31mKeyInFileError\u001b[0m: not found: 'x_Fake_QCDscale_genVplusgenPtV0muRmuFDown_plus' (with any cycle number)\n\n    Available keys: 'x_Fake_QCDscale_gengenVplusgenPtV0muRmuFDown_plus;1', 'x_Fake_QCDscale_genVminusgenPtV0muRmuFDown_plus;1', 'x_Fake_QCDscale_gengenVplusgenPtV1muRmuFDown_plus;1', 'x_Fake_QCDscale_gengenVplusgenPtV2muRmuFDown_plus;1'...\n\nin file ../test/WMassCombineInput.root"
     ]
    }
   ],
   "source": [
    "for c in [\"minus\", \"plus\"]:\n",
    "    for i in range(0,int(res[\"Fake\"][\"qcdScale\"].axes[\"ptVgen\"].size/2)):\n",
    "        print(\"Q=\", c, \"bin\", i, combf[f\"x_Fake_QCDscale_genV{c}genPtV{i}muRmuFDown_plus\"].to_hist().sum().value/refp)"
   ]
  }
 ],
 "metadata": {
  "kernelspec": {
   "display_name": "Python 3 (ipykernel)",
   "language": "python",
   "name": "python3"
  },
  "language_info": {
   "codemirror_mode": {
    "name": "ipython",
    "version": 3
   },
   "file_extension": ".py",
   "mimetype": "text/x-python",
   "name": "python",
   "nbconvert_exporter": "python",
   "pygments_lexer": "ipython3",
   "version": "3.10.2"
  }
 },
 "nbformat": 4,
 "nbformat_minor": 5
}
