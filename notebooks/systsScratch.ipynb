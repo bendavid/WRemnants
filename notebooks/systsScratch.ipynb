{
 "cells": [
  {
   "cell_type": "code",
   "execution_count": null,
   "id": "3dfe1779",
   "metadata": {},
   "outputs": [],
   "source": [
    "import mplhep as hep\n",
    "import matplotlib.pyplot as plt\n",
    "from wremnants.datasets.datagroups import datagroups2016\n",
    "from wremnants import boostHistHelpers as hh\n",
    "from wremnants import plot_tools,syst_tools\n",
    "from wremnants import histselections as sel\n",
    "import hist\n",
    "import narf\n",
    "import numpy as np"
   ]
  },
  {
   "cell_type": "code",
   "execution_count": null,
   "id": "77eb7135",
   "metadata": {},
   "outputs": [],
   "source": [
    "%load_ext autoreload\n",
    "%autoreload 2"
   ]
  },
  {
   "cell_type": "code",
   "execution_count": null,
   "id": "60aa8024",
   "metadata": {},
   "outputs": [],
   "source": [
    "groups = datagroups2016(\"../mw_with_mu_eta_pt_pdfNNPDF31_scetlibCorr.pkl.lz4\")\n"
   ]
  },
  {
   "cell_type": "code",
   "execution_count": null,
   "id": "b1d22306",
   "metadata": {},
   "outputs": [],
   "source": [
    "groups.results[\"WplusmunuPostVFP\"][\"output\"].keys()"
   ]
  },
  {
   "cell_type": "code",
   "execution_count": null,
   "id": "f4114925",
   "metadata": {},
   "outputs": [],
   "source": [
    "# This is for reading groups\n",
    "groups.loadHistsForDatagroups(\"nominal\", syst=\"\", procsToRead=[\"Wmunu\"])\n",
    "groups.loadHistsForDatagroups(\"\", syst=\"muonScaleSyst\", procsToRead=[\"Wmunu\"])\n",
    "groups.loadHistsForDatagroups(\"\", syst=\"muonScaleSyst_responseWeights\", procsToRead=[\"Wmunu\"])\n",
    "histInfo = groups.getDatagroups()"
   ]
  },
  {
   "cell_type": "code",
   "execution_count": null,
   "id": "e6879f8c",
   "metadata": {},
   "outputs": [],
   "source": [
    "# This is for reading groups\n",
    "groups.loadHistsForDatagroups(\"nominal\", syst=\"\", procsToRead=[\"Wmunu\"])\n",
    "groups.loadHistsForDatagroups(\"\", syst=\"qcdScaleByHelicity\", procsToRead=[\"Wmunu\"])\n",
    "groups.loadHistsForDatagroups(\"\", syst=\"pdfNNPDF31\", procsToRead=[\"Wmunu\"])\n",
    "groups.loadHistsForDatagroups(\"\", syst=\"pdfMMHT\", procsToRead=[\"Wmunu\"])\n",
    "groups.loadHistsForDatagroups(\"\", syst=\"pdfCT18\", procsToRead=[\"Wmunu\"])\n",
    "histInfo = groups.getDatagroups()"
   ]
  },
  {
   "cell_type": "code",
   "execution_count": null,
   "id": "f9b0bcb9",
   "metadata": {},
   "outputs": [],
   "source": [
    "histInfo[\"Wmunu\"][\"pdfCT18\"]"
   ]
  },
  {
   "cell_type": "code",
   "execution_count": null,
   "id": "d5aad4a2",
   "metadata": {},
   "outputs": [],
   "source": [
    "hh.divideHists(histInfo[\"Wmunu\"][\"pdfMMHT\"][{\"tensor_axis_0\" : 0}].project(\"eta\"), histInfo[\"Wmunu\"][\"nominal\"].project(\"eta\")).plot(label=\"MMHT14\")\n",
    "hh.divideHists(histInfo[\"Wmunu\"][\"pdfCT18\"][{\"tensor_axis_0\" : 0}].project(\"eta\"), histInfo[\"Wmunu\"][\"nominal\"].project(\"eta\")).plot(label=\"CT18\")\n",
    "plt.legend()\n",
    "plt.ylim([0.95, 1.05])\n"
   ]
  },
  {
   "cell_type": "code",
   "execution_count": null,
   "id": "87f3e00b",
   "metadata": {},
   "outputs": [],
   "source": [
    "hh.divideHists(histInfo[\"Wmunu\"][\"pdfMMHT\"][{\"tensor_axis_0\" : 0}].project(\"pt\"), histInfo[\"Wmunu\"][\"nominal\"].project(\"pt\")).plot(label=\"MMHT14\")\n",
    "hh.divideHists(histInfo[\"Wmunu\"][\"pdfCT18\"][{\"tensor_axis_0\" : 0}].project(\"pt\"), histInfo[\"Wmunu\"][\"nominal\"].project(\"pt\")).plot(label=\"CT18\")\n",
    "plt.legend()\n",
    "plt.ylim([0.95, 1.05])\n"
   ]
  },
  {
   "cell_type": "code",
   "execution_count": null,
   "id": "5e3ebc57",
   "metadata": {},
   "outputs": [],
   "source": [
    "hscaleUp = procDict[\"Wmunu\"][\"muonScaleSyst\"][{\"downUpVar\" : 1, \"scaleEtaSlice\" : 1.j}]\n",
    "hscaleDown = procDict[\"Wmunu\"][\"muonScaleSyst\"][{\"downUpVar\" : 0, \"scaleEtaSlice\" : 1.j}]"
   ]
  },
  {
   "cell_type": "code",
   "execution_count": null,
   "id": "ca4fe1f4",
   "metadata": {},
   "outputs": [],
   "source": [
    "hnom = procDict[\"Wmunu\"][\"nominal\"]\n",
    "# Can also read specific samples by accessing the original \n",
    "hnomminus = groups.results[\"WminusmunuPostVFP\"][\"output\"][\"nominal\"]"
   ]
  },
  {
   "cell_type": "code",
   "execution_count": null,
   "id": "5331bc6e",
   "metadata": {},
   "outputs": [],
   "source": [
    "hscaleUp.project(\"pt\").plot()"
   ]
  },
  {
   "cell_type": "code",
   "execution_count": null,
   "id": "8adff4c3",
   "metadata": {},
   "outputs": [],
   "source": [
    "hh.divideHists(hscaleUp.project(\"pt\"), hnom.project(\"pt\")).plot()\n",
    "hh.divideHists(hscaleDown.project(\"pt\"), hnom.project(\"pt\")).plot()\n",
    "plt.ylim([0.995, 1.005])"
   ]
  },
  {
   "cell_type": "code",
   "execution_count": null,
   "id": "124f6db5",
   "metadata": {},
   "outputs": [],
   "source": [
    "combine = datagroups2016(\"../temp/WMassCombineInput.root\")"
   ]
  },
  {
   "cell_type": "code",
   "execution_count": null,
   "id": "a9cb0a83",
   "metadata": {},
   "outputs": [],
   "source": [
    "procs = combine.datagroupsForHist(\"x_Wmunu_plus\", label=\"nominal\")\n",
    "procs = combine.datagroupsForHist(\"x_Wmunu_CMS_scale_m_ieta0Up_plus\", label=\"scaleEta0Up\")\n",
    "procs = combine.datagroupsForHist(\"x_Wmunu_CMS_scale_m_ieta0Down_plus\", label=\"scaleEta0Down\")\n",
    "procs = combine.datagroupsForHist(\"x_Wmunu_pdf1NNPDF31Up_plus\", label=\"pdf1Up\")\n",
    "procs = combine.datagroupsForHist(\"x_Wmunu_pdf1NNPDF31Down_plus\", label=\"pdf1Down\")"
   ]
  },
  {
   "cell_type": "code",
   "execution_count": null,
   "id": "793bb1d9",
   "metadata": {},
   "outputs": [],
   "source": [
    "hh.divideHists(procs[\"Wmunu\"][\"scaleEta0Up\"], procs[\"Wmunu\"][\"nominal\"]).plot()\n",
    "hh.divideHists(procs[\"Wmunu\"][\"scaleEta0Down\"], procs[\"Wmunu\"][\"nominal\"]).plot()\n",
    "#plt.ylim([0.99, 1.01])"
   ]
  },
  {
   "cell_type": "code",
   "execution_count": null,
   "id": "99c44990",
   "metadata": {},
   "outputs": [],
   "source": [
    "hmirror = hh.mirrorHist(hnom, procs[\"Wmunu\"][\"pdf1Up\"])"
   ]
  },
  {
   "cell_type": "code",
   "execution_count": null,
   "id": "75401183",
   "metadata": {},
   "outputs": [],
   "source": [
    "hh.divideHists(procs[\"Wmunu\"][\"pdf1Up\"].project(\"pt\"),procs[\"Wmunu\"][\"nominal\"].project(\"pt\")).plot()\n",
    "hh.divideHists(procs[\"Wmunu\"][\"pdf1Down\"].project(\"pt\"),procs[\"Wmunu\"][\"nominal\"].project(\"pt\")).plot()\n",
    "plt.ylim([0.99, 1.01])"
   ]
  },
  {
   "cell_type": "code",
   "execution_count": null,
   "id": "b3637959",
   "metadata": {},
   "outputs": [],
   "source": [
    "hists = [sel.unrolledHist(h) for h in [procs[\"Wmunu\"][\"nominal\"], procs[\"Wmunu\"][\"scaleEta0Up\"], procs[\"Wmunu\"][\"scaleEta0Down\"]]]\n",
    "#hists = [h.project(\"pt\") for h in [procs[\"Wmunu\"][\"nominal\"], procs[\"Wmunu\"][\"pdf1Up\"], procs[\"Wmunu\"][\"pdf1Down\"]]]\n",
    "colors = [\"black\", \"red\", \"pink\"]\n",
    "labels = [\"nominal\", \"scaleEta0Up\", \"scaleEta0Down\"]\n",
    "\n",
    "fig = plotTools.makePlotsWithRatioToRef(hists, labels, colors, xlabel=r\"($\\eta$, p$_{T}$) bin\", scale=1e5,rrange=[0.998, 1.002])\n"
   ]
  },
  {
   "cell_type": "code",
   "execution_count": null,
   "id": "5a0b8369",
   "metadata": {},
   "outputs": [],
   "source": [
    "hists = [sel.unrolledHist(h) for h in [procs[\"Wmunu\"][\"nominal\"], procs[\"Wmunu\"][\"pdf1Up\"], procs[\"Wmunu\"][\"pdf1Down\"]]]\n",
    "colors = [\"black\", \"red\", \"pink\"]\n",
    "labels = [\"nominal\", \"pdf1Up\", \"pdf1Down\"]\n",
    "\n",
    "fig = plotTools.makePlotsWithRatioToRef(hists, labels, colors, xlabel=r\"($\\eta$, p$_{T}$) bin\", scale=1e5,rrange=[0.995, 1.005])\n"
   ]
  },
  {
   "cell_type": "code",
   "execution_count": null,
   "id": "d42cadd1",
   "metadata": {},
   "outputs": [],
   "source": [
    "histInfo = groups.getDatagroups()\n",
    "groups.loadHistsForDatagroups(\"nominal\", syst=\"\", selectSignal=True, label=\"nominal\", procsToRead=[\"Wmunu\"])"
   ]
  },
  {
   "cell_type": "code",
   "execution_count": null,
   "id": "85a102ba",
   "metadata": {},
   "outputs": [],
   "source": [
    "groups.loadHistsForDatagroups(\"\", syst=\"qcdScaleByHelicity\", selectSignal=True, label=\"qcdScaleByHelicity\", procsToRead=[\"Wmunu\"], forceNonzero=False)"
   ]
  },
  {
   "cell_type": "code",
   "execution_count": null,
   "id": "cda22cbf",
   "metadata": {},
   "outputs": [],
   "source": [
    "histInfo[\"Wmunu\"][\"qcdScaleByHelicity\"]"
   ]
  },
  {
   "cell_type": "code",
   "execution_count": null,
   "id": "6173775a",
   "metadata": {},
   "outputs": [],
   "source": [
    "histInfo[\"Wmunu\"][\"qcdScaleByHelicitySum\"] = syst_tools.scale_helicity_hist_to_variations(histInfo[\"Wmunu\"][\"qcdScaleByHelicity\"])"
   ]
  },
  {
   "cell_type": "code",
   "execution_count": null,
   "id": "b69d9b27",
   "metadata": {},
   "outputs": [],
   "source": [
    "s = hist.tag.Slicer()\n",
    "hVarNom = histInfo[\"Wmunu\"][\"qcdScaleByHelicity\"][{\"ptVgen\" : s[::hist.sum], \"chargeVgen\" : s[::hist.sum], \"helicity\" : s[::hist.sum], \"muRfact\" : s[1.j], \"muFfact\" : s[1.j] }]\n"
   ]
  },
  {
   "cell_type": "code",
   "execution_count": null,
   "id": "e1b313f8",
   "metadata": {},
   "outputs": [],
   "source": [
    "selections = [{\"muRfact\" : hist.loc(j), \"muFfact\" : hist.loc(j), \"helicity\" : i, \"ptVgen\" : 0, \"chargeVgen\" : -1j} for i in range(2) for j in [0.5,1.,2.]]\n",
    "names = [f\"muR{j}_muF{j}_hel_sigma{i}_ptVgen0_minus\" for i in range(2) for j in [0.5,1.,2.]]"
   ]
  },
  {
   "cell_type": "code",
   "execution_count": null,
   "id": "02273d63",
   "metadata": {},
   "outputs": [],
   "source": [
    "hists = [sel.unrolledHist(histInfo[\"Wmunu\"][\"nominal\"])]\n",
    "hists.extend([sel.unrolledHist(histInfo[\"Wmunu\"][\"qcdScaleByHelicitySum\"][s]) for s in selections])\n",
    "labels = [\"nominal\"]+names\n",
    "colors = [\"black\", \"blue\", \"purple\", \"green\", \"pink\", \"orange\", \"lightblue\"]"
   ]
  },
  {
   "cell_type": "code",
   "execution_count": null,
   "id": "17714b8c",
   "metadata": {},
   "outputs": [],
   "source": [
    "hists = [histInfo[\"Wmunu\"][\"nominal\"].project(\"pt\")]\n",
    "hists.extend([histInfo[\"Wmunu\"][\"qcdScaleByHelicitySum\"][s].project(\"pt\") for s in selections])"
   ]
  },
  {
   "cell_type": "code",
   "execution_count": null,
   "id": "fc07186e",
   "metadata": {},
   "outputs": [],
   "source": []
  },
  {
   "cell_type": "code",
   "execution_count": null,
   "id": "46a77ecd",
   "metadata": {},
   "outputs": [],
   "source": []
  },
  {
   "cell_type": "code",
   "execution_count": null,
   "id": "0ed0a771",
   "metadata": {},
   "outputs": [],
   "source": [
    "fig = plot_tools.makePlotWithRatioToRef(hists, labels, colors, xlabel=r\"p$_{T}$ (GeV)\", ymax=3e7,rrange=[0.99, 1.01])"
   ]
  },
  {
   "cell_type": "code",
   "execution_count": null,
   "id": "645ff78b",
   "metadata": {},
   "outputs": [],
   "source": [
    "selections = [{\"muRfact\" : 1.j, \"muFfact\" : 1.j, \"helicity\" : i} for i in range(9)]\n",
    "#histInfo[\"Wmunu\"][\"qcdScaleByHelicity\"] = syst_tools.scale_helicity_hist_to_variations(histInfo[\"Wmunu\"][\"qcdScaleByHelicity\"], sum_ptV=True)\n",
    "hists = [sel.unrolledHist(histInfo[\"Wmunu\"][\"nominal\"])]\n",
    "hists.extend([sel.unrolledHist(histInfo[\"Wmunu\"][\"qcdScaleByHelicity\"][s]) for s in selections])\n",
    "labels = [\"nominal\"]+[f\"$sigma_{i-1}$*angular\" if i != 0 else \"$\\sigma_\\mathrm{UL}$\" for i in range(9)]\n",
    "colors = [\"black\", \"blue\", \"purple\", \"green\", \"pink\", \"orange\", \"lightblue\", \"red\", \"lightgreen\", \"yellow\"]\n",
    "print(len(hists), len(labels), len(colors))\n",
    "fig = plot_tools.makePlotWithRatioToRef(hists, labels, colors, xlabel=r\"($\\eta_{\\ell}$, p$_{T}$) bin\", ymax=8e6,rrange=[-0.2, 1.5])\n",
    "fig.get_axes()[0].set_ylim([-1e4, 1.8e5])"
   ]
  },
  {
   "cell_type": "code",
   "execution_count": null,
   "id": "9cafbd46",
   "metadata": {},
   "outputs": [],
   "source": [
    "angular = [\n",
    "    r\"(1+\\cos^{2}\\theta)\",\n",
    "    r\"(1-3\\cos^{2}\\theta)\",\n",
    "    r\"\\sin2\\theta\\cos\\phi\",\n",
    "    r\"\\sin^{2}\\theta\",\n",
    "    r\"\\sin\\theta\\cos\\phi\",\n",
    "    r\"\\cos\\phi\",\n",
    "    r\"\\sin^{2}\\theta\\sin2\\theta\",\n",
    "    r\"\\sin2\\theta\\sin\\phi\",\n",
    "    r\"\\sin\\theta\\sin\\phi\",\n",
    "]"
   ]
  },
  {
   "cell_type": "code",
   "execution_count": null,
   "id": "ba965d68",
   "metadata": {},
   "outputs": [],
   "source": []
  },
  {
   "cell_type": "code",
   "execution_count": null,
   "id": "fa28da8f",
   "metadata": {},
   "outputs": [],
   "source": [
    "selections = [{\"muRfact\" : 1.j, \"muFfact\" : 1.j, \"helicity\" : i} for i in range(9)]\n",
    "#histInfo[\"Wmunu\"][\"qcdScaleByHelicity\"] = syst_tools.scale_helicity_hist_to_variations(histInfo[\"Wmunu\"][\"qcdScaleByHelicity\"], sum_ptV=True)\n",
    "hists = [sel.unrolledHist(histInfo[\"Wmunu\"][\"nominal\"])]\n",
    "hists.extend([sel.unrolledHist(histInfo[\"Wmunu\"][\"qcdScaleByHelicity\"][s]) for s in selections])\n",
    "labels = [\"nominal\"]+[\"$\\sigma_{%i}%s$\" % (i-1, angular[i]) for i in range(0,9)]\n",
    "colors = [\"black\", \"blue\", \"purple\", \"green\", \"pink\", \"orange\", \"lightblue\", \"red\", \"lightgreen\", \"yellow\"]\n",
    "print(len(hists), len(labels), len(colors))\n",
    "fig = plot_tools.makePlotWithRatioToRef(hists, labels, colors, xlabel=r\"($\\eta_{\\ell}$, p$_{T}$) bin\", ymax=8e6,rrange=[0.9, 1.1], rlabel=\"$x/\\sigma_{total}$\")\n",
    "fig.get_axes()[0].set_ylim([-1e4, 1.8e5])"
   ]
  },
  {
   "cell_type": "code",
   "execution_count": null,
   "id": "0198fa08",
   "metadata": {},
   "outputs": [],
   "source": [
    "selections = [{\"muRfact\" : 1.j, \"muFfact\" : 1.j, \"helicity\" : i} for i in range(9)]\n",
    "hists = [sel.unrolledHist(histInfo[\"Wmunu\"][\"nominal\"])]\n",
    "hists.extend([sel.unrolledHist(histInfo[\"Wmunu\"][\"qcdScaleByHelicity\"][s]) for s in selections])\n",
    "labels = [\"nominal\"]+[\"$\\sigma_{%i}%s$\" % (i-1, angular[i]) for i in range(0,9)]\n",
    "colors = [\"black\", \"blue\", \"purple\", \"green\", \"pink\", \"orange\", \"lightblue\", \"red\", \"lightgreen\", \"yellow\"]\n",
    "print(len(hists), len(labels), len(colors))\n",
    "fig = plot_tools.makePlotWithRatioToRef(hists, labels, colors, xlabel=r\"($\\eta_{\\ell}$, p$_{T}$) bin\", ymax=8e6,rrange=[-0.05, 0.1])\n",
    "fig.get_axes()[0].set_ylim([-1e4, 1.8e5])"
   ]
  },
  {
   "cell_type": "code",
   "execution_count": null,
   "id": "a0e890ed",
   "metadata": {},
   "outputs": [],
   "source": [
    "histInfo[\"Wmunu\"][\"qcdScaleByHelicity\"]"
   ]
  },
  {
   "cell_type": "code",
   "execution_count": null,
   "id": "5f6a158e",
   "metadata": {},
   "outputs": [],
   "source": [
    "histInfo[\"Wmunu\"][\"nominal\"].project(\"pt\").plot()\n",
    "histInfo[\"Wmunu\"][\"qcdScaleByHelicity\"][{\"muRfact\" : 1.j, \"muFfact\" : 1.j}].project(\"pt\").plot()"
   ]
  },
  {
   "cell_type": "code",
   "execution_count": null,
   "id": "f881f4cc",
   "metadata": {},
   "outputs": [],
   "source": []
  },
  {
   "cell_type": "code",
   "execution_count": null,
   "id": "578aba24",
   "metadata": {},
   "outputs": [],
   "source": []
  },
  {
   "cell_type": "code",
   "execution_count": null,
   "id": "b7ff1a78",
   "metadata": {},
   "outputs": [],
   "source": [
    "print(groups.results[\"WminusmunuPostVFP\"][\"output\"][\"nominal\"].sum(flow=True))\n",
    "print(groups.results[\"WminusmunuPostVFP\"][\"output\"][\"qcdScale\"][{\"muRfact\" : 1.j, \"muFfact\" : 1.j}].sum(flow=True))\n"
   ]
  },
  {
   "cell_type": "code",
   "execution_count": null,
   "id": "b669a3d0",
   "metadata": {},
   "outputs": [],
   "source": [
    "groups.results[\"WminusmunuPostVFP\"][\"output\"][\"nominal\"].project(\"pt\").plot(label=\"nominal\")\n",
    "groups.results[\"WminusmunuPostVFP\"][\"output\"][\"qcdScaleByHelicity\"][{\"muRfact\" : 1.j, \"muFfact\" : 1.j}].project(\"pt\").plot()\n",
    "plt.legend()"
   ]
  },
  {
   "cell_type": "code",
   "execution_count": null,
   "id": "8a2189e6",
   "metadata": {},
   "outputs": [],
   "source": [
    "groups.results[\"WplusmunuPostVFP\"][\"output\"][\"nominal\"].project(\"pt\").plot(label=\"nominal\")\n",
    "groups.results[\"WplusmunuPostVFP\"][\"output\"][\"qcdScaleByHelicity\"][{\"muRfact\" : 1.j, \"muFfact\" : 1.j}].project(\"pt\").plot()\n",
    "plt.legend()"
   ]
  },
  {
   "cell_type": "code",
   "execution_count": null,
   "id": "dffd6ef4",
   "metadata": {},
   "outputs": [],
   "source": [
    "groups.results[\"WminusmunuPostVFP\"][\"output\"][\"qcdScaleByHelicity\"]"
   ]
  },
  {
   "cell_type": "code",
   "execution_count": null,
   "id": "989e9fa4",
   "metadata": {},
   "outputs": [],
   "source": [
    "#groups.results[\"WplusmunuPostVFP\"][\"output\"][\"qcdScaleByHelicity\"]\n",
    "groups.results[\"WminusmunuPostVFP\"][\"output\"][\"qcdScaleByHelicity\"]"
   ]
  },
  {
   "cell_type": "code",
   "execution_count": null,
   "id": "18608c02",
   "metadata": {},
   "outputs": [],
   "source": [
    "orig = groups.results[\"WplusmunuPostVFP\"][\"output\"][\"qcdScaleByHelicity\"].copy()\n",
    "orig"
   ]
  },
  {
   "cell_type": "code",
   "execution_count": null,
   "id": "5be40d5f",
   "metadata": {},
   "outputs": [],
   "source": [
    "orig_sum = orig +  groups.results[\"WminusmunuPostVFP\"][\"output\"][\"qcdScaleByHelicity\"]"
   ]
  },
  {
   "cell_type": "code",
   "execution_count": null,
   "id": "e0d24d0d",
   "metadata": {},
   "outputs": [],
   "source": [
    "orig_sum.sum(flow=True)"
   ]
  },
  {
   "cell_type": "code",
   "execution_count": null,
   "id": "dda4554c",
   "metadata": {},
   "outputs": [],
   "source": [
    "histInfo[\"Wmunu\"][\"qcdScaleByHelicity\"]"
   ]
  }
 ],
 "metadata": {
  "kernelspec": {
   "display_name": "Python 3 (ipykernel)",
   "language": "python",
   "name": "python3"
  },
  "language_info": {
   "codemirror_mode": {
    "name": "ipython",
    "version": 3
   },
   "file_extension": ".py",
   "mimetype": "text/x-python",
   "name": "python",
   "nbconvert_exporter": "python",
   "pygments_lexer": "ipython3",
   "version": "3.10.2"
  }
 },
 "nbformat": 4,
 "nbformat_minor": 5
}
