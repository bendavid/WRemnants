{
 "cells": [
  {
   "cell_type": "code",
   "execution_count": null,
   "id": "3dfe1779",
   "metadata": {},
   "outputs": [],
   "source": [
    "import mplhep as hep\n",
    "import matplotlib.pyplot as plt\n",
    "from wremnants.datasets.datagroups import datagroups2016\n",
    "from wremnants import boostHistHelpers as hh\n",
    "from wremnants import plotTools,syst_tools\n",
    "from wremnants import histselections as sel\n",
    "import hist\n",
    "import narf\n",
    "import numpy as np"
   ]
  },
  {
   "cell_type": "code",
   "execution_count": null,
   "id": "77eb7135",
   "metadata": {},
   "outputs": [],
   "source": [
    "%load_ext autoreload\n",
    "%autoreload 2"
   ]
  },
  {
   "cell_type": "code",
   "execution_count": null,
   "id": "60aa8024",
   "metadata": {},
   "outputs": [],
   "source": [
    "groups = datagroups2016(\"../mw_with_mu_eta_pt.pkl.lz4\")\n"
   ]
  },
  {
   "cell_type": "code",
   "execution_count": null,
   "id": "f4114925",
   "metadata": {},
   "outputs": [],
   "source": [
    "# This is for reading groups\n",
    "procDict = groups.datagroupsForHist(\"nominal\", label=\"nominal\", procsToRead=[\"Wmunu\"])\n",
    "procDict = groups.datagroupsForHist(\"muonScaleSyst\", label=\"muonScaleSyst\", procsToRead=[\"Wmunu\"])"
   ]
  },
  {
   "cell_type": "code",
   "execution_count": null,
   "id": "e6879f8c",
   "metadata": {},
   "outputs": [],
   "source": [
    "procDict[\"Wmunu\"][\"muonScaleSyst\"][{\"downUpVar\" : 1, \"scaleEtaSlice\" : 1.j}]"
   ]
  },
  {
   "cell_type": "code",
   "execution_count": null,
   "id": "d5aad4a2",
   "metadata": {},
   "outputs": [],
   "source": [
    "procDict[\"Wmunu\"][\"nominal\"]"
   ]
  },
  {
   "cell_type": "code",
   "execution_count": null,
   "id": "5e3ebc57",
   "metadata": {},
   "outputs": [],
   "source": [
    "hscaleUp = procDict[\"Wmunu\"][\"muonScaleSyst\"][{\"downUpVar\" : 1, \"scaleEtaSlice\" : 1.j}]\n",
    "hscaleDown = procDict[\"Wmunu\"][\"muonScaleSyst\"][{\"downUpVar\" : 0, \"scaleEtaSlice\" : 1.j}]"
   ]
  },
  {
   "cell_type": "code",
   "execution_count": null,
   "id": "ca4fe1f4",
   "metadata": {},
   "outputs": [],
   "source": [
    "hnom = procDict[\"Wmunu\"][\"nominal\"]\n",
    "# Can also read specific samples by accessing the original \n",
    "hnomminus = groups.results[\"WminusmunuPostVFP\"][\"output\"][\"nominal\"]"
   ]
  },
  {
   "cell_type": "code",
   "execution_count": null,
   "id": "5331bc6e",
   "metadata": {},
   "outputs": [],
   "source": [
    "hscaleUp.project(\"pt\").plot()"
   ]
  },
  {
   "cell_type": "code",
   "execution_count": null,
   "id": "8adff4c3",
   "metadata": {},
   "outputs": [],
   "source": [
    "hh.divideHists(hscaleUp.project(\"pt\"), hnom.project(\"pt\")).plot()\n",
    "hh.divideHists(hscaleDown.project(\"pt\"), hnom.project(\"pt\")).plot()\n",
    "plt.ylim([0.995, 1.005])"
   ]
  },
  {
   "cell_type": "code",
   "execution_count": null,
   "id": "124f6db5",
   "metadata": {},
   "outputs": [],
   "source": [
    "combine = datagroups2016(\"../temp/WMassCombineInput.root\")"
   ]
  },
  {
   "cell_type": "code",
   "execution_count": null,
   "id": "a9cb0a83",
   "metadata": {},
   "outputs": [],
   "source": [
    "procs = combine.datagroupsForHist(\"x_Wmunu_plus\", label=\"nominal\")\n",
    "procs = combine.datagroupsForHist(\"x_Wmunu_CMS_scale_m_ieta0Up_plus\", label=\"scaleEta0Up\")\n",
    "procs = combine.datagroupsForHist(\"x_Wmunu_CMS_scale_m_ieta0Down_plus\", label=\"scaleEta0Down\")\n",
    "procs = combine.datagroupsForHist(\"x_Wmunu_pdf1NNPDF31Up_plus\", label=\"pdf1Up\")\n",
    "procs = combine.datagroupsForHist(\"x_Wmunu_pdf1NNPDF31Down_plus\", label=\"pdf1Down\")"
   ]
  },
  {
   "cell_type": "code",
   "execution_count": null,
   "id": "793bb1d9",
   "metadata": {},
   "outputs": [],
   "source": [
    "hh.divideHists(procs[\"Wmunu\"][\"scaleEta0Up\"], procs[\"Wmunu\"][\"nominal\"]).plot()\n",
    "hh.divideHists(procs[\"Wmunu\"][\"scaleEta0Down\"], procs[\"Wmunu\"][\"nominal\"]).plot()\n",
    "#plt.ylim([0.99, 1.01])"
   ]
  },
  {
   "cell_type": "code",
   "execution_count": null,
   "id": "99c44990",
   "metadata": {},
   "outputs": [],
   "source": [
    "hmirror = hh.mirrorHist(hnom, procs[\"Wmunu\"][\"pdf1Up\"])"
   ]
  },
  {
   "cell_type": "code",
   "execution_count": null,
   "id": "75401183",
   "metadata": {},
   "outputs": [],
   "source": [
    "hh.divideHists(procs[\"Wmunu\"][\"pdf1Up\"].project(\"pt\"),procs[\"Wmunu\"][\"nominal\"].project(\"pt\")).plot()\n",
    "hh.divideHists(procs[\"Wmunu\"][\"pdf1Down\"].project(\"pt\"),procs[\"Wmunu\"][\"nominal\"].project(\"pt\")).plot()\n",
    "plt.ylim([0.99, 1.01])"
   ]
  },
  {
   "cell_type": "code",
   "execution_count": null,
   "id": "b3637959",
   "metadata": {},
   "outputs": [],
   "source": [
    "hists = [sel.unrolledHist(h) for h in [procs[\"Wmunu\"][\"nominal\"], procs[\"Wmunu\"][\"scaleEta0Up\"], procs[\"Wmunu\"][\"scaleEta0Down\"]]]\n",
    "#hists = [h.project(\"pt\") for h in [procs[\"Wmunu\"][\"nominal\"], procs[\"Wmunu\"][\"pdf1Up\"], procs[\"Wmunu\"][\"pdf1Down\"]]]\n",
    "colors = [\"black\", \"red\", \"pink\"]\n",
    "labels = [\"nominal\", \"scaleEta0Up\", \"scaleEta0Down\"]\n",
    "\n",
    "fig = plotTools.makePlotsWithRatioToRef(hists, labels, colors, xlabel=r\"($\\eta$, p$_{T}$) bin\", scale=1e5,rrange=[0.998, 1.002])\n"
   ]
  },
  {
   "cell_type": "code",
   "execution_count": null,
   "id": "5a0b8369",
   "metadata": {},
   "outputs": [],
   "source": [
    "hists = [sel.unrolledHist(h) for h in [procs[\"Wmunu\"][\"nominal\"], procs[\"Wmunu\"][\"pdf1Up\"], procs[\"Wmunu\"][\"pdf1Down\"]]]\n",
    "colors = [\"black\", \"red\", \"pink\"]\n",
    "labels = [\"nominal\", \"pdf1Up\", \"pdf1Down\"]\n",
    "\n",
    "fig = plotTools.makePlotsWithRatioToRef(hists, labels, colors, xlabel=r\"($\\eta$, p$_{T}$) bin\", scale=1e5,rrange=[0.995, 1.005])\n"
   ]
  },
  {
   "cell_type": "code",
   "execution_count": null,
   "id": "d42cadd1",
   "metadata": {},
   "outputs": [],
   "source": [
    "histInfo = groups.datagroupsForHist(\"nominal\", selectSignal=True, label=\"nominal\", procsToRead=[\"Wmunu\"])\n"
   ]
  },
  {
   "cell_type": "code",
   "execution_count": null,
   "id": "85a102ba",
   "metadata": {},
   "outputs": [],
   "source": [
    "histInfo = groups.datagroupsForHist(\"qcdScaleByHelicity\", selectSignal=True, label=\"qcdScaleByHelicity\", procsToRead=[\"Wmunu\"], forceNonzero=False)"
   ]
  },
  {
   "cell_type": "code",
   "execution_count": null,
   "id": "cda22cbf",
   "metadata": {},
   "outputs": [],
   "source": []
  },
  {
   "cell_type": "code",
   "execution_count": null,
   "id": "6173775a",
   "metadata": {},
   "outputs": [],
   "source": [
    "histInfo[\"Wmunu\"][\"qcdScaleByHelicitySum\"] = syst_tools.scale_helicity_hist_to_variations(histInfo[\"Wmunu\"][\"qcdScaleByHelicity\"])"
   ]
  },
  {
   "cell_type": "code",
   "execution_count": null,
   "id": "b69d9b27",
   "metadata": {},
   "outputs": [],
   "source": [
    "s = hist.tag.Slicer()\n",
    "hVarNom = histInfo[\"Wmunu\"][\"qcdScaleByHelicity\"][{\"ptVgen\" : s[::hist.sum], \"chargeVgen\" : s[::hist.sum], \"helicity\" : s[::hist.sum], \"muRfact\" : s[1.j], \"muFfact\" : s[1.j] }]\n"
   ]
  },
  {
   "cell_type": "code",
   "execution_count": null,
   "id": "e1b313f8",
   "metadata": {},
   "outputs": [],
   "source": [
    "selections = [{\"muRfact\" : hist.loc(j), \"muFfact\" : hist.loc(j), \"helicity\" : i, \"ptVgen\" : 0, \"chargeVgen\" : -1j} for i in range(2) for j in [0.5,1.,2.]]\n",
    "names = [f\"muR{j}_muF{j}_hel_sigma{i}_ptVgen0_minus\" for i in range(2) for j in [0.5,1.,2.]]"
   ]
  },
  {
   "cell_type": "code",
   "execution_count": null,
   "id": "02273d63",
   "metadata": {},
   "outputs": [],
   "source": [
    "hists = [sel.unrolledHist(histInfo[\"Wmunu\"][\"nominal\"])]\n",
    "hists.extend([sel.unrolledHist(histInfo[\"Wmunu\"][\"qcdScaleByHelicitySum\"][s]) for s in selections])\n",
    "labels = [\"nominal\"]+names\n",
    "colors = [\"black\", \"blue\", \"purple\", \"green\", \"pink\", \"orange\", \"lightblue\"]"
   ]
  },
  {
   "cell_type": "code",
   "execution_count": null,
   "id": "17714b8c",
   "metadata": {},
   "outputs": [],
   "source": [
    "hists = [histInfo[\"Wmunu\"][\"nominal\"].project(\"pt\")]\n",
    "hists.append(hVarNom.project(\"pt\"))\n",
    "hists.extend([histInfo[\"Wmunu\"][\"qcdScaleByHelicitySum\"][s].project(\"pt\") for s in selections])"
   ]
  },
  {
   "cell_type": "code",
   "execution_count": null,
   "id": "fc07186e",
   "metadata": {},
   "outputs": [],
   "source": []
  },
  {
   "cell_type": "code",
   "execution_count": null,
   "id": "46a77ecd",
   "metadata": {},
   "outputs": [],
   "source": []
  },
  {
   "cell_type": "code",
   "execution_count": null,
   "id": "0ed0a771",
   "metadata": {},
   "outputs": [],
   "source": [
    "fig = plotTools.makePlotsWithRatioToRef(hists, labels, colors, xlabel=r\"p$_{T}$ (GeV)\", scale=3e5,rrange=[0.99, 1.01])"
   ]
  },
  {
   "cell_type": "code",
   "execution_count": null,
   "id": "645ff78b",
   "metadata": {},
   "outputs": [],
   "source": [
    "selections = [{\"muRfact\" : hist.loc(j), \"muFfact\" : hist.loc(j), \"chargeVgen\" : i, \"helicity\" : 0} for i in [0, 1] for j in [0.5,1.,2.]]\n",
    "histInfo[\"Wmunu\"][\"qcdScaleByHelicitySumCoeff\"] = syst_tools.scale_helicity_hist_to_variations(histInfo[\"Wmunu\"][\"qcdScaleByHelicity\"], sum_ptV=True)\n",
    "hists = [sel.unrolledHist(histInfo[\"Wmunu\"][\"nominal\"])]\n",
    "hists.extend([sel.unrolledHist(histInfo[\"Wmunu\"][\"qcdScaleByHelicitySumCoeff\"][s]) for s in selections])\n",
    "labels = [\"nominal\"]+names\n",
    "colors = [\"black\", \"blue\", \"purple\", \"green\", \"pink\", \"orange\", \"lightblue\"]\n",
    "print(len(hists), len(labels), len(colors))\n",
    "fig = plotTools.makePlotsWithRatioToRef(hists, labels, colors, xlabel=r\"p$_{T}$ (GeV)\", scale=3e5,rrange=[0.99, 1.01])"
   ]
  },
  {
   "cell_type": "code",
   "execution_count": null,
   "id": "fa28da8f",
   "metadata": {},
   "outputs": [],
   "source": [
    "nom_scale_hist = scale_hist[{\"muRfact\" : s[1.j:1.j+1], \"muFfact\" : s[1.j:1.j+1]}]\n",
    "nom_hist = nom_scale_hist[{\"ptVgen\" : s[::hist.sum], \"chargeVgen\" : s[::hist.sum], \"helicity\" : s[::hist.sum], \"muRfact\" : s[1.j], \"muFfact\" : s[1.j] }]"
   ]
  },
  {
   "cell_type": "code",
   "execution_count": null,
   "id": "0198fa08",
   "metadata": {},
   "outputs": [],
   "source": [
    "expd = scale_hist.ndim - nom_hist.ndim"
   ]
  },
  {
   "cell_type": "code",
   "execution_count": null,
   "id": "a0e890ed",
   "metadata": {},
   "outputs": [],
   "source": [
    "np.expand_dims(nom_hist, [-expd+i for i in range(expd)]).shape"
   ]
  },
  {
   "cell_type": "code",
   "execution_count": null,
   "id": "5f6a158e",
   "metadata": {},
   "outputs": [],
   "source": [
    "histInfo[\"Wmunu\"][\"nominal\"].project(\"pt\").plot()\n",
    "histInfo[\"Wmunu\"][\"qcdScaleByHelicity\"][{\"muRfact\" : 1.j, \"muFfact\" : 1.j}].project(\"pt\").plot()"
   ]
  },
  {
   "cell_type": "code",
   "execution_count": null,
   "id": "f881f4cc",
   "metadata": {},
   "outputs": [],
   "source": [
    "print(groups.results[\"WminusmunuPostVFP\"][\"output\"][\"qcdScale\"][{\"muRfact\" : 0.5j, \"muFfact\" : 0.5j}].sum(flow=True))\n",
    "print(groups.results[\"WminusmunuPostVFP\"][\"output\"][\"qcdScale\"][{\"muRfact\" : 0.5j, \"muFfact\" : 1.j}].sum(flow=True))\n",
    "print(groups.results[\"WminusmunuPostVFP\"][\"output\"][\"qcdScale\"][{\"muRfact\" : 1.j, \"muFfact\" : 1.j}].sum(flow=True))\n",
    "print(groups.results[\"WminusmunuPostVFP\"][\"output\"][\"qcdScale\"][{\"muRfact\" : 1.j, \"muFfact\" : 2.j}].sum(flow=True))\n",
    "print(groups.results[\"WminusmunuPostVFP\"][\"output\"][\"qcdScale\"][{\"muRfact\" : 2.j, \"muFfact\" : 2.j}].sum(flow=True))\n",
    "print(groups.results[\"WminusmunuPostVFP\"][\"output\"][\"qcdScale\"][{\"muRfact\" : 2.j, \"muFfact\" : 1.j}].sum(flow=True))"
   ]
  },
  {
   "cell_type": "code",
   "execution_count": null,
   "id": "578aba24",
   "metadata": {},
   "outputs": [],
   "source": []
  },
  {
   "cell_type": "code",
   "execution_count": null,
   "id": "b7ff1a78",
   "metadata": {},
   "outputs": [],
   "source": [
    "print(groups.results[\"WminusmunuPostVFP\"][\"output\"][\"nominal\"].sum(flow=True))\n",
    "print(groups.results[\"WminusmunuPostVFP\"][\"output\"][\"qcdScale\"][{\"muRfact\" : 1.j, \"muFfact\" : 1.j}].sum(flow=True))\n"
   ]
  },
  {
   "cell_type": "code",
   "execution_count": null,
   "id": "b669a3d0",
   "metadata": {},
   "outputs": [],
   "source": [
    "groups.results[\"WminusmunuPostVFP\"][\"output\"][\"nominal\"].project(\"pt\").plot(label=\"nominal\")\n",
    "groups.results[\"WminusmunuPostVFP\"][\"output\"][\"qcdScaleByHelicity\"][{\"muRfact\" : 1.j, \"muFfact\" : 1.j}].project(\"pt\").plot()\n",
    "plt.legend()"
   ]
  },
  {
   "cell_type": "code",
   "execution_count": null,
   "id": "8a2189e6",
   "metadata": {},
   "outputs": [],
   "source": [
    "groups.results[\"WplusmunuPostVFP\"][\"output\"][\"nominal\"].project(\"pt\").plot(label=\"nominal\")\n",
    "groups.results[\"WplusmunuPostVFP\"][\"output\"][\"qcdScaleByHelicity\"][{\"muRfact\" : 1.j, \"muFfact\" : 1.j}].project(\"pt\").plot()\n",
    "plt.legend()"
   ]
  },
  {
   "cell_type": "code",
   "execution_count": null,
   "id": "dffd6ef4",
   "metadata": {},
   "outputs": [],
   "source": [
    "groups.results[\"WminusmunuPostVFP\"][\"output\"][\"qcdScaleByHelicity\"]"
   ]
  },
  {
   "cell_type": "code",
   "execution_count": null,
   "id": "989e9fa4",
   "metadata": {},
   "outputs": [],
   "source": [
    "#groups.results[\"WplusmunuPostVFP\"][\"output\"][\"qcdScaleByHelicity\"]\n",
    "groups.results[\"WminusmunuPostVFP\"][\"output\"][\"qcdScaleByHelicity\"]"
   ]
  },
  {
   "cell_type": "code",
   "execution_count": null,
   "id": "18608c02",
   "metadata": {},
   "outputs": [],
   "source": [
    "orig = groups.results[\"WplusmunuPostVFP\"][\"output\"][\"qcdScaleByHelicity\"].copy()\n",
    "orig"
   ]
  },
  {
   "cell_type": "code",
   "execution_count": null,
   "id": "5be40d5f",
   "metadata": {},
   "outputs": [],
   "source": [
    "orig_sum = orig +  groups.results[\"WminusmunuPostVFP\"][\"output\"][\"qcdScaleByHelicity\"]"
   ]
  },
  {
   "cell_type": "code",
   "execution_count": null,
   "id": "e0d24d0d",
   "metadata": {},
   "outputs": [],
   "source": [
    "orig_sum.sum(flow=True)"
   ]
  },
  {
   "cell_type": "code",
   "execution_count": null,
   "id": "dda4554c",
   "metadata": {},
   "outputs": [],
   "source": [
    "histInfo[\"Wmunu\"][\"qcdScaleByHelicity\"]"
   ]
  }
 ],
 "metadata": {
  "kernelspec": {
   "display_name": "Python 3 (ipykernel)",
   "language": "python",
   "name": "python3"
  },
  "language_info": {
   "codemirror_mode": {
    "name": "ipython",
    "version": 3
   },
   "file_extension": ".py",
   "mimetype": "text/x-python",
   "name": "python",
   "nbconvert_exporter": "python",
   "pygments_lexer": "ipython3",
   "version": "3.10.2"
  }
 },
 "nbformat": 4,
 "nbformat_minor": 5
}
