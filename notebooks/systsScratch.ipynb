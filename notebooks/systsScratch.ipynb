{
 "cells": [
  {
   "cell_type": "code",
   "execution_count": 7,
   "id": "3dfe1779",
   "metadata": {},
   "outputs": [
    {
     "name": "stderr",
     "output_type": "stream",
     "text": [
      "2023-01-12 17:00:28.113253: I tensorflow/core/platform/cpu_feature_guard.cc:193] This TensorFlow binary is optimized with oneAPI Deep Neural Network Library (oneDNN) to use the following CPU instructions in performance-critical operations:  AVX2 FMA\n",
      "To enable them in other operations, rebuild TensorFlow with the appropriate compiler flags.\n",
      "2023-01-12 17:00:28.727206: W tensorflow/stream_executor/platform/default/dso_loader.cc:64] Could not load dynamic library 'libcudart.so.11.0'; dlerror: libcudart.so.11.0: cannot open shared object file: No such file or directory; LD_LIBRARY_PATH: /.singularity.d/libs\n",
      "2023-01-12 17:00:28.727490: I tensorflow/stream_executor/cuda/cudart_stub.cc:29] Ignore above cudart dlerror if you do not have a GPU set up on your machine.\n",
      "2023-01-12 17:00:28.849869: E tensorflow/stream_executor/cuda/cuda_blas.cc:2981] Unable to register cuBLAS factory: Attempting to register factory for plugin cuBLAS when one has already been registered\n",
      "2023-01-12 17:00:30.458151: W tensorflow/stream_executor/platform/default/dso_loader.cc:64] Could not load dynamic library 'libnvinfer.so.7'; dlerror: libnvinfer.so.7: cannot open shared object file: No such file or directory; LD_LIBRARY_PATH: /.singularity.d/libs\n",
      "2023-01-12 17:00:30.458387: W tensorflow/stream_executor/platform/default/dso_loader.cc:64] Could not load dynamic library 'libnvinfer_plugin.so.7'; dlerror: libnvinfer_plugin.so.7: cannot open shared object file: No such file or directory; LD_LIBRARY_PATH: /.singularity.d/libs\n",
      "2023-01-12 17:00:30.458394: W tensorflow/compiler/tf2tensorrt/utils/py_utils.cc:38] TF-TRT Warning: Cannot dlopen some TensorRT libraries. If you would like to use Nvidia GPU with TensorRT, please make sure the missing libraries mentioned above are installed properly.\n",
      "In file included from input_line_149:1:\n",
      "/home/k/kelong/work/WRemnants/wremnants/include/muon_calibration.h:13:43: error: redefinition of 'splitNestedRVec'\n",
      "ROOT::VecOps::RVec<ROOT::VecOps::RVec<T>> splitNestedRVec(const ROOT::VecOps::RVec<T> &vec, const ROOT::VecOps::RVec<int> &counts) {\n",
      "                                          ^\n",
      "/home/k/kelong/work/WRemnants/wremnants/include/muon_calibration.h:13:43: note: previous definition is here\n",
      "ROOT::VecOps::RVec<ROOT::VecOps::RVec<T>> splitNestedRVec(const ROOT::VecOps::RVec<T> &vec, const ROOT::VecOps::RVec<int> &counts) {\n",
      "                                          ^\n",
      "In file included from input_line_149:1:\n",
      "/home/k/kelong/work/WRemnants/wremnants/include/muon_calibration.h:31:7: error: redefinition of 'CVHCorrectorSingle'\n",
      "class CVHCorrectorSingle {\n",
      "      ^\n",
      "/home/k/kelong/work/WRemnants/wremnants/include/muon_calibration.h:31:7: note: previous definition is here\n",
      "class CVHCorrectorSingle {\n",
      "      ^\n",
      "In file included from input_line_149:1:\n",
      "/home/k/kelong/work/WRemnants/wremnants/include/muon_calibration.h:135:7: error: redefinition of 'CVHCorrectorValidation'\n",
      "class CVHCorrectorValidation : public CVHCorrectorSingle<5, 0> {\n",
      "      ^\n",
      "input_line_131:1:10: note: '/home/k/kelong/work/WRemnants/wremnants/include/muon_calibration.h' included multiple times, additional include site here\n",
      "#include \"muon_calibration.h\"\n",
      "         ^\n",
      "input_line_149:1:10: note: '/home/k/kelong/work/WRemnants/wremnants/include/muon_calibration.h' included multiple times, additional include site here\n",
      "#include \"muon_calibration.h\"\n",
      "         ^\n",
      "/home/k/kelong/work/WRemnants/wremnants/include/muon_calibration.h:135:7: note: unguarded header; consider using #ifdef guards or #pragma once\n",
      "class CVHCorrectorValidation : public CVHCorrectorSingle<5, 0> {\n",
      "      ^\n",
      "In file included from input_line_149:1:\n",
      "/home/k/kelong/work/WRemnants/wremnants/include/muon_calibration.h:152:7: error: redefinition of 'CVHCorrectorReplicas'\n",
      "class CVHCorrectorReplicas : public CVHCorrectorSingle<5, NReplicas> {\n",
      "      ^\n",
      "/home/k/kelong/work/WRemnants/wremnants/include/muon_calibration.h:152:7: note: previous definition is here\n",
      "class CVHCorrectorReplicas : public CVHCorrectorSingle<5, NReplicas> {\n",
      "      ^\n",
      "In file included from input_line_149:1:\n",
      "/home/k/kelong/work/WRemnants/wremnants/include/muon_calibration.h:176:7: error: redefinition of 'CVHCorrector'\n",
      "class CVHCorrector : public CVHCorrectorSingle<> {\n",
      "      ^\n",
      "input_line_131:1:10: note: '/home/k/kelong/work/WRemnants/wremnants/include/muon_calibration.h' included multiple times, additional include site here\n",
      "#include \"muon_calibration.h\"\n",
      "         ^\n",
      "input_line_149:1:10: note: '/home/k/kelong/work/WRemnants/wremnants/include/muon_calibration.h' included multiple times, additional include site here\n",
      "#include \"muon_calibration.h\"\n",
      "         ^\n",
      "/home/k/kelong/work/WRemnants/wremnants/include/muon_calibration.h:176:7: note: unguarded header; consider using #ifdef guards or #pragma once\n",
      "class CVHCorrector : public CVHCorrectorSingle<> {\n",
      "      ^\n",
      "In file included from input_line_149:1:\n",
      "/home/k/kelong/work/WRemnants/wremnants/include/muon_calibration.h:196:7: error: redefinition of 'calibration_uncertainty_helper'\n",
      "class calibration_uncertainty_helper {\n",
      "      ^\n",
      "/home/k/kelong/work/WRemnants/wremnants/include/muon_calibration.h:196:7: note: previous definition is here\n",
      "class calibration_uncertainty_helper {\n",
      "      ^\n",
      "In file included from input_line_159:1:\n",
      "/home/k/kelong/work/WRemnants/wremnants/include/muon_validation.h:96:15: error: no template named 'RVec'\n",
      "        const RVec<float> &cov, // for sigma on the Gaussian\n",
      "              ^\n"
     ]
    }
   ],
   "source": [
    "import mplhep as hep\n",
    "import matplotlib.pyplot as plt\n",
    "from wremnants.datasets.datagroups import datagroups2016\n",
    "from utilities import boostHistHelpers as hh,common\n",
    "from wremnants import plot_tools,syst_tools\n",
    "from wremnants import histselections as sel\n",
    "import hist\n",
    "import narf\n",
    "import numpy as np\n",
    "import pickle,lz4.frame"
   ]
  },
  {
   "cell_type": "code",
   "execution_count": 2,
   "id": "77eb7135",
   "metadata": {},
   "outputs": [],
   "source": [
    "%load_ext autoreload\n",
    "%autoreload 2"
   ]
  },
  {
   "cell_type": "code",
   "execution_count": 3,
   "id": "60aa8024",
   "metadata": {},
   "outputs": [],
   "source": [
    "groups = datagroups2016(\"../mw_with_mu_eta_pt_nnpdf31.pkl.lz4\")\n"
   ]
  },
  {
   "cell_type": "code",
   "execution_count": 4,
   "id": "b1d22306",
   "metadata": {},
   "outputs": [
    {
     "data": {
      "text/plain": [
       "dict_keys(['nominal', 'qcdJetPt45', 'effStatTnP', 'effStatTnP_tracking', 'effStatTnP_reco', 'effSystTnP', 'muonL1PrefireStat', 'muonL1PrefireSyst', 'ecalL1Prefire', 'luminosity', 'qcdScale', 'qcdScaleByHelicity', 'pdfNNPDF31', 'alphaS002pdfNNPDF31', 'massWeight', 'muonScaleSyst', 'muonScaleSyst_responseWeights'])"
      ]
     },
     "execution_count": 4,
     "metadata": {},
     "output_type": "execute_result"
    }
   ],
   "source": [
    "groups.results[\"WplusmunuPostVFP\"][\"output\"].keys()"
   ]
  },
  {
   "cell_type": "code",
   "execution_count": null,
   "id": "2c51580d",
   "metadata": {},
   "outputs": [],
   "source": []
  },
  {
   "cell_type": "code",
   "execution_count": 5,
   "id": "f4114925",
   "metadata": {},
   "outputs": [],
   "source": [
    "# This is for reading groups\n",
    "groups.loadHistsForDatagroups(\"nominal\", syst=\"\", procsToRead=[\"Wmunu\"])\n",
    "groups.loadHistsForDatagroups(\"\", syst=\"muonScaleSyst\", procsToRead=[\"Wmunu\"])\n",
    "groups.loadHistsForDatagroups(\"\", syst=\"muonScaleSyst_responseWeights\", procsToRead=[\"Wmunu\"])\n",
    "histInfo = groups.getDatagroups()"
   ]
  },
  {
   "cell_type": "code",
   "execution_count": 6,
   "id": "e6879f8c",
   "metadata": {},
   "outputs": [
    {
     "ename": "ValueError",
     "evalue": "Did not find systematic pdfMMHT for any processes!",
     "output_type": "error",
     "traceback": [
      "\u001b[0;31m---------------------------------------------------------------------------\u001b[0m",
      "\u001b[0;31mValueError\u001b[0m                                Traceback (most recent call last)",
      "Cell \u001b[0;32mIn [6], line 5\u001b[0m\n\u001b[1;32m      3\u001b[0m groups\u001b[38;5;241m.\u001b[39mloadHistsForDatagroups(\u001b[38;5;124m\"\u001b[39m\u001b[38;5;124m\"\u001b[39m, syst\u001b[38;5;241m=\u001b[39m\u001b[38;5;124m\"\u001b[39m\u001b[38;5;124mqcdScaleByHelicity\u001b[39m\u001b[38;5;124m\"\u001b[39m, procsToRead\u001b[38;5;241m=\u001b[39m[\u001b[38;5;124m\"\u001b[39m\u001b[38;5;124mWmunu\u001b[39m\u001b[38;5;124m\"\u001b[39m])\n\u001b[1;32m      4\u001b[0m groups\u001b[38;5;241m.\u001b[39mloadHistsForDatagroups(\u001b[38;5;124m\"\u001b[39m\u001b[38;5;124m\"\u001b[39m, syst\u001b[38;5;241m=\u001b[39m\u001b[38;5;124m\"\u001b[39m\u001b[38;5;124mpdfNNPDF31\u001b[39m\u001b[38;5;124m\"\u001b[39m, procsToRead\u001b[38;5;241m=\u001b[39m[\u001b[38;5;124m\"\u001b[39m\u001b[38;5;124mWmunu\u001b[39m\u001b[38;5;124m\"\u001b[39m])\n\u001b[0;32m----> 5\u001b[0m \u001b[43mgroups\u001b[49m\u001b[38;5;241;43m.\u001b[39;49m\u001b[43mloadHistsForDatagroups\u001b[49m\u001b[43m(\u001b[49m\u001b[38;5;124;43m\"\u001b[39;49m\u001b[38;5;124;43m\"\u001b[39;49m\u001b[43m,\u001b[49m\u001b[43m \u001b[49m\u001b[43msyst\u001b[49m\u001b[38;5;241;43m=\u001b[39;49m\u001b[38;5;124;43m\"\u001b[39;49m\u001b[38;5;124;43mpdfMMHT\u001b[39;49m\u001b[38;5;124;43m\"\u001b[39;49m\u001b[43m,\u001b[49m\u001b[43m \u001b[49m\u001b[43mprocsToRead\u001b[49m\u001b[38;5;241;43m=\u001b[39;49m\u001b[43m[\u001b[49m\u001b[38;5;124;43m\"\u001b[39;49m\u001b[38;5;124;43mWmunu\u001b[39;49m\u001b[38;5;124;43m\"\u001b[39;49m\u001b[43m]\u001b[49m\u001b[43m)\u001b[49m\n\u001b[1;32m      6\u001b[0m groups\u001b[38;5;241m.\u001b[39mloadHistsForDatagroups(\u001b[38;5;124m\"\u001b[39m\u001b[38;5;124m\"\u001b[39m, syst\u001b[38;5;241m=\u001b[39m\u001b[38;5;124m\"\u001b[39m\u001b[38;5;124mpdfCT18\u001b[39m\u001b[38;5;124m\"\u001b[39m, procsToRead\u001b[38;5;241m=\u001b[39m[\u001b[38;5;124m\"\u001b[39m\u001b[38;5;124mWmunu\u001b[39m\u001b[38;5;124m\"\u001b[39m])\n\u001b[1;32m      7\u001b[0m histInfo \u001b[38;5;241m=\u001b[39m groups\u001b[38;5;241m.\u001b[39mgetDatagroups()\n",
      "File \u001b[0;32m~/work/WRemnants/wremnants/datasets/datagroups.py:140\u001b[0m, in \u001b[0;36mdatagroups.loadHistsForDatagroups\u001b[0;34m(self, baseName, syst, procsToRead, excluded_procs, channel, label, nominalIfMissing, selectSignal, forceNonzero, pseudodata, preOpMap, preOpArgs)\u001b[0m\n\u001b[1;32m    138\u001b[0m     \u001b[38;5;28mself\u001b[39m\u001b[38;5;241m.\u001b[39msetHistsCombine(baseName, syst, channel, procsToRead, excluded_procs, label)\n\u001b[1;32m    139\u001b[0m \u001b[38;5;28;01melse\u001b[39;00m:\n\u001b[0;32m--> 140\u001b[0m     \u001b[38;5;28;43mself\u001b[39;49m\u001b[38;5;241;43m.\u001b[39;49m\u001b[43msetHists\u001b[49m\u001b[43m(\u001b[49m\u001b[43mbaseName\u001b[49m\u001b[43m,\u001b[49m\u001b[43m \u001b[49m\u001b[43msyst\u001b[49m\u001b[43m,\u001b[49m\u001b[43m \u001b[49m\u001b[43mprocsToRead\u001b[49m\u001b[43m,\u001b[49m\u001b[43m \u001b[49m\u001b[43mlabel\u001b[49m\u001b[43m,\u001b[49m\u001b[43m \u001b[49m\u001b[43mnominalIfMissing\u001b[49m\u001b[43m,\u001b[49m\u001b[43m \u001b[49m\u001b[43mselectSignal\u001b[49m\u001b[43m,\u001b[49m\u001b[43m \u001b[49m\u001b[43mforceNonzero\u001b[49m\u001b[43m,\u001b[49m\u001b[43m \u001b[49m\u001b[43mpreOpMap\u001b[49m\u001b[43m,\u001b[49m\u001b[43m \u001b[49m\u001b[43mpreOpArgs\u001b[49m\u001b[43m)\u001b[49m\n",
      "File \u001b[0;32m~/work/WRemnants/wremnants/datasets/datagroups.py:95\u001b[0m, in \u001b[0;36mdatagroups.setHists\u001b[0;34m(self, baseName, syst, procsToRead, label, nominalIfMissing, selectSignal, forceNonzero, preOpMap, preOpArgs)\u001b[0m\n\u001b[1;32m     93\u001b[0m \u001b[38;5;66;03m# Avoid situation where the nominal is read for all processes for this syst\u001b[39;00m\n\u001b[1;32m     94\u001b[0m \u001b[38;5;28;01mif\u001b[39;00m \u001b[38;5;129;01mnot\u001b[39;00m foundExact:\n\u001b[0;32m---> 95\u001b[0m     \u001b[38;5;28;01mraise\u001b[39;00m \u001b[38;5;167;01mValueError\u001b[39;00m(\u001b[38;5;124mf\u001b[39m\u001b[38;5;124m\"\u001b[39m\u001b[38;5;124mDid not find systematic \u001b[39m\u001b[38;5;132;01m{\u001b[39;00msyst\u001b[38;5;132;01m}\u001b[39;00m\u001b[38;5;124m for any processes!\u001b[39m\u001b[38;5;124m\"\u001b[39m)\n",
      "\u001b[0;31mValueError\u001b[0m: Did not find systematic pdfMMHT for any processes!"
     ]
    }
   ],
   "source": [
    "# This is for reading groups\n",
    "groups.loadHistsForDatagroups(\"nominal\", syst=\"\", procsToRead=[\"Wmunu\"])\n",
    "groups.loadHistsForDatagroups(\"\", syst=\"qcdScaleByHelicity\", procsToRead=[\"Wmunu\"])\n",
    "groups.loadHistsForDatagroups(\"\", syst=\"pdfNNPDF31\", procsToRead=[\"Wmunu\"])\n",
    "groups.loadHistsForDatagroups(\"\", syst=\"pdfMMHT\", procsToRead=[\"Wmunu\"])\n",
    "groups.loadHistsForDatagroups(\"\", syst=\"pdfCT18\", procsToRead=[\"Wmunu\"])\n",
    "histInfo = groups.getDatagroups()"
   ]
  },
  {
   "cell_type": "code",
   "execution_count": null,
   "id": "f9b0bcb9",
   "metadata": {},
   "outputs": [],
   "source": [
    "histInfo[\"Wmunu\"][\"pdfCT18\"]"
   ]
  },
  {
   "cell_type": "code",
   "execution_count": null,
   "id": "d5aad4a2",
   "metadata": {},
   "outputs": [],
   "source": [
    "hh.divideHists(histInfo[\"Wmunu\"][\"pdfMMHT\"][{\"tensor_axis_0\" : 0}].project(\"eta\"), histInfo[\"Wmunu\"][\"nominal\"].project(\"eta\")).plot(label=\"MMHT14\")\n",
    "hh.divideHists(histInfo[\"Wmunu\"][\"pdfCT18\"][{\"tensor_axis_0\" : 0}].project(\"eta\"), histInfo[\"Wmunu\"][\"nominal\"].project(\"eta\")).plot(label=\"CT18\")\n",
    "plt.legend()\n",
    "plt.ylim([0.95, 1.05])\n"
   ]
  },
  {
   "cell_type": "code",
   "execution_count": null,
   "id": "87f3e00b",
   "metadata": {},
   "outputs": [],
   "source": [
    "hh.divideHists(histInfo[\"Wmunu\"][\"pdfMMHT\"][{\"tensor_axis_0\" : 0}].project(\"pt\"), histInfo[\"Wmunu\"][\"nominal\"].project(\"pt\")).plot(label=\"MMHT14\")\n",
    "hh.divideHists(histInfo[\"Wmunu\"][\"pdfCT18\"][{\"tensor_axis_0\" : 0}].project(\"pt\"), histInfo[\"Wmunu\"][\"nominal\"].project(\"pt\")).plot(label=\"CT18\")\n",
    "plt.legend()\n",
    "plt.ylim([0.95, 1.05])\n"
   ]
  },
  {
   "cell_type": "code",
   "execution_count": null,
   "id": "5e3ebc57",
   "metadata": {},
   "outputs": [],
   "source": [
    "hscaleUp = procDict[\"Wmunu\"][\"muonScaleSyst\"][{\"downUpVar\" : 1, \"scaleEtaSlice\" : 1.j}]\n",
    "hscaleDown = procDict[\"Wmunu\"][\"muonScaleSyst\"][{\"downUpVar\" : 0, \"scaleEtaSlice\" : 1.j}]"
   ]
  },
  {
   "cell_type": "code",
   "execution_count": null,
   "id": "ca4fe1f4",
   "metadata": {},
   "outputs": [],
   "source": [
    "hnom = procDict[\"Wmunu\"][\"nominal\"]\n",
    "# Can also read specific samples by accessing the original \n",
    "hnomminus = groups.results[\"WminusmunuPostVFP\"][\"output\"][\"nominal\"]"
   ]
  },
  {
   "cell_type": "code",
   "execution_count": null,
   "id": "5331bc6e",
   "metadata": {},
   "outputs": [],
   "source": [
    "hscaleUp.project(\"pt\").plot()"
   ]
  },
  {
   "cell_type": "code",
   "execution_count": null,
   "id": "8adff4c3",
   "metadata": {},
   "outputs": [],
   "source": [
    "hh.divideHists(hscaleUp.project(\"pt\"), hnom.project(\"pt\")).plot()\n",
    "hh.divideHists(hscaleDown.project(\"pt\"), hnom.project(\"pt\")).plot()\n",
    "plt.ylim([0.995, 1.005])"
   ]
  },
  {
   "cell_type": "code",
   "execution_count": null,
   "id": "124f6db5",
   "metadata": {},
   "outputs": [],
   "source": [
    "combine = datagroups2016(\"../temp/WMassCombineInput.root\")"
   ]
  },
  {
   "cell_type": "code",
   "execution_count": null,
   "id": "a9cb0a83",
   "metadata": {},
   "outputs": [],
   "source": [
    "procs = combine.datagroupsForHist(\"x_Wmunu_plus\", label=\"nominal\")\n",
    "procs = combine.datagroupsForHist(\"x_Wmunu_CMS_scale_m_ieta0Up_plus\", label=\"scaleEta0Up\")\n",
    "procs = combine.datagroupsForHist(\"x_Wmunu_CMS_scale_m_ieta0Down_plus\", label=\"scaleEta0Down\")\n",
    "procs = combine.datagroupsForHist(\"x_Wmunu_pdf1NNPDF31Up_plus\", label=\"pdf1Up\")\n",
    "procs = combine.datagroupsForHist(\"x_Wmunu_pdf1NNPDF31Down_plus\", label=\"pdf1Down\")"
   ]
  },
  {
   "cell_type": "code",
   "execution_count": null,
   "id": "793bb1d9",
   "metadata": {},
   "outputs": [],
   "source": [
    "hh.divideHists(procs[\"Wmunu\"][\"scaleEta0Up\"], procs[\"Wmunu\"][\"nominal\"]).plot()\n",
    "hh.divideHists(procs[\"Wmunu\"][\"scaleEta0Down\"], procs[\"Wmunu\"][\"nominal\"]).plot()\n",
    "#plt.ylim([0.99, 1.01])"
   ]
  },
  {
   "cell_type": "code",
   "execution_count": null,
   "id": "99c44990",
   "metadata": {},
   "outputs": [],
   "source": [
    "hmirror = hh.mirrorHist(hnom, procs[\"Wmunu\"][\"pdf1Up\"])"
   ]
  },
  {
   "cell_type": "code",
   "execution_count": null,
   "id": "75401183",
   "metadata": {},
   "outputs": [],
   "source": [
    "hh.divideHists(procs[\"Wmunu\"][\"pdf1Up\"].project(\"pt\"),procs[\"Wmunu\"][\"nominal\"].project(\"pt\")).plot()\n",
    "hh.divideHists(procs[\"Wmunu\"][\"pdf1Down\"].project(\"pt\"),procs[\"Wmunu\"][\"nominal\"].project(\"pt\")).plot()\n",
    "plt.ylim([0.99, 1.01])"
   ]
  },
  {
   "cell_type": "code",
   "execution_count": null,
   "id": "b3637959",
   "metadata": {},
   "outputs": [],
   "source": [
    "hists = [sel.unrolledHist(h) for h in [procs[\"Wmunu\"][\"nominal\"], procs[\"Wmunu\"][\"scaleEta0Up\"], procs[\"Wmunu\"][\"scaleEta0Down\"]]]\n",
    "#hists = [h.project(\"pt\") for h in [procs[\"Wmunu\"][\"nominal\"], procs[\"Wmunu\"][\"pdf1Up\"], procs[\"Wmunu\"][\"pdf1Down\"]]]\n",
    "colors = [\"black\", \"red\", \"pink\"]\n",
    "labels = [\"nominal\", \"scaleEta0Up\", \"scaleEta0Down\"]\n",
    "\n",
    "fig = plotTools.makePlotsWithRatioToRef(hists, labels, colors, xlabel=r\"($\\eta$, p$_{T}$) bin\", scale=1e5,rrange=[0.998, 1.002])\n"
   ]
  },
  {
   "cell_type": "code",
   "execution_count": null,
   "id": "5a0b8369",
   "metadata": {},
   "outputs": [],
   "source": [
    "hists = [sel.unrolledHist(h) for h in [procs[\"Wmunu\"][\"nominal\"], procs[\"Wmunu\"][\"pdf1Up\"], procs[\"Wmunu\"][\"pdf1Down\"]]]\n",
    "colors = [\"black\", \"red\", \"pink\"]\n",
    "labels = [\"nominal\", \"pdf1Up\", \"pdf1Down\"]\n",
    "\n",
    "fig = plotTools.makePlotsWithRatioToRef(hists, labels, colors, xlabel=r\"($\\eta$, p$_{T}$) bin\", scale=1e5,rrange=[0.995, 1.005])\n"
   ]
  },
  {
   "cell_type": "code",
   "execution_count": null,
   "id": "d42cadd1",
   "metadata": {},
   "outputs": [],
   "source": [
    "histInfo = groups.getDatagroups()\n",
    "groups.loadHistsForDatagroups(\"nominal\", syst=\"\", selectSignal=True, label=\"nominal\", procsToRead=[\"Wmunu\"])"
   ]
  },
  {
   "cell_type": "code",
   "execution_count": null,
   "id": "85a102ba",
   "metadata": {},
   "outputs": [],
   "source": [
    "groups.loadHistsForDatagroups(\"\", syst=\"qcdScaleByHelicity\", selectSignal=True, label=\"qcdScaleByHelicity\", procsToRead=[\"Wmunu\"], forceNonzero=False)"
   ]
  },
  {
   "cell_type": "code",
   "execution_count": null,
   "id": "cda22cbf",
   "metadata": {},
   "outputs": [],
   "source": [
    "histInfo[\"Wmunu\"][\"qcdScaleByHelicity\"]"
   ]
  },
  {
   "cell_type": "code",
   "execution_count": null,
   "id": "6173775a",
   "metadata": {},
   "outputs": [],
   "source": [
    "histInfo[\"Wmunu\"][\"qcdScaleByHelicitySum\"] = syst_tools.scale_helicity_hist_to_variations(histInfo[\"Wmunu\"][\"qcdScaleByHelicity\"])"
   ]
  },
  {
   "cell_type": "code",
   "execution_count": null,
   "id": "b69d9b27",
   "metadata": {},
   "outputs": [],
   "source": [
    "s = hist.tag.Slicer()\n",
    "hVarNom = histInfo[\"Wmunu\"][\"qcdScaleByHelicity\"][{\"ptVgen\" : s[::hist.sum], \"chargeVgen\" : s[::hist.sum], \"helicity\" : s[::hist.sum], \"muRfact\" : s[1.j], \"muFfact\" : s[1.j] }]\n"
   ]
  },
  {
   "cell_type": "code",
   "execution_count": null,
   "id": "e1b313f8",
   "metadata": {},
   "outputs": [],
   "source": [
    "selections = [{\"muRfact\" : hist.loc(j), \"muFfact\" : hist.loc(j), \"helicity\" : i, \"ptVgen\" : 0, \"chargeVgen\" : -1j} for i in range(2) for j in [0.5,1.,2.]]\n",
    "names = [f\"muR{j}_muF{j}_hel_sigma{i}_ptVgen0_minus\" for i in range(2) for j in [0.5,1.,2.]]"
   ]
  },
  {
   "cell_type": "code",
   "execution_count": null,
   "id": "02273d63",
   "metadata": {},
   "outputs": [],
   "source": [
    "hists = [sel.unrolledHist(histInfo[\"Wmunu\"][\"nominal\"])]\n",
    "hists.extend([sel.unrolledHist(histInfo[\"Wmunu\"][\"qcdScaleByHelicitySum\"][s]) for s in selections])\n",
    "labels = [\"nominal\"]+names\n",
    "colors = [\"black\", \"blue\", \"purple\", \"green\", \"pink\", \"orange\", \"lightblue\"]"
   ]
  },
  {
   "cell_type": "code",
   "execution_count": null,
   "id": "17714b8c",
   "metadata": {},
   "outputs": [],
   "source": [
    "hists = [histInfo[\"Wmunu\"][\"nominal\"].project(\"pt\")]\n",
    "hists.extend([histInfo[\"Wmunu\"][\"qcdScaleByHelicitySum\"][s].project(\"pt\") for s in selections])"
   ]
  },
  {
   "cell_type": "code",
   "execution_count": null,
   "id": "fc07186e",
   "metadata": {},
   "outputs": [],
   "source": []
  },
  {
   "cell_type": "code",
   "execution_count": null,
   "id": "46a77ecd",
   "metadata": {},
   "outputs": [],
   "source": []
  },
  {
   "cell_type": "code",
   "execution_count": null,
   "id": "0ed0a771",
   "metadata": {},
   "outputs": [],
   "source": [
    "fig = plot_tools.makePlotWithRatioToRef(hists, labels, colors, xlabel=r\"p$_{T}$ (GeV)\", ymax=3e7,rrange=[0.99, 1.01])"
   ]
  },
  {
   "cell_type": "code",
   "execution_count": null,
   "id": "645ff78b",
   "metadata": {},
   "outputs": [],
   "source": [
    "selections = [{\"muRfact\" : 1.j, \"muFfact\" : 1.j, \"helicity\" : i} for i in range(9)]\n",
    "#histInfo[\"Wmunu\"][\"qcdScaleByHelicity\"] = syst_tools.scale_helicity_hist_to_variations(histInfo[\"Wmunu\"][\"qcdScaleByHelicity\"], sum_ptV=True)\n",
    "hists = [sel.unrolledHist(histInfo[\"Wmunu\"][\"nominal\"])]\n",
    "hists.extend([sel.unrolledHist(histInfo[\"Wmunu\"][\"qcdScaleByHelicity\"][s]) for s in selections])\n",
    "labels = [\"nominal\"]+[f\"$sigma_{i-1}$*angular\" if i != 0 else \"$\\sigma_\\mathrm{UL}$\" for i in range(9)]\n",
    "colors = [\"black\", \"blue\", \"purple\", \"green\", \"pink\", \"orange\", \"lightblue\", \"red\", \"lightgreen\", \"yellow\"]\n",
    "print(len(hists), len(labels), len(colors))\n",
    "fig = plot_tools.makePlotWithRatioToRef(hists, labels, colors, xlabel=r\"($\\eta_{\\ell}$, p$_{T}$) bin\", ymax=8e6,rrange=[-0.2, 1.5])\n",
    "fig.get_axes()[0].set_ylim([-1e4, 1.8e5])"
   ]
  },
  {
   "cell_type": "code",
   "execution_count": null,
   "id": "9cafbd46",
   "metadata": {},
   "outputs": [],
   "source": [
    "angular = [\n",
    "    r\"(1+\\cos^{2}\\theta)\",\n",
    "    r\"(1-3\\cos^{2}\\theta)\",\n",
    "    r\"\\sin2\\theta\\cos\\phi\",\n",
    "    r\"\\sin^{2}\\theta\",\n",
    "    r\"\\sin\\theta\\cos\\phi\",\n",
    "    r\"\\cos\\phi\",\n",
    "    r\"\\sin^{2}\\theta\\sin2\\theta\",\n",
    "    r\"\\sin2\\theta\\sin\\phi\",\n",
    "    r\"\\sin\\theta\\sin\\phi\",\n",
    "]"
   ]
  },
  {
   "cell_type": "code",
   "execution_count": null,
   "id": "ba965d68",
   "metadata": {},
   "outputs": [],
   "source": []
  },
  {
   "cell_type": "code",
   "execution_count": null,
   "id": "fa28da8f",
   "metadata": {},
   "outputs": [],
   "source": [
    "selections = [{\"muRfact\" : 1.j, \"muFfact\" : 1.j, \"helicity\" : i} for i in range(9)]\n",
    "#histInfo[\"Wmunu\"][\"qcdScaleByHelicity\"] = syst_tools.scale_helicity_hist_to_variations(histInfo[\"Wmunu\"][\"qcdScaleByHelicity\"], sum_ptV=True)\n",
    "hists = [sel.unrolledHist(histInfo[\"Wmunu\"][\"nominal\"])]\n",
    "hists.extend([sel.unrolledHist(histInfo[\"Wmunu\"][\"qcdScaleByHelicity\"][s]) for s in selections])\n",
    "labels = [\"nominal\"]+[\"$\\sigma_{%i}%s$\" % (i-1, angular[i]) for i in range(0,9)]\n",
    "colors = [\"black\", \"blue\", \"purple\", \"green\", \"pink\", \"orange\", \"lightblue\", \"red\", \"lightgreen\", \"yellow\"]\n",
    "print(len(hists), len(labels), len(colors))\n",
    "fig = plot_tools.makePlotWithRatioToRef(hists, labels, colors, xlabel=r\"($\\eta_{\\ell}$, p$_{T}$) bin\", ymax=8e6,rrange=[0.9, 1.1], rlabel=\"$x/\\sigma_{total}$\")\n",
    "fig.get_axes()[0].set_ylim([-1e4, 1.8e5])"
   ]
  },
  {
   "cell_type": "code",
   "execution_count": null,
   "id": "0198fa08",
   "metadata": {},
   "outputs": [],
   "source": [
    "selections = [{\"muRfact\" : 1.j, \"muFfact\" : 1.j, \"helicity\" : i} for i in range(9)]\n",
    "hists = [sel.unrolledHist(histInfo[\"Wmunu\"][\"nominal\"])]\n",
    "hists.extend([sel.unrolledHist(histInfo[\"Wmunu\"][\"qcdScaleByHelicity\"][s]) for s in selections])\n",
    "labels = [\"nominal\"]+[\"$\\sigma_{%i}%s$\" % (i-1, angular[i]) for i in range(0,9)]\n",
    "colors = [\"black\", \"blue\", \"purple\", \"green\", \"pink\", \"orange\", \"lightblue\", \"red\", \"lightgreen\", \"yellow\"]\n",
    "print(len(hists), len(labels), len(colors))\n",
    "fig = plot_tools.makePlotWithRatioToRef(hists, labels, colors, xlabel=r\"($\\eta_{\\ell}$, p$_{T}$) bin\", ymax=8e6,rrange=[-0.05, 0.1])\n",
    "fig.get_axes()[0].set_ylim([-1e4, 1.8e5])"
   ]
  },
  {
   "cell_type": "code",
   "execution_count": null,
   "id": "a0e890ed",
   "metadata": {},
   "outputs": [],
   "source": [
    "histInfo[\"Wmunu\"][\"qcdScaleByHelicity\"]"
   ]
  },
  {
   "cell_type": "code",
   "execution_count": null,
   "id": "5f6a158e",
   "metadata": {},
   "outputs": [],
   "source": [
    "histInfo[\"Wmunu\"][\"nominal\"].project(\"pt\").plot()\n",
    "histInfo[\"Wmunu\"][\"qcdScaleByHelicity\"][{\"muRfact\" : 1.j, \"muFfact\" : 1.j}].project(\"pt\").plot()"
   ]
  },
  {
   "cell_type": "code",
   "execution_count": null,
   "id": "f881f4cc",
   "metadata": {},
   "outputs": [],
   "source": []
  },
  {
   "cell_type": "code",
   "execution_count": null,
   "id": "578aba24",
   "metadata": {},
   "outputs": [],
   "source": []
  },
  {
   "cell_type": "code",
   "execution_count": null,
   "id": "b7ff1a78",
   "metadata": {},
   "outputs": [],
   "source": [
    "print(groups.results[\"WminusmunuPostVFP\"][\"output\"][\"nominal\"].sum(flow=True))\n",
    "print(groups.results[\"WminusmunuPostVFP\"][\"output\"][\"qcdScale\"][{\"muRfact\" : 1.j, \"muFfact\" : 1.j}].sum(flow=True))\n"
   ]
  },
  {
   "cell_type": "code",
   "execution_count": null,
   "id": "b669a3d0",
   "metadata": {},
   "outputs": [],
   "source": [
    "groups.results[\"WminusmunuPostVFP\"][\"output\"][\"nominal\"].project(\"pt\").plot(label=\"nominal\")\n",
    "groups.results[\"WminusmunuPostVFP\"][\"output\"][\"qcdScaleByHelicity\"][{\"muRfact\" : 1.j, \"muFfact\" : 1.j}].project(\"pt\").plot()\n",
    "plt.legend()"
   ]
  },
  {
   "cell_type": "code",
   "execution_count": null,
   "id": "8a2189e6",
   "metadata": {},
   "outputs": [],
   "source": [
    "groups.results[\"WplusmunuPostVFP\"][\"output\"][\"nominal\"].project(\"pt\").plot(label=\"nominal\")\n",
    "groups.results[\"WplusmunuPostVFP\"][\"output\"][\"qcdScaleByHelicity\"][{\"muRfact\" : 1.j, \"muFfact\" : 1.j}].project(\"pt\").plot()\n",
    "plt.legend()"
   ]
  },
  {
   "cell_type": "code",
   "execution_count": null,
   "id": "dffd6ef4",
   "metadata": {},
   "outputs": [],
   "source": [
    "groups.results[\"WminusmunuPostVFP\"][\"output\"][\"qcdScaleByHelicity\"]"
   ]
  },
  {
   "cell_type": "code",
   "execution_count": null,
   "id": "989e9fa4",
   "metadata": {},
   "outputs": [],
   "source": [
    "#groups.results[\"WplusmunuPostVFP\"][\"output\"][\"qcdScaleByHelicity\"]\n",
    "groups.results[\"WminusmunuPostVFP\"][\"output\"][\"qcdScaleByHelicity\"]"
   ]
  },
  {
   "cell_type": "code",
   "execution_count": null,
   "id": "18608c02",
   "metadata": {},
   "outputs": [],
   "source": [
    "orig = groups.results[\"WplusmunuPostVFP\"][\"output\"][\"qcdScaleByHelicity\"].copy()\n",
    "orig"
   ]
  },
  {
   "cell_type": "code",
   "execution_count": null,
   "id": "5be40d5f",
   "metadata": {},
   "outputs": [],
   "source": [
    "orig_sum = orig +  groups.results[\"WminusmunuPostVFP\"][\"output\"][\"qcdScaleByHelicity\"]"
   ]
  },
  {
   "cell_type": "code",
   "execution_count": null,
   "id": "be920f42",
   "metadata": {},
   "outputs": [],
   "source": [
    "groups.loadHistsForDatagroups(\"nominal\", syst=\"qcdScaleByHelicity\", procsToRead=[\"Wmunu\"], forceNonzero=False, selectSignal=False,\n",
    "    preOpMap={x : syst_tools.scale_helicity_hist_to_variations for x in common.vprocs},\n",
    "    preOpArgs={\"sum_axis\" : [ \"helicity\", \"ptVgen\",]})"
   ]
  },
  {
   "cell_type": "code",
   "execution_count": null,
   "id": "6e2849d0",
   "metadata": {},
   "outputs": [],
   "source": [
    "groups.loadHistsForDatagroups(\"nominal\", syst=\"qcdScaleByHelicity\", procsToRead=[\"Zmumu\"], forceNonzero=False, selectSignal=False,               \n",
    "    preOpMap={x : syst_tools.scale_helicity_hist_to_variations for x in common.vprocs},\n",
    "    preOpArgs={\"sum_axis\" : [\"ptVgen\",]})"
   ]
  },
  {
   "cell_type": "code",
   "execution_count": null,
   "id": "e0d24d0d",
   "metadata": {},
   "outputs": [],
   "source": [
    "groups.loadHistsForDatagroups(\"nominal\", syst=\"\", procsToRead=[\"Fake\",], selectSignal=True, forceNonzero=False)"
   ]
  },
  {
   "cell_type": "code",
   "execution_count": null,
   "id": "dda4554c",
   "metadata": {},
   "outputs": [],
   "source": [
    "groups.loadHistsForDatagroups(\"nominal\", syst=\"qcdScale\", procsToRead=[\"Fake\",], forceNonzero=False, selectSignal=True,\n",
    "    preOpMap={x : syst_tools.scale_helicity_hist_to_variations for x in common.vprocs},\n",
    "                             )#preOpArgs={\"sum_axis\" : [\"ptVgen\"]})"
   ]
  },
  {
   "cell_type": "code",
   "execution_count": null,
   "id": "c3532a1b",
   "metadata": {},
   "outputs": [],
   "source": [
    "res = groups.getDatagroups()"
   ]
  },
  {
   "cell_type": "code",
   "execution_count": null,
   "id": "f4dcf6b7",
   "metadata": {},
   "outputs": [],
   "source": [
    "res[\"Fake\"][\"qcdScale\"][{\"muRfact\" : 1.j, \"muFfact\" : 1.j, \"ptVgen\" : 10, \"chargeVgen\" : -1.j}]"
   ]
  },
  {
   "cell_type": "code",
   "execution_count": null,
   "id": "cdad10f8",
   "metadata": {},
   "outputs": [],
   "source": [
    "res[\"Fake\"][\"nominal\"]"
   ]
  },
  {
   "cell_type": "code",
   "execution_count": null,
   "id": "a7c59d57",
   "metadata": {},
   "outputs": [],
   "source": [
    "hh.divideHists(res[\"Fake\"][\"qcdScale\"][{\"muRfact\" : 0.5j, \"muFfact\" : 0.5j, \"ptVgen\" :1, \"chargeVgen\" : 1.j}].project(\"pt\"),\n",
    "    res[\"Fake\"][\"nominal\"].project(\"pt\")).plot()\n",
    "hh.divideHists(res[\"Fake\"][\"qcdScale\"][{\"muRfact\" : 2j, \"muFfact\" : 2j, \"ptVgen\" :1, \"chargeVgen\" : 1.j}].project(\"pt\"),\n",
    "    res[\"Fake\"][\"nominal\"].project(\"pt\")).plot()\n",
    "plt.ylim([0.9, 1.1])"
   ]
  },
  {
   "cell_type": "code",
   "execution_count": null,
   "id": "af0faebe",
   "metadata": {},
   "outputs": [],
   "source": [
    "res[\"Fake\"][\"qcdScaleByHelicity\"][{\"muRfact\" : 2j, \"muFfact\" : 2j}].project(\"pt\").plot()\n",
    "res[\"Fake\"][\"nominal\"].project(\"pt\").plot()\n",
    "\n"
   ]
  },
  {
   "cell_type": "code",
   "execution_count": null,
   "id": "6b992769",
   "metadata": {},
   "outputs": [],
   "source": [
    "read = pickle.load(lz4.frame.open(\"../mw_with_mu_eta_pt_nnpdf31.pkl.lz4\", \"rb\"))"
   ]
  },
  {
   "cell_type": "code",
   "execution_count": null,
   "id": "3ec0e48f",
   "metadata": {},
   "outputs": [],
   "source": [
    "print(res[\"WplusmunuPostVFP\"][\"output\"][\"qcdScaleByHelicity\"][{\"helicity\" : s[::hist.sum], \"muRfact\" : 1.j, \"muFfact\" :1.j}].sum())\n",
    "print(res[\"WplusmunuPostVFP\"][\"output\"][\"qcdScaleByHelicity\"][{\"helicity\" : -1.j, \"muRfact\" : -1.j, \"muFfact\" :1.j,}].sum())"
   ]
  },
  {
   "cell_type": "code",
   "execution_count": null,
   "id": "5259df03",
   "metadata": {},
   "outputs": [],
   "source": [
    "groups.results[\"WplusmunuPostVFP\"][\"output\"][\"qcdScaleByHelicity\"][{\"chargeVgen\" : s[::hist.sum], \"ptVgen\" : s[::hist.sum], \"helicity\" : s[::hist.sum], \"muRfact\" : -1.j, \"muFfact\" :1.j,}]"
   ]
  },
  {
   "cell_type": "code",
   "execution_count": null,
   "id": "0a119021",
   "metadata": {},
   "outputs": [],
   "source": [
    "groups.results[\"WplusmunuPostVFP\"][\"output\"][\"nominal\"]"
   ]
  },
  {
   "cell_type": "code",
   "execution_count": null,
   "id": "781a8061",
   "metadata": {},
   "outputs": [],
   "source": [
    "res[\"Wmunu\"][\"qcdScaleByHelicity\"][{\"chargeVgen\" : 1.j, \"muRfact\" : 1j, \"muFfact\" : 1j, \"helicity\" : 4.j, \"ptVgen\" : 1}]"
   ]
  },
  {
   "cell_type": "code",
   "execution_count": null,
   "id": "7e8ebfcf",
   "metadata": {},
   "outputs": [],
   "source": [
    "for i in range(8):\n",
    "    hh.divideHists(res[\"Wmunu\"][\"qcdScaleByHelicity\"][{\"chargeVgen\" : 1.j, \"muRfact\" : 2j, \"muFfact\" : 2j, \"helicity\" : i, }].project(\"pt\"),\n",
    "    groups.results[\"WplusmunuPostVFP\"][\"output\"][\"nominal\"].project(\"pt\")).plot()\n",
    "    hh.divideHists(res[\"Wmunu\"][\"qcdScaleByHelicity\"][{\"chargeVgen\" : 1.j, \"muRfact\" : 0.5j, \"muFfact\" : 0.5j, \"helicity\" : i, }].project(\"pt\"),\n",
    "    groups.results[\"WplusmunuPostVFP\"][\"output\"][\"nominal\"].project(\"pt\")).plot()\n",
    "plt.ylim([0.96, 1.04])"
   ]
  },
  {
   "cell_type": "code",
   "execution_count": null,
   "id": "48fcc9f0",
   "metadata": {},
   "outputs": [],
   "source": [
    "print(res[\"Fake\"][\"nominal\"][{\"charge\" : 1.j}].sum())\n",
    "print(res[\"Fake\"][\"nominal\"][{\"charge\" : -1.j}].sum())"
   ]
  },
  {
   "cell_type": "code",
   "execution_count": null,
   "id": "41db46a9",
   "metadata": {},
   "outputs": [],
   "source": [
    "res[\"Fake\"][\"qcdScale\"].axes[\"ptVgen\"].size"
   ]
  },
  {
   "cell_type": "code",
   "execution_count": null,
   "id": "14a61799",
   "metadata": {},
   "outputs": [],
   "source": [
    "import uproot\n",
    "combf = uproot.open(\"../test/WMassCombineInput.root\")"
   ]
  },
  {
   "cell_type": "code",
   "execution_count": null,
   "id": "51749c15",
   "metadata": {},
   "outputs": [],
   "source": [
    "print(combf[\"x_Fake_plus\"].to_hist().sum())\n",
    "print(combf[\"x_Fake_minus\"].to_hist().sum())"
   ]
  },
  {
   "cell_type": "code",
   "execution_count": null,
   "id": "b593887d",
   "metadata": {},
   "outputs": [],
   "source": [
    "refm = combf[\"x_Fake_minus\"].to_hist().sum().value\n",
    "refp = combf[\"x_Fake_plus\"].to_hist().sum().value"
   ]
  },
  {
   "cell_type": "code",
   "execution_count": null,
   "id": "ccf14482",
   "metadata": {},
   "outputs": [],
   "source": [
    "res[\"Fake\"][\"qcdScale\"].axes[\"ptVgen\"].size"
   ]
  },
  {
   "cell_type": "code",
   "execution_count": null,
   "id": "54751dc2",
   "metadata": {},
   "outputs": [],
   "source": [
    "for c in [\"minus\", \"plus\"]:\n",
    "    for i in range(0,int(res[\"Fake\"][\"qcdScale\"].axes[\"ptVgen\"].size/2)):\n",
    "        print(\"Q=\", c, \"bin\", i, combf[f\"x_Fake_QCDscale_genV{c}genPtV{i}muRmuFDown_plus\"].to_hist().sum().value/refp)"
   ]
  },
  {
   "cell_type": "code",
   "execution_count": 25,
   "id": "2269674b",
   "metadata": {},
   "outputs": [],
   "source": [
    "with lz4.frame.open(\"/scratch/kelong/Analysis/mz_wlike_with_mu_eta_pt_RawPFMET_scetlibCorr_nnpdf31.pkl.lz4\") as f:\n",
    "    res = pickle.load(f)"
   ]
  },
  {
   "cell_type": "code",
   "execution_count": 27,
   "id": "14c2123f",
   "metadata": {},
   "outputs": [
    {
     "data": {
      "text/plain": [
       "Hist(\n",
       "  Regular(60, 60, 120, name='mll'),\n",
       "  Regular(25, -2.5, 2.5, name='yll'),\n",
       "  Variable(array([  0.  ,   2.  ,   3.  ,   4.  ,   4.75,   5.5 ,   6.5 ,   8.  ,\n",
       "         9.  ,  10.  ,  12.  ,  14.  ,  16.  ,  18.  ,  20.  ,  23.  ,\n",
       "        27.  ,  32.  ,  40.  ,  55.  , 100.  , 150.  ]), name='ptll'),\n",
       "  Regular(2, -2, 2, underflow=False, overflow=False, name='charge'),\n",
       "  Integer(0, 21, underflow=False, overflow=False, name='tensor_axis_0'),\n",
       "  storage=Weight()) # Sum: WeightedSum(value=4.04745e+08, variance=4.70231e+08) (WeightedSum(value=4.06904e+08, variance=4.7249e+08) with flow)"
      ]
     },
     "execution_count": 27,
     "metadata": {},
     "output_type": "execute_result"
    }
   ],
   "source": [
    "res[\"ZmumuPostVFP\"][\"output\"][\"massWeight\"]"
   ]
  }
 ],
 "metadata": {
  "kernelspec": {
   "display_name": "Python 3 (ipykernel)",
   "language": "python",
   "name": "python3"
  },
  "language_info": {
   "codemirror_mode": {
    "name": "ipython",
    "version": 3
   },
   "file_extension": ".py",
   "mimetype": "text/x-python",
   "name": "python",
   "nbconvert_exporter": "python",
   "pygments_lexer": "ipython3",
   "version": "3.10.8"
  }
 },
 "nbformat": 4,
 "nbformat_minor": 5
}
