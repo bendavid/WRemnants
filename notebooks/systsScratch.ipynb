{
 "cells": [
  {
   "cell_type": "code",
   "execution_count": null,
   "id": "3dfe1779",
   "metadata": {},
   "outputs": [],
   "source": [
    "import mplhep as hep\n",
    "import matplotlib.pyplot as plt\n",
    "from wremnants.datasets.datagroups import datagroups2016\n",
    "from wremnants import boostHistHelpers as hh\n",
    "from wremnants import plotTools,syst_tools\n",
    "from wremnants import histselections as sel\n",
    "import hist\n",
    "import narf\n",
    "import numpy as np"
   ]
  },
  {
   "cell_type": "code",
   "execution_count": null,
   "id": "77eb7135",
   "metadata": {},
   "outputs": [],
   "source": [
    "%load_ext autoreload\n",
    "%autoreload 2"
   ]
  },
  {
   "cell_type": "code",
   "execution_count": null,
   "id": "60aa8024",
   "metadata": {},
   "outputs": [],
   "source": [
    "groups = datagroups2016(\"../mw_with_mu_eta_pt.pkl.lz4\")\n"
   ]
  },
  {
   "cell_type": "code",
   "execution_count": null,
   "id": "f4114925",
   "metadata": {},
   "outputs": [],
   "source": [
    "# This is for reading groups\n",
    "procDict = groups.datagroupsForHist(\"nominal\", label=\"nominal\", procsToRead=[\"Wmunu\"])\n",
    "procDict = groups.datagroupsForHist(\"muonScaleSyst\", label=\"muonScaleSyst\", procsToRead=[\"Wmunu\"])"
   ]
  },
  {
   "cell_type": "code",
   "execution_count": null,
   "id": "e6879f8c",
   "metadata": {},
   "outputs": [],
   "source": [
    "procDict[\"Wmunu\"][\"muonScaleSyst\"][{\"downUpVar\" : 1, \"scaleEtaSlice\" : 1.j}]"
   ]
  },
  {
   "cell_type": "code",
   "execution_count": null,
   "id": "d5aad4a2",
   "metadata": {},
   "outputs": [],
   "source": [
    "procDict[\"Wmunu\"][\"nominal\"]"
   ]
  },
  {
   "cell_type": "code",
   "execution_count": null,
   "id": "5e3ebc57",
   "metadata": {},
   "outputs": [],
   "source": [
    "hscaleUp = procDict[\"Wmunu\"][\"muonScaleSyst\"][{\"downUpVar\" : 1, \"scaleEtaSlice\" : 1.j}]\n",
    "hscaleDown = procDict[\"Wmunu\"][\"muonScaleSyst\"][{\"downUpVar\" : 0, \"scaleEtaSlice\" : 1.j}]"
   ]
  },
  {
   "cell_type": "code",
   "execution_count": null,
   "id": "ca4fe1f4",
   "metadata": {},
   "outputs": [],
   "source": [
    "hnom = procDict[\"Wmunu\"][\"nominal\"]\n",
    "# Can also read specific samples by accessing the original \n",
    "hnomminus = groups.results[\"WminusmunuPostVFP\"][\"output\"][\"nominal\"]"
   ]
  },
  {
   "cell_type": "code",
   "execution_count": null,
   "id": "5331bc6e",
   "metadata": {},
   "outputs": [],
   "source": [
    "hscaleUp.project(\"pt\").plot()"
   ]
  },
  {
   "cell_type": "code",
   "execution_count": null,
   "id": "8adff4c3",
   "metadata": {},
   "outputs": [],
   "source": [
    "hh.divideHists(hscaleUp.project(\"pt\"), hnom.project(\"pt\")).plot()\n",
    "hh.divideHists(hscaleDown.project(\"pt\"), hnom.project(\"pt\")).plot()\n",
    "plt.ylim([0.995, 1.005])"
   ]
  },
  {
   "cell_type": "code",
   "execution_count": null,
   "id": "124f6db5",
   "metadata": {},
   "outputs": [],
   "source": [
    "combine = datagroups2016(\"../temp/WMassCombineInput.root\")"
   ]
  },
  {
   "cell_type": "code",
   "execution_count": null,
   "id": "a9cb0a83",
   "metadata": {},
   "outputs": [],
   "source": [
    "procs = combine.datagroupsForHist(\"x_Wmunu_plus\", label=\"nominal\")\n",
    "procs = combine.datagroupsForHist(\"x_Wmunu_CMS_scale_m_ieta0Up_plus\", label=\"scaleEta0Up\")\n",
    "procs = combine.datagroupsForHist(\"x_Wmunu_CMS_scale_m_ieta0Down_plus\", label=\"scaleEta0Down\")\n",
    "procs = combine.datagroupsForHist(\"x_Wmunu_pdf1NNPDF31Up_plus\", label=\"pdf1Up\")\n",
    "procs = combine.datagroupsForHist(\"x_Wmunu_pdf1NNPDF31Down_plus\", label=\"pdf1Down\")"
   ]
  },
  {
   "cell_type": "code",
   "execution_count": null,
   "id": "793bb1d9",
   "metadata": {},
   "outputs": [],
   "source": [
    "hh.divideHists(procs[\"Wmunu\"][\"scaleEta0Up\"], procs[\"Wmunu\"][\"nominal\"]).plot()\n",
    "hh.divideHists(procs[\"Wmunu\"][\"scaleEta0Down\"], procs[\"Wmunu\"][\"nominal\"]).plot()\n",
    "#plt.ylim([0.99, 1.01])"
   ]
  },
  {
   "cell_type": "code",
   "execution_count": null,
   "id": "99c44990",
   "metadata": {},
   "outputs": [],
   "source": [
    "hmirror = hh.mirrorHist(hnom, procs[\"Wmunu\"][\"pdf1Up\"])"
   ]
  },
  {
   "cell_type": "code",
   "execution_count": null,
   "id": "75401183",
   "metadata": {},
   "outputs": [],
   "source": [
    "hh.divideHists(procs[\"Wmunu\"][\"pdf1Up\"].project(\"pt\"),procs[\"Wmunu\"][\"nominal\"].project(\"pt\")).plot()\n",
    "hh.divideHists(procs[\"Wmunu\"][\"pdf1Down\"].project(\"pt\"),procs[\"Wmunu\"][\"nominal\"].project(\"pt\")).plot()\n",
    "plt.ylim([0.99, 1.01])"
   ]
  },
  {
   "cell_type": "code",
   "execution_count": null,
   "id": "b3637959",
   "metadata": {},
   "outputs": [],
   "source": [
    "hists = [sel.unrolledHist(h) for h in [procs[\"Wmunu\"][\"nominal\"], procs[\"Wmunu\"][\"scaleEta0Up\"], procs[\"Wmunu\"][\"scaleEta0Down\"]]]\n",
    "#hists = [h.project(\"pt\") for h in [procs[\"Wmunu\"][\"nominal\"], procs[\"Wmunu\"][\"pdf1Up\"], procs[\"Wmunu\"][\"pdf1Down\"]]]\n",
    "colors = [\"black\", \"red\", \"pink\"]\n",
    "labels = [\"nominal\", \"scaleEta0Up\", \"scaleEta0Down\"]\n",
    "\n",
    "fig = plotTools.makePlotsWithRatioToRef(hists, labels, colors, xlabel=r\"($\\eta$, p$_{T}$) bin\", scale=1e5,rrange=[0.998, 1.002])\n"
   ]
  },
  {
   "cell_type": "code",
   "execution_count": null,
   "id": "5a0b8369",
   "metadata": {},
   "outputs": [],
   "source": [
    "hists = [sel.unrolledHist(h) for h in [procs[\"Wmunu\"][\"nominal\"], procs[\"Wmunu\"][\"pdf1Up\"], procs[\"Wmunu\"][\"pdf1Down\"]]]\n",
    "colors = [\"black\", \"red\", \"pink\"]\n",
    "labels = [\"nominal\", \"pdf1Up\", \"pdf1Down\"]\n",
    "\n",
    "fig = plotTools.makePlotsWithRatioToRef(hists, labels, colors, xlabel=r\"($\\eta$, p$_{T}$) bin\", scale=1e5,rrange=[0.995, 1.005])\n"
   ]
  },
  {
   "cell_type": "code",
   "execution_count": null,
   "id": "d42cadd1",
   "metadata": {},
   "outputs": [],
   "source": []
  },
  {
   "cell_type": "code",
   "execution_count": null,
   "id": "85a102ba",
   "metadata": {},
   "outputs": [],
   "source": [
    "histInfo = groups.datagroupsForHist(\"qcdScaleByHelicity\", selectSignal=True, label=\"qcdScaleByHelicity\", procsToRead=[\"Wmunu\"])"
   ]
  },
  {
   "cell_type": "code",
   "execution_count": null,
   "id": "cda22cbf",
   "metadata": {},
   "outputs": [],
   "source": []
  },
  {
   "cell_type": "code",
   "execution_count": null,
   "id": "6173775a",
   "metadata": {},
   "outputs": [],
   "source": [
    "histInfo[\"Wmunu\"][\"qcdScaleByHelicitySum\"] = syst_tools.scale_helicity_hist_to_variations(histInfo[\"Wmunu\"][\"qcdScaleByHelicity\"])"
   ]
  },
  {
   "cell_type": "code",
   "execution_count": null,
   "id": "b69d9b27",
   "metadata": {},
   "outputs": [],
   "source": [
    "s = hist.tag.Slicer()\n",
    "hVarNom = histInfo[\"Wmunu\"][\"qcdScaleByHelicity\"][{\"ptVgen\" : s[::hist.sum], \"chargeVgen\" : s[::hist.sum], \"helicity\" : s[::hist.sum], \"muRfact\" : s[1.j], \"muFfact\" : s[1.j] }]\n"
   ]
  },
  {
   "cell_type": "code",
   "execution_count": null,
   "id": "e1b313f8",
   "metadata": {},
   "outputs": [],
   "source": [
    "selections = [{\"muRfact\" : j, \"muFfact\" : j, \"helicity\" : i, \"ptVgen\" : 0, \"chargeVgen\" : 0} for i in range(2) for j in [0,1,2]]"
   ]
  },
  {
   "cell_type": "code",
   "execution_count": null,
   "id": "02273d63",
   "metadata": {},
   "outputs": [],
   "source": [
    "hists = [sel.unrolledHist(histInfo[\"Wmunu\"][\"nominal\"])]\n",
    "hists.append(sel.unrolledHist(hVarNom))\n",
    "hists.extend([sel.unrolledHist(histInfo[\"Wmunu\"][\"qcdScaleByHelicitySum\"][s]) for s in selections])"
   ]
  },
  {
   "cell_type": "code",
   "execution_count": null,
   "id": "fc07186e",
   "metadata": {},
   "outputs": [],
   "source": [
    "labels = [\"nominal\", \"varNom\",\"sumNom\"]+[\"test%i\" % i for i in range(5)]\n",
    "colors = [\"black\", \"blue\", \"red\", \"lightgreen\", \"green\", \"pink\", \"orange\", \"lightblue\"]"
   ]
  },
  {
   "cell_type": "code",
   "execution_count": null,
   "id": "0ed0a771",
   "metadata": {},
   "outputs": [],
   "source": [
    "fig = plotTools.makePlotsWithRatioToRef(hists, labels, colors, xlabel=r\"p$_{T}$ (GeV)\", scale=3e5,rrange=[0.8, 1.1])"
   ]
  },
  {
   "cell_type": "code",
   "execution_count": null,
   "id": "5f6a158e",
   "metadata": {},
   "outputs": [],
   "source": [
    "print(histInfo[\"Wmunu\"][\"nominal\"].sum(flow=True))\n",
    "print(histInfo[\"Wmunu\"][\"qcdScaleByHelicity\"][{\"muRfact\" :1.j, \"muFfact\" : 1.j}].sum(flow=True))"
   ]
  }
 ],
 "metadata": {
  "kernelspec": {
   "display_name": "Python 3 (ipykernel)",
   "language": "python",
   "name": "python3"
  },
  "language_info": {
   "codemirror_mode": {
    "name": "ipython",
    "version": 3
   },
   "file_extension": ".py",
   "mimetype": "text/x-python",
   "name": "python",
   "nbconvert_exporter": "python",
   "pygments_lexer": "ipython3",
   "version": "3.10.2"
  }
 },
 "nbformat": 4,
 "nbformat_minor": 5
}
