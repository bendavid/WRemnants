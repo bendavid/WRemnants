{
 "cells": [
  {
   "cell_type": "code",
   "execution_count": 61,
   "id": "3dfe1779",
   "metadata": {},
   "outputs": [],
   "source": [
    "import mplhep as hep\n",
    "import matplotlib.pyplot as plt\n",
    "from wremnants.datasets.datagroups import datagroups2016\n",
    "from wremnants import boostHistHelpers as hh\n",
    "from wremnants import plot_tools,syst_tools\n",
    "from wremnants import histselections as sel\n",
    "import hist\n",
    "import narf\n",
    "import numpy as np"
   ]
  },
  {
   "cell_type": "code",
   "execution_count": 60,
   "id": "77eb7135",
   "metadata": {},
   "outputs": [
    {
     "name": "stdout",
     "output_type": "stream",
     "text": [
      "The autoreload extension is already loaded. To reload it, use:\n",
      "  %reload_ext autoreload\n"
     ]
    }
   ],
   "source": [
    "%load_ext autoreload\n",
    "%autoreload 2"
   ]
  },
  {
   "cell_type": "code",
   "execution_count": 3,
   "id": "60aa8024",
   "metadata": {},
   "outputs": [],
   "source": [
    "groups = datagroups2016(\"../mw_with_mu_eta_pt.pkl.lz4\")\n"
   ]
  },
  {
   "cell_type": "code",
   "execution_count": null,
   "id": "b1d22306",
   "metadata": {},
   "outputs": [],
   "source": [
    "groups.results[\"WplusmunuPostVFP\"][\"output\"][\"alphaS002NNPDF31\"]"
   ]
  },
  {
   "cell_type": "code",
   "execution_count": null,
   "id": "f4114925",
   "metadata": {},
   "outputs": [],
   "source": [
    "# This is for reading groups\n",
    "groups.loadHistsForDatagroups(\"nominal\", syst=\"\", procsToRead=[\"Wmunu\"])\n",
    "groups.loadHistsForDatagroups(\"\", syst=\"muonScaleSyst\", procsToRead=[\"Wmunu\"])\n",
    "groups.loadHistsForDatagroups(\"\", syst=\"muonScaleSyst_responseWeights\", procsToRead=[\"Wmunu\"])\n",
    "histInfo = groups.getDatagroups()"
   ]
  },
  {
   "cell_type": "code",
   "execution_count": null,
   "id": "e6879f8c",
   "metadata": {},
   "outputs": [],
   "source": [
    "# This is for reading groups\n",
    "groups.loadHistsForDatagroups(\"nominal\", syst=\"\", procsToRead=[\"Wmunu\"])\n",
    "groups.loadHistsForDatagroups(\"\", syst=\"qcdScaleByHelicity\", procsToRead=[\"Wmunu\"])\n",
    "histInfo = groups.getDatagroups()"
   ]
  },
  {
   "cell_type": "code",
   "execution_count": null,
   "id": "d5aad4a2",
   "metadata": {},
   "outputs": [],
   "source": [
    "for i in range(9):\n",
    "    sel.unrolledHist(procDict[\"Wmunu\"][\"qcdScaleByHelicity\"][{\"muRfact\" : 2.j, \"muFfact\" : 2.j, \"helicity\" : i}]).plot(label=f\"Coeff {i}\")\n",
    "plt.legend()\n",
    "  "
   ]
  },
  {
   "cell_type": "code",
   "execution_count": null,
   "id": "87f3e00b",
   "metadata": {},
   "outputs": [],
   "source": []
  },
  {
   "cell_type": "code",
   "execution_count": null,
   "id": "5e3ebc57",
   "metadata": {},
   "outputs": [],
   "source": [
    "hscaleUp = procDict[\"Wmunu\"][\"muonScaleSyst\"][{\"downUpVar\" : 1, \"scaleEtaSlice\" : 1.j}]\n",
    "hscaleDown = procDict[\"Wmunu\"][\"muonScaleSyst\"][{\"downUpVar\" : 0, \"scaleEtaSlice\" : 1.j}]"
   ]
  },
  {
   "cell_type": "code",
   "execution_count": null,
   "id": "ca4fe1f4",
   "metadata": {},
   "outputs": [],
   "source": [
    "hnom = procDict[\"Wmunu\"][\"nominal\"]\n",
    "# Can also read specific samples by accessing the original \n",
    "hnomminus = groups.results[\"WminusmunuPostVFP\"][\"output\"][\"nominal\"]"
   ]
  },
  {
   "cell_type": "code",
   "execution_count": null,
   "id": "5331bc6e",
   "metadata": {},
   "outputs": [],
   "source": [
    "hscaleUp.project(\"pt\").plot()"
   ]
  },
  {
   "cell_type": "code",
   "execution_count": null,
   "id": "8adff4c3",
   "metadata": {},
   "outputs": [],
   "source": [
    "hh.divideHists(hscaleUp.project(\"pt\"), hnom.project(\"pt\")).plot()\n",
    "hh.divideHists(hscaleDown.project(\"pt\"), hnom.project(\"pt\")).plot()\n",
    "plt.ylim([0.995, 1.005])"
   ]
  },
  {
   "cell_type": "code",
   "execution_count": null,
   "id": "124f6db5",
   "metadata": {},
   "outputs": [],
   "source": [
    "combine = datagroups2016(\"../temp/WMassCombineInput.root\")"
   ]
  },
  {
   "cell_type": "code",
   "execution_count": null,
   "id": "a9cb0a83",
   "metadata": {},
   "outputs": [],
   "source": [
    "procs = combine.datagroupsForHist(\"x_Wmunu_plus\", label=\"nominal\")\n",
    "procs = combine.datagroupsForHist(\"x_Wmunu_CMS_scale_m_ieta0Up_plus\", label=\"scaleEta0Up\")\n",
    "procs = combine.datagroupsForHist(\"x_Wmunu_CMS_scale_m_ieta0Down_plus\", label=\"scaleEta0Down\")\n",
    "procs = combine.datagroupsForHist(\"x_Wmunu_pdf1NNPDF31Up_plus\", label=\"pdf1Up\")\n",
    "procs = combine.datagroupsForHist(\"x_Wmunu_pdf1NNPDF31Down_plus\", label=\"pdf1Down\")"
   ]
  },
  {
   "cell_type": "code",
   "execution_count": null,
   "id": "793bb1d9",
   "metadata": {},
   "outputs": [],
   "source": [
    "hh.divideHists(procs[\"Wmunu\"][\"scaleEta0Up\"], procs[\"Wmunu\"][\"nominal\"]).plot()\n",
    "hh.divideHists(procs[\"Wmunu\"][\"scaleEta0Down\"], procs[\"Wmunu\"][\"nominal\"]).plot()\n",
    "#plt.ylim([0.99, 1.01])"
   ]
  },
  {
   "cell_type": "code",
   "execution_count": null,
   "id": "99c44990",
   "metadata": {},
   "outputs": [],
   "source": [
    "hmirror = hh.mirrorHist(hnom, procs[\"Wmunu\"][\"pdf1Up\"])"
   ]
  },
  {
   "cell_type": "code",
   "execution_count": null,
   "id": "75401183",
   "metadata": {},
   "outputs": [],
   "source": [
    "hh.divideHists(procs[\"Wmunu\"][\"pdf1Up\"].project(\"pt\"),procs[\"Wmunu\"][\"nominal\"].project(\"pt\")).plot()\n",
    "hh.divideHists(procs[\"Wmunu\"][\"pdf1Down\"].project(\"pt\"),procs[\"Wmunu\"][\"nominal\"].project(\"pt\")).plot()\n",
    "plt.ylim([0.99, 1.01])"
   ]
  },
  {
   "cell_type": "code",
   "execution_count": null,
   "id": "b3637959",
   "metadata": {},
   "outputs": [],
   "source": [
    "hists = [sel.unrolledHist(h) for h in [procs[\"Wmunu\"][\"nominal\"], procs[\"Wmunu\"][\"scaleEta0Up\"], procs[\"Wmunu\"][\"scaleEta0Down\"]]]\n",
    "#hists = [h.project(\"pt\") for h in [procs[\"Wmunu\"][\"nominal\"], procs[\"Wmunu\"][\"pdf1Up\"], procs[\"Wmunu\"][\"pdf1Down\"]]]\n",
    "colors = [\"black\", \"red\", \"pink\"]\n",
    "labels = [\"nominal\", \"scaleEta0Up\", \"scaleEta0Down\"]\n",
    "\n",
    "fig = plotTools.makePlotsWithRatioToRef(hists, labels, colors, xlabel=r\"($\\eta$, p$_{T}$) bin\", scale=1e5,rrange=[0.998, 1.002])\n"
   ]
  },
  {
   "cell_type": "code",
   "execution_count": null,
   "id": "5a0b8369",
   "metadata": {},
   "outputs": [],
   "source": [
    "hists = [sel.unrolledHist(h) for h in [procs[\"Wmunu\"][\"nominal\"], procs[\"Wmunu\"][\"pdf1Up\"], procs[\"Wmunu\"][\"pdf1Down\"]]]\n",
    "colors = [\"black\", \"red\", \"pink\"]\n",
    "labels = [\"nominal\", \"pdf1Up\", \"pdf1Down\"]\n",
    "\n",
    "fig = plotTools.makePlotsWithRatioToRef(hists, labels, colors, xlabel=r\"($\\eta$, p$_{T}$) bin\", scale=1e5,rrange=[0.995, 1.005])\n"
   ]
  },
  {
   "cell_type": "code",
   "execution_count": 7,
   "id": "d42cadd1",
   "metadata": {},
   "outputs": [],
   "source": [
    "histInfo = groups.getDatagroups()\n",
    "groups.loadHistsForDatagroups(\"nominal\", syst=\"\", selectSignal=True, label=\"nominal\", procsToRead=[\"Wmunu\"])"
   ]
  },
  {
   "cell_type": "code",
   "execution_count": 55,
   "id": "85a102ba",
   "metadata": {},
   "outputs": [],
   "source": [
    "groups.loadHistsForDatagroups(\"\", syst=\"qcdScaleByHelicity\", selectSignal=True, label=\"qcdScaleByHelicity\", procsToRead=[\"Wmunu\"], forceNonzero=False)"
   ]
  },
  {
   "cell_type": "code",
   "execution_count": 54,
   "id": "cda22cbf",
   "metadata": {},
   "outputs": [
    {
     "data": {
      "text/html": [
       "<html>\n",
       "<div style=\"display:flex; align-items:center;\">\n",
       "<div style=\"width:290px;\">\n",
       "<svg xmlns=\"http://www.w3.org/2000/svg\" viewBox=\"-10 -10 220 220\">\n",
       "<rect x=\"0\" y=\"0\" width=\"160\" height=\"160\" style=\"fill:white;opacity:.5;stroke-width:2;stroke:currentColor;\"/>\n",
       "<rect x=\"20\" y=\"20\" width=\"160\" height=\"160\" style=\"fill:white;opacity:.5;stroke-width:2;stroke:currentColor;\"/>\n",
       "<rect x=\"40\" y=\"40\" width=\"160\" height=\"160\" style=\"fill:white;opacity:.5;stroke-width:2;stroke:currentColor;\"/>\n",
       "<text x=\"120.0\" y=\"120.0\" style=\"font-size: 26pt; font-family: verdana; font-style: bold; fill: black;\" text-anchor=\"middle\" alignment-baseline=\"middle\">\n",
       "7D\n",
       "</text>\n",
       "</svg>\n",
       "</div>\n",
       "<div style=\"flex=grow:1;\">\n",
       "Regular(48, -2.4, 2.4, name='eta', label='eta')<br/>\n",
       "Regular(29, 26, 55, name='pt', label='pt')<br/>\n",
       "Regular(2, -2, 2, underflow=False, overflow=False, name='charge', label='charge')<br/>\n",
       "Regular(2, -2, 2, underflow=False, overflow=False, name='chargeVgen', label='chargeVgen')<br/>\n",
       "Integer(-1, 8, underflow=False, overflow=False, name='helicity', label='helicity')<br/>\n",
       "Variable([0.25, 0.75, 1.25, 2.75], underflow=False, overflow=False, name='muRfact', label='muRfact')<br/>\n",
       "Variable([0.25, 0.75, 1.25, 2.75], underflow=False, overflow=False, name='muFfact', label='muFfact')<br/>\n",
       "<hr style=\"margin-top:.2em; margin-bottom:.2em;\"/>\n",
       "Weight() Σ=WeightedSum(value=1.61805e+10, variance=1.49606e+10) <em>(WeightedSum(value=1.84686e+10, variance=1.6827e+10) with flow)</em>\n",
       "\n",
       "</div>\n",
       "</div>\n",
       "</html>"
      ],
      "text/plain": [
       "Hist(\n",
       "  Regular(48, -2.4, 2.4, name='eta', label='eta'),\n",
       "  Regular(29, 26, 55, name='pt', label='pt'),\n",
       "  Regular(2, -2, 2, underflow=False, overflow=False, name='charge', label='charge'),\n",
       "  Regular(2, -2, 2, underflow=False, overflow=False, name='chargeVgen', label='chargeVgen'),\n",
       "  Integer(-1, 8, underflow=False, overflow=False, name='helicity', label='helicity'),\n",
       "  Variable([0.25, 0.75, 1.25, 2.75], underflow=False, overflow=False, name='muRfact', label='muRfact'),\n",
       "  Variable([0.25, 0.75, 1.25, 2.75], underflow=False, overflow=False, name='muFfact', label='muFfact'),\n",
       "  storage=Weight()) # Sum: WeightedSum(value=1.61805e+10, variance=1.49606e+10) (WeightedSum(value=1.84686e+10, variance=1.6827e+10) with flow)"
      ]
     },
     "execution_count": 54,
     "metadata": {},
     "output_type": "execute_result"
    }
   ],
   "source": [
    "histInfo[\"Wmunu\"][\"qcdScaleByHelicity\"]"
   ]
  },
  {
   "cell_type": "code",
   "execution_count": 10,
   "id": "6173775a",
   "metadata": {},
   "outputs": [],
   "source": [
    "histInfo[\"Wmunu\"][\"qcdScaleByHelicitySum\"] = syst_tools.scale_helicity_hist_to_variations(histInfo[\"Wmunu\"][\"qcdScaleByHelicity\"])"
   ]
  },
  {
   "cell_type": "code",
   "execution_count": 11,
   "id": "b69d9b27",
   "metadata": {},
   "outputs": [],
   "source": [
    "s = hist.tag.Slicer()\n",
    "hVarNom = histInfo[\"Wmunu\"][\"qcdScaleByHelicity\"][{\"ptVgen\" : s[::hist.sum], \"chargeVgen\" : s[::hist.sum], \"helicity\" : s[::hist.sum], \"muRfact\" : s[1.j], \"muFfact\" : s[1.j] }]\n"
   ]
  },
  {
   "cell_type": "code",
   "execution_count": 12,
   "id": "e1b313f8",
   "metadata": {},
   "outputs": [],
   "source": [
    "selections = [{\"muRfact\" : hist.loc(j), \"muFfact\" : hist.loc(j), \"helicity\" : i, \"ptVgen\" : 0, \"chargeVgen\" : -1j} for i in range(2) for j in [0.5,1.,2.]]\n",
    "names = [f\"muR{j}_muF{j}_hel_sigma{i}_ptVgen0_minus\" for i in range(2) for j in [0.5,1.,2.]]"
   ]
  },
  {
   "cell_type": "code",
   "execution_count": 56,
   "id": "02273d63",
   "metadata": {},
   "outputs": [],
   "source": [
    "hists = [sel.unrolledHist(histInfo[\"Wmunu\"][\"nominal\"])]\n",
    "hists.extend([sel.unrolledHist(histInfo[\"Wmunu\"][\"qcdScaleByHelicitySum\"][s]) for s in selections])\n",
    "labels = [\"nominal\"]+names\n",
    "colors = [\"black\", \"blue\", \"purple\", \"green\", \"pink\", \"orange\", \"lightblue\"]"
   ]
  },
  {
   "cell_type": "code",
   "execution_count": 21,
   "id": "17714b8c",
   "metadata": {},
   "outputs": [],
   "source": [
    "hists = [histInfo[\"Wmunu\"][\"nominal\"].project(\"pt\")]\n",
    "hists.extend([histInfo[\"Wmunu\"][\"qcdScaleByHelicitySum\"][s].project(\"pt\") for s in selections])"
   ]
  },
  {
   "cell_type": "code",
   "execution_count": null,
   "id": "fc07186e",
   "metadata": {},
   "outputs": [],
   "source": []
  },
  {
   "cell_type": "code",
   "execution_count": null,
   "id": "46a77ecd",
   "metadata": {},
   "outputs": [],
   "source": []
  },
  {
   "cell_type": "code",
   "execution_count": 23,
   "id": "0ed0a771",
   "metadata": {},
   "outputs": [
    {
     "data": {
      "image/png": "[encoded data removed]",
      "text/plain": [
       "<Figure size 576x576 with 2 Axes>"
      ]
     },
     "metadata": {
      "needs_background": "light"
     },
     "output_type": "display_data"
    }
   ],
   "source": [
    "fig = plot_tools.makePlotWithRatioToRef(hists, labels, colors, xlabel=r\"p$_{T}$ (GeV)\", ymax=3e7,rrange=[0.99, 1.01])"
   ]
  },
  {
   "cell_type": "code",
   "execution_count": 80,
   "id": "645ff78b",
   "metadata": {},
   "outputs": [
    {
     "name": "stdout",
     "output_type": "stream",
     "text": [
      "10 10 10\n"
     ]
    },
    {
     "data": {
      "text/plain": [
       "(-100000.0, 8000000.0)"
      ]
     },
     "execution_count": 80,
     "metadata": {},
     "output_type": "execute_result"
    },
    {
     "data": {
      "image/png": "[encoded data removed]",
      "text/plain": [
       "<Figure size 576x576 with 2 Axes>"
      ]
     },
     "metadata": {
      "needs_background": "light"
     },
     "output_type": "display_data"
    }
   ],
   "source": [
    "selections = [{\"muRfact\" : 1.j, \"muFfact\" : 1.j, \"helicity\" : i} for i in range(9)]\n",
    "#histInfo[\"Wmunu\"][\"qcdScaleByHelicity\"] = syst_tools.scale_helicity_hist_to_variations(histInfo[\"Wmunu\"][\"qcdScaleByHelicity\"], sum_ptV=True)\n",
    "hists = [histInfo[\"Wmunu\"][\"nominal\"].project(\"pt\")]\n",
    "hists.extend([histInfo[\"Wmunu\"][\"qcdScaleByHelicity\"][s].project(\"pt\") for s in selections])\n",
    "labels = [\"nominal\"]+[f\"A_{i-1}\" for i in range(9)]\n",
    "colors = [\"black\", \"blue\", \"purple\", \"green\", \"pink\", \"orange\", \"lightblue\", \"red\", \"lightgreen\", \"yellow\"]\n",
    "print(len(hists), len(labels), len(colors))\n",
    "fig = plot_tools.makePlotWithRatioToRef(hists, labels, colors, xlabel=r\"p$_{T}$ (GeV)\", ymax=8e6,rrange=[-0.2, 1.5])\n",
    "fig.get_axes()[0].set_ylim([-1e5, 8e6])"
   ]
  },
  {
   "cell_type": "code",
   "execution_count": 72,
   "id": "fa28da8f",
   "metadata": {},
   "outputs": [
    {
     "data": {
      "text/html": [
       "<html>\n",
       "<div style=\"display:flex; align-items:center;\">\n",
       "<div style=\"width:290px;\">\n",
       "<svg xmlns=\"http://www.w3.org/2000/svg\" viewBox=\"-10 -105 270 120\">\n",
       "<line x1=\"-5\" y1=\"0\" x2=\"255\" y2=\"0\" style=\"fill:none;stroke-width:2;stroke:currentColor\"/>\n",
       "<text text-anchor=\"middle\" x=\"0\" y=\"15\" style=\"fill:currentColor;\">\n",
       "26\n",
       "</text>\n",
       "<text text-anchor=\"middle\" x=\"250\" y=\"15\" style=\"fill:currentColor;\">\n",
       "55\n",
       "</text>\n",
       "<text text-anchor=\"middle\" x=\"125.0\" y=\"15\" style=\"fill:currentColor;\">\n",
       "pt\n",
       "</text>\n",
       "<polyline points=\"  0,0   0,-51.5 8.62069,-51.5 8.62069,-56.2 17.2414,-56.2 17.2414,-61.4 25.8621,-61.4 25.8621,-66.1 34.4828,-66.1 34.4828,-71 43.1034,-71 43.1034,-75.7 51.7241,-75.7 51.7241,-80.7 60.3448,-80.7 60.3448,-85.4 68.9655,-85.4 68.9655,-90.2 77.5862,-90.2 77.5862,-94.4 86.2069,-94.4 86.2069,-98 94.8276,-98 94.8276,-100 103.448,-100 103.448,-99.1 112.069,-99.1 112.069,-93.6 120.69,-93.6 120.69,-83.1 129.31,-83.1 129.31,-69.9 137.931,-69.9 137.931,-57.6 146.552,-57.6 146.552,-47.4 155.172,-47.4 155.172,-39.3 163.793,-39.3 163.793,-33 172.414,-33 172.414,-28 181.034,-28 181.034,-24 189.655,-24 189.655,-20.8 198.276,-20.8 198.276,-18.1 206.897,-18.1 206.897,-15.9 215.517,-15.9 215.517,-14 224.138,-14 224.138,-12.4 232.759,-12.4 232.759,-11.1 241.379,-11.1 241.379,-9.93 250,-9.93 250,0\" style=\"fill:none; stroke:currentColor;\"/>\n",
       "</svg>\n",
       "</div>\n",
       "<div style=\"flex=grow:1;\">\n",
       "Regular(29, 26, 55, name='pt', label='pt')<br/>\n",
       "<hr style=\"margin-top:.2em; margin-bottom:.2em;\"/>\n",
       "Weight() Σ=WeightedSum(value=9.81224e+07, variance=7.85507e+07) <em>(WeightedSum(value=1.11138e+08, variance=8.80264e+07) with flow)</em>\n",
       "\n",
       "</div>\n",
       "</div>\n",
       "</html>"
      ],
      "text/plain": [
       "Hist(Regular(29, 26, 55, name='pt', label='pt'), storage=Weight()) # Sum: WeightedSum(value=9.81224e+07, variance=7.85507e+07) (WeightedSum(value=1.11138e+08, variance=8.80264e+07) with flow)"
      ]
     },
     "execution_count": 72,
     "metadata": {},
     "output_type": "execute_result"
    }
   ],
   "source": [
    "hists[1]"
   ]
  },
  {
   "cell_type": "code",
   "execution_count": 52,
   "id": "0198fa08",
   "metadata": {},
   "outputs": [
    {
     "data": {
      "text/html": [
       "<html>\n",
       "<div style=\"display:flex; align-items:center;\">\n",
       "<div style=\"width:290px;\">\n",
       "<svg xmlns=\"http://www.w3.org/2000/svg\" viewBox=\"-10 -105 270 120\">\n",
       "<line x1=\"-5\" y1=\"0\" x2=\"255\" y2=\"0\" style=\"fill:none;stroke-width:2;stroke:currentColor\"/>\n",
       "<text text-anchor=\"middle\" x=\"0\" y=\"15\" style=\"fill:currentColor;\">\n",
       "26\n",
       "</text>\n",
       "<text text-anchor=\"middle\" x=\"250\" y=\"15\" style=\"fill:currentColor;\">\n",
       "55\n",
       "</text>\n",
       "<text text-anchor=\"middle\" x=\"125.0\" y=\"15\" style=\"fill:currentColor;\">\n",
       "pt\n",
       "</text>\n",
       "<polyline points=\"  0,0   0,-52.6 8.62069,-52.6 8.62069,-57.3 17.2414,-57.3 17.2414,-62.5 25.8621,-62.5 25.8621,-67.1 34.4828,-67.1 34.4828,-71.9 43.1034,-71.9 43.1034,-76.6 51.7241,-76.6 51.7241,-81.4 60.3448,-81.4 60.3448,-86 68.9655,-86 68.9655,-90.6 77.5862,-90.6 77.5862,-94.7 86.2069,-94.7 86.2069,-98.1 94.8276,-98.1 94.8276,-100 103.448,-100 103.448,-99 112.069,-99 112.069,-93.6 120.69,-93.6 120.69,-83.2 129.31,-83.2 129.31,-70.1 137.931,-70.1 137.931,-57.9 146.552,-57.9 146.552,-47.7 155.172,-47.7 155.172,-39.8 163.793,-39.8 163.793,-33.5 172.414,-33.5 172.414,-28.6 181.034,-28.6 181.034,-24.7 189.655,-24.7 189.655,-21.5 198.276,-21.5 198.276,-18.8 206.897,-18.8 206.897,-16.6 215.517,-16.6 215.517,-14.7 224.138,-14.7 224.138,-13.1 232.759,-13.1 232.759,-11.7 241.379,-11.7 241.379,-10.6 250,-10.6 250,0\" style=\"fill:none; stroke:currentColor;\"/>\n",
       "</svg>\n",
       "</div>\n",
       "<div style=\"flex=grow:1;\">\n",
       "Regular(29, 26, 55, name='pt', label='pt')<br/>\n",
       "<hr style=\"margin-top:.2em; margin-bottom:.2em;\"/>\n",
       "Weight() Σ=WeightedSum(value=1.99814e+08, variance=1.63275e+08) <em>(WeightedSum(value=2.28056e+08, variance=1.84088e+08) with flow)</em>\n",
       "\n",
       "</div>\n",
       "</div>\n",
       "</html>"
      ],
      "text/plain": [
       "Hist(Regular(29, 26, 55, name='pt', label='pt'), storage=Weight()) # Sum: WeightedSum(value=1.99814e+08, variance=1.63275e+08) (WeightedSum(value=2.28056e+08, variance=1.84088e+08) with flow)"
      ]
     },
     "execution_count": 52,
     "metadata": {},
     "output_type": "execute_result"
    }
   ],
   "source": [
    "histInfo[\"Wmunu\"][\"qcdScaleByHelicity\"][selections[1]].project(\"pt\")"
   ]
  },
  {
   "cell_type": "code",
   "execution_count": 53,
   "id": "a0e890ed",
   "metadata": {},
   "outputs": [
    {
     "data": {
      "text/html": [
       "<html>\n",
       "<div style=\"display:flex; align-items:center;\">\n",
       "<div style=\"width:290px;\">\n",
       "<svg xmlns=\"http://www.w3.org/2000/svg\" viewBox=\"-10 -10 220 220\">\n",
       "<rect x=\"0\" y=\"0\" width=\"160\" height=\"160\" style=\"fill:white;opacity:.5;stroke-width:2;stroke:currentColor;\"/>\n",
       "<rect x=\"20\" y=\"20\" width=\"160\" height=\"160\" style=\"fill:white;opacity:.5;stroke-width:2;stroke:currentColor;\"/>\n",
       "<rect x=\"40\" y=\"40\" width=\"160\" height=\"160\" style=\"fill:white;opacity:.5;stroke-width:2;stroke:currentColor;\"/>\n",
       "<text x=\"120.0\" y=\"120.0\" style=\"font-size: 26pt; font-family: verdana; font-style: bold; fill: black;\" text-anchor=\"middle\" alignment-baseline=\"middle\">\n",
       "7D\n",
       "</text>\n",
       "</svg>\n",
       "</div>\n",
       "<div style=\"flex=grow:1;\">\n",
       "Regular(48, -2.4, 2.4, name='eta', label='eta')<br/>\n",
       "Regular(29, 26, 55, name='pt', label='pt')<br/>\n",
       "Regular(2, -2, 2, underflow=False, overflow=False, name='charge', label='charge')<br/>\n",
       "Regular(2, -2, 2, underflow=False, overflow=False, name='chargeVgen', label='chargeVgen')<br/>\n",
       "Integer(-1, 8, underflow=False, overflow=False, name='helicity', label='helicity')<br/>\n",
       "Variable([0.25, 0.75, 1.25, 2.75], underflow=False, overflow=False, name='muRfact', label='muRfact')<br/>\n",
       "Variable([0.25, 0.75, 1.25, 2.75], underflow=False, overflow=False, name='muFfact', label='muFfact')<br/>\n",
       "<hr style=\"margin-top:.2em; margin-bottom:.2em;\"/>\n",
       "Weight() Σ=WeightedSum(value=1.61805e+10, variance=1.49606e+10) <em>(WeightedSum(value=1.84686e+10, variance=1.6827e+10) with flow)</em>\n",
       "\n",
       "</div>\n",
       "</div>\n",
       "</html>"
      ],
      "text/plain": [
       "Hist(\n",
       "  Regular(48, -2.4, 2.4, name='eta', label='eta'),\n",
       "  Regular(29, 26, 55, name='pt', label='pt'),\n",
       "  Regular(2, -2, 2, underflow=False, overflow=False, name='charge', label='charge'),\n",
       "  Regular(2, -2, 2, underflow=False, overflow=False, name='chargeVgen', label='chargeVgen'),\n",
       "  Integer(-1, 8, underflow=False, overflow=False, name='helicity', label='helicity'),\n",
       "  Variable([0.25, 0.75, 1.25, 2.75], underflow=False, overflow=False, name='muRfact', label='muRfact'),\n",
       "  Variable([0.25, 0.75, 1.25, 2.75], underflow=False, overflow=False, name='muFfact', label='muFfact'),\n",
       "  storage=Weight()) # Sum: WeightedSum(value=1.61805e+10, variance=1.49606e+10) (WeightedSum(value=1.84686e+10, variance=1.6827e+10) with flow)"
      ]
     },
     "execution_count": 53,
     "metadata": {},
     "output_type": "execute_result"
    }
   ],
   "source": [
    "histInfo[\"Wmunu\"][\"qcdScaleByHelicity\"]"
   ]
  },
  {
   "cell_type": "code",
   "execution_count": null,
   "id": "5f6a158e",
   "metadata": {},
   "outputs": [],
   "source": [
    "histInfo[\"Wmunu\"][\"nominal\"].project(\"pt\").plot()\n",
    "histInfo[\"Wmunu\"][\"qcdScaleByHelicity\"][{\"muRfact\" : 1.j, \"muFfact\" : 1.j}].project(\"pt\").plot()"
   ]
  },
  {
   "cell_type": "code",
   "execution_count": null,
   "id": "f881f4cc",
   "metadata": {},
   "outputs": [],
   "source": []
  },
  {
   "cell_type": "code",
   "execution_count": null,
   "id": "578aba24",
   "metadata": {},
   "outputs": [],
   "source": []
  },
  {
   "cell_type": "code",
   "execution_count": null,
   "id": "b7ff1a78",
   "metadata": {},
   "outputs": [],
   "source": [
    "print(groups.results[\"WminusmunuPostVFP\"][\"output\"][\"nominal\"].sum(flow=True))\n",
    "print(groups.results[\"WminusmunuPostVFP\"][\"output\"][\"qcdScale\"][{\"muRfact\" : 1.j, \"muFfact\" : 1.j}].sum(flow=True))\n"
   ]
  },
  {
   "cell_type": "code",
   "execution_count": null,
   "id": "b669a3d0",
   "metadata": {},
   "outputs": [],
   "source": [
    "groups.results[\"WminusmunuPostVFP\"][\"output\"][\"nominal\"].project(\"pt\").plot(label=\"nominal\")\n",
    "groups.results[\"WminusmunuPostVFP\"][\"output\"][\"qcdScaleByHelicity\"][{\"muRfact\" : 1.j, \"muFfact\" : 1.j}].project(\"pt\").plot()\n",
    "plt.legend()"
   ]
  },
  {
   "cell_type": "code",
   "execution_count": null,
   "id": "8a2189e6",
   "metadata": {},
   "outputs": [],
   "source": [
    "groups.results[\"WplusmunuPostVFP\"][\"output\"][\"nominal\"].project(\"pt\").plot(label=\"nominal\")\n",
    "groups.results[\"WplusmunuPostVFP\"][\"output\"][\"qcdScaleByHelicity\"][{\"muRfact\" : 1.j, \"muFfact\" : 1.j}].project(\"pt\").plot()\n",
    "plt.legend()"
   ]
  },
  {
   "cell_type": "code",
   "execution_count": null,
   "id": "dffd6ef4",
   "metadata": {},
   "outputs": [],
   "source": [
    "groups.results[\"WminusmunuPostVFP\"][\"output\"][\"qcdScaleByHelicity\"]"
   ]
  },
  {
   "cell_type": "code",
   "execution_count": null,
   "id": "989e9fa4",
   "metadata": {},
   "outputs": [],
   "source": [
    "#groups.results[\"WplusmunuPostVFP\"][\"output\"][\"qcdScaleByHelicity\"]\n",
    "groups.results[\"WminusmunuPostVFP\"][\"output\"][\"qcdScaleByHelicity\"]"
   ]
  },
  {
   "cell_type": "code",
   "execution_count": null,
   "id": "18608c02",
   "metadata": {},
   "outputs": [],
   "source": [
    "orig = groups.results[\"WplusmunuPostVFP\"][\"output\"][\"qcdScaleByHelicity\"].copy()\n",
    "orig"
   ]
  },
  {
   "cell_type": "code",
   "execution_count": null,
   "id": "5be40d5f",
   "metadata": {},
   "outputs": [],
   "source": [
    "orig_sum = orig +  groups.results[\"WminusmunuPostVFP\"][\"output\"][\"qcdScaleByHelicity\"]"
   ]
  },
  {
   "cell_type": "code",
   "execution_count": null,
   "id": "e0d24d0d",
   "metadata": {},
   "outputs": [],
   "source": [
    "orig_sum.sum(flow=True)"
   ]
  },
  {
   "cell_type": "code",
   "execution_count": null,
   "id": "dda4554c",
   "metadata": {},
   "outputs": [],
   "source": [
    "histInfo[\"Wmunu\"][\"qcdScaleByHelicity\"]"
   ]
  }
 ],
 "metadata": {
  "kernelspec": {
   "display_name": "Python 3 (ipykernel)",
   "language": "python",
   "name": "python3"
  },
  "language_info": {
   "codemirror_mode": {
    "name": "ipython",
    "version": 3
   },
   "file_extension": ".py",
   "mimetype": "text/x-python",
   "name": "python",
   "nbconvert_exporter": "python",
   "pygments_lexer": "ipython3",
   "version": "3.10.2"
  }
 },
 "nbformat": 4,
 "nbformat_minor": 5
}
