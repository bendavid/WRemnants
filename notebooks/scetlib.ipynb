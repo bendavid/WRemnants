{
 "cells": [
  {
   "cell_type": "code",
   "execution_count": 1,
   "id": "58999998",
   "metadata": {},
   "outputs": [
    {
     "name": "stdout",
     "output_type": "stream",
     "text": [
      "Welcome to JupyROOT 6.27/01\n"
     ]
    }
   ],
   "source": [
    "import numpy as np\n",
    "import hist\n",
    "import matplotlib.pyplot as plt\n",
    "import mplhep as hep\n",
    "import pickle\n",
    "import lz4.frame\n",
    "from wremnants import plot_tools, scetlib_corrections,theory_tools\n",
    "from wremnants import boostHistHelpers as hh\n",
    "from scipy import special\n",
    "import uproot"
   ]
  },
  {
   "cell_type": "code",
   "execution_count": 3,
   "id": "848774e2",
   "metadata": {},
   "outputs": [],
   "source": [
    "%load_ext autoreload\n",
    "%autoreload 2"
   ]
  },
  {
   "cell_type": "code",
   "execution_count": 2,
   "id": "89fdf98d",
   "metadata": {},
   "outputs": [],
   "source": [
    "with lz4.frame.open(\"/home/k/kelong/work/WRemnants/w_z_gen_dists.pkl.lz4\") as minnlof:\n",
    "    minnlo = pickle.load(minnlof)"
   ]
  },
  {
   "cell_type": "code",
   "execution_count": 241,
   "id": "4bdc7414",
   "metadata": {},
   "outputs": [
    {
     "data": {
      "text/plain": [
       "2001.9"
      ]
     },
     "execution_count": 241,
     "metadata": {},
     "output_type": "execute_result"
    }
   ],
   "source": [
    "minnlo[\"ZmumuPostVFP\"][\"dataset\"][\"xsec\"]"
   ]
  },
  {
   "cell_type": "code",
   "execution_count": 242,
   "id": "9ea58018",
   "metadata": {},
   "outputs": [],
   "source": [
    "minnlohZ = minnlo[\"ZmumuPostVFP\"][\"output\"][\"nominal_gen\"]*minnlo[\"ZmumuPostVFP\"][\"dataset\"][\"xsec\"]/minnlo[\"ZmumuPostVFP\"][\"weight_sum\"]\n",
    "minnlohW = (minnlo[\"WplusmunuPostVFP\"][\"output\"][\"nominal_gen\"]*minnlo[\"WplusmunuPostVFP\"][\"dataset\"][\"xsec\"]+minnlo[\"WminusmunuPostVFP\"][\"output\"][\"nominal_gen\"])*minnlo[\"WminusmunuPostVFP\"][\"dataset\"][\"xsec\"]/(minnlo[\"WplusmunuPostVFP\"][\"weight_sum\"]+minnlo[\"WminusmunuPostVFP\"][\"weight_sum\"])\n"
   ]
  },
  {
   "cell_type": "code",
   "execution_count": 237,
   "id": "b3791ea8",
   "metadata": {},
   "outputs": [],
   "source": [
    "with lz4.frame.open(\"../ResultsOldSamples/w_z_gen_dists.pkl.lz4\") as minnlof_old:\n",
    "    minnlo_old = pickle.load(minnlof_old)"
   ]
  },
  {
   "cell_type": "code",
   "execution_count": 238,
   "id": "53bda6d8",
   "metadata": {},
   "outputs": [
    {
     "ename": "KeyError",
     "evalue": "'ZmumuPostVFP'",
     "output_type": "error",
     "traceback": [
      "\u001b[0;31m---------------------------------------------------------------------------\u001b[0m",
      "\u001b[0;31mKeyError\u001b[0m                                  Traceback (most recent call last)",
      "Input \u001b[0;32mIn [238]\u001b[0m, in \u001b[0;36m<cell line: 1>\u001b[0;34m()\u001b[0m\n\u001b[0;32m----> 1\u001b[0m minnlohZ_old \u001b[38;5;241m=\u001b[39m \u001b[43mminnlo_old\u001b[49m\u001b[43m[\u001b[49m\u001b[38;5;124;43m\"\u001b[39;49m\u001b[38;5;124;43mZmumuPostVFP\u001b[39;49m\u001b[38;5;124;43m\"\u001b[39;49m\u001b[43m]\u001b[49m[\u001b[38;5;124m\"\u001b[39m\u001b[38;5;124moutput\u001b[39m\u001b[38;5;124m\"\u001b[39m][\u001b[38;5;124m\"\u001b[39m\u001b[38;5;124mnominal_gen\u001b[39m\u001b[38;5;124m\"\u001b[39m]\u001b[38;5;241m*\u001b[39mminnlo_old[\u001b[38;5;124m\"\u001b[39m\u001b[38;5;124mZmumuPostVFP\u001b[39m\u001b[38;5;124m\"\u001b[39m][\u001b[38;5;124m\"\u001b[39m\u001b[38;5;124mdatset\u001b[39m\u001b[38;5;124m\"\u001b[39m][\u001b[38;5;124m\"\u001b[39m\u001b[38;5;124mxsec\u001b[39m\u001b[38;5;124m\"\u001b[39m]\u001b[38;5;241m/\u001b[39mminnlo_old[\u001b[38;5;124m\"\u001b[39m\u001b[38;5;124mZmumuPostVFP\u001b[39m\u001b[38;5;124m\"\u001b[39m][\u001b[38;5;124m\"\u001b[39m\u001b[38;5;124mweight_sum\u001b[39m\u001b[38;5;124m\"\u001b[39m]\n",
      "\u001b[0;31mKeyError\u001b[0m: 'ZmumuPostVFP'"
     ]
    }
   ],
   "source": [
    "minnlohZ_old = minnlo_old[\"ZmumuPostVFP\"][\"output\"][\"nominal_gen\"]*minnlo_old[\"ZmumuPostVFP\"][\"datset\"][\"xsec\"]/minnlo_old[\"ZmumuPostVFP\"][\"weight_sum\"]"
   ]
  },
  {
   "cell_type": "code",
   "execution_count": 243,
   "id": "b2f0f36f",
   "metadata": {},
   "outputs": [
    {
     "data": {
      "text/plain": [
       "dict_keys(['WplusmunuPostVFP', 'Wplusmunu_bugfix'])"
      ]
     },
     "execution_count": 243,
     "metadata": {},
     "output_type": "execute_result"
    }
   ],
   "source": []
  },
  {
   "cell_type": "code",
   "execution_count": 244,
   "id": "c71e6e16",
   "metadata": {},
   "outputs": [],
   "source": [
    "scetlibhZ_tot = scetlib_corrections.read_scetlib_hist(\"/home/k/kelong/work/Generators/scetlib-cms/prod/scetlib_run/helicityTest/Z/inclusive_Z.npz\", add_nonsing=True, charge=0)\n",
    "scetlibhZ_A4 = scetlib_corrections.read_scetlib_hist(\"/home/k/kelong/work/Generators/scetlib-cms/prod/scetlib_run/helicityTest/inclusive_Z_pT_A4.npz\", add_nonsing=False, flip_y_sign=True, charge=0)\n",
    "scetlibhZ_nons = scetlib_corrections.read_scetlib_hist(\"/home/k/kelong/work/Generators/scetlib-cms/prod/scetlib_run/helicityTest/Z/inclusive_Z_nons.npz\", add_nonsing=False, charge=0)"
   ]
  },
  {
   "cell_type": "code",
   "execution_count": 246,
   "id": "4f548123",
   "metadata": {},
   "outputs": [
    {
     "data": {
      "text/plain": [
       "<matplotlib.legend.Legend at 0x7f9e85c934f0>"
      ]
     },
     "execution_count": 246,
     "metadata": {},
     "output_type": "execute_result"
    },
    {
     "data": {
      "image/png": "[encoded data removed]",
      "text/plain": [
       "<Figure size 720x720 with 1 Axes>"
      ]
     },
     "metadata": {
      "needs_background": "light"
     },
     "output_type": "display_data"
    }
   ],
   "source": [
    "scetlibhZ_A4.project(\"pt\").plot(label=\"A$_{4}$\")\n",
    "scetlibhZ_tot.project(\"pt\").plot(label=\"full\")\n",
    "scetlibhZ_nons.project(\"pt\").plot(label=\"nonsingular\")\n",
    "plt.legend()"
   ]
  },
  {
   "cell_type": "code",
   "execution_count": 247,
   "id": "fc1453e5",
   "metadata": {},
   "outputs": [],
   "source": [
    "scetlibhWm_tot = scetlib_corrections.read_scetlib_hist(\"/eos/user/t/tsarkar/Tanmay-SCETLIB-OutPut/Wminus/inclusive_Wm_oneQY_pT.npz\", add_nonsing=True, charge=0)\n",
    "scetlibhWm_nons = scetlib_corrections.read_scetlib_hist(\"/eos/user/t/tsarkar/Tanmay-SCETLIB-OutPut/Wminus/inclusive_Wm_oneQY_pT_nons.npz\", add_nonsing=False, charge=0)"
   ]
  },
  {
   "cell_type": "code",
   "execution_count": 248,
   "id": "fcedec2b",
   "metadata": {},
   "outputs": [
    {
     "data": {
      "text/plain": [
       "<matplotlib.legend.Legend at 0x7f9e859da500>"
      ]
     },
     "execution_count": 248,
     "metadata": {},
     "output_type": "execute_result"
    },
    {
     "data": {
      "image/png": "[encoded data removed]",
      "text/plain": [
       "<Figure size 720x720 with 1 Axes>"
      ]
     },
     "metadata": {
      "needs_background": "light"
     },
     "output_type": "display_data"
    }
   ],
   "source": [
    "scetlibhWm_tot.project(\"pt\").plot(label=\"full\")\n",
    "scetlibhWm_nons.project(\"pt\").plot(label=\"nonsingular\")\n",
    "plt.legend()"
   ]
  },
  {
   "cell_type": "code",
   "execution_count": null,
   "id": "feaf37d9",
   "metadata": {},
   "outputs": [],
   "source": []
  },
  {
   "cell_type": "code",
   "execution_count": null,
   "id": "fb558e44",
   "metadata": {},
   "outputs": [],
   "source": [
    "fig = plot_tools.makePlotWithRatioToRef([scetlibhZ_tot.project(\"y\"), scetlibhZ_A4.project(\"y\")], xlim=[-5, 5],colors=[\"red\", \"blue\",], labels=[\"total\", \"A$_{4}$\"], rrange=[-0.5, 0], binwnorm=1.)"
   ]
  },
  {
   "cell_type": "code",
   "execution_count": null,
   "id": "4b456002",
   "metadata": {},
   "outputs": [],
   "source": [
    "fig = plot_tools.makePlotWithRatioToRef([scetlibhZ_tot.project(\"pt\"), scetlibhZ_A4.project(\"pt\")],colors=[\"red\", \"blue\",], labels=[\"total\", \"A$_{4}$\"], rrange=[-0.1, 0], binwnorm=1.)"
   ]
  },
  {
   "cell_type": "code",
   "execution_count": 8,
   "id": "75df6fd0",
   "metadata": {},
   "outputs": [],
   "source": [
    "scetlibh = hh.makeAbsHist(scetlibhZ_tot, \"y\")"
   ]
  },
  {
   "cell_type": "code",
   "execution_count": 11,
   "id": "890a74e6",
   "metadata": {},
   "outputs": [
    {
     "data": {
      "text/plain": [
       "[StairsArtists(stairs=<matplotlib.patches.StepPatch object at 0x7f9e924ac700>, errorbar=<ErrorbarContainer object of 3 artists>, legend_artist=<ErrorbarContainer object of 3 artists>)]"
      ]
     },
     "execution_count": 11,
     "metadata": {},
     "output_type": "execute_result"
    },
    {
     "data": {
      "image/png": "[encoded data removed]",
      "text/plain": [
       "<Figure size 720x720 with 1 Axes>"
      ]
     },
     "metadata": {
      "needs_background": "light"
     },
     "output_type": "display_data"
    }
   ],
   "source": [
    "scetlibh.project(\"pt\").plot()\n",
    "minnlohZ.project(\"ptVgen\").plot()"
   ]
  },
  {
   "cell_type": "code",
   "execution_count": 220,
   "id": "eebe183d",
   "metadata": {},
   "outputs": [],
   "source": [
    "f = uproot.open(\"/eos/user/k/kelong/HistFiles/ZGen/ZToMuMu_MATRIX_RadISH_MatchEWParams_NNPDF31.root\")\n",
    "f.keys()\n",
    "matrixRadish = f[\"DYm50_matrix__radish/ptZ_lhe_mm\"].to_hist()"
   ]
  },
  {
   "cell_type": "code",
   "execution_count": 221,
   "id": "1ece64ba",
   "metadata": {},
   "outputs": [],
   "source": [
    "matrix_rad_rebin = hh.rebinHist(matrixRadish, \"xaxis\", scetlibh.axes[\"pt\"].edges)"
   ]
  },
  {
   "cell_type": "code",
   "execution_count": 222,
   "id": "6a205177",
   "metadata": {},
   "outputs": [
    {
     "data": {
      "text/html": [
       "<html>\n",
       "<div style=\"display:flex; align-items:center;\">\n",
       "<div style=\"width:290px;\">\n",
       "<svg xmlns=\"http://www.w3.org/2000/svg\" viewBox=\"-10 -105 270 120\">\n",
       "<line x1=\"-5\" y1=\"0\" x2=\"255\" y2=\"0\" style=\"fill:none;stroke-width:2;stroke:currentColor\"/>\n",
       "<text text-anchor=\"middle\" x=\"0\" y=\"15\" style=\"fill:currentColor;\">\n",
       "0\n",
       "</text>\n",
       "<text text-anchor=\"middle\" x=\"250\" y=\"15\" style=\"fill:currentColor;\">\n",
       "40\n",
       "</text>\n",
       "<text text-anchor=\"middle\" x=\"125.0\" y=\"15\" style=\"fill:currentColor;\">\n",
       "xaxis\n",
       "</text>\n",
       "<polyline points=\"  0,0   0,-31.6 6.25,-31.6 6.25,-71.9 12.5,-71.9 12.5,-93.6 18.75,-93.6 18.75,-100  25,-100  25,-98.9 31.25,-98.9 31.25,-94.3 37.5,-94.3 37.5,-88.2 43.75,-88.2 43.75,-81.9  50,-81.9  50,-75.5 56.25,-75.5 56.25,-69.6 62.5,-69.6 62.5,-64.2 68.75,-64.2 68.75,-59.1  75,-59.1  75,-54.6 81.25,-54.6 81.25,-50.5 87.5,-50.5 87.5,-46.7 93.75,-46.7 93.75,-43.4 100,-43.4 100,-40.2 106.25,-40.2 106.25,-37.3 112.5,-37.3 112.5,-35 118.75,-35 118.75,-32.7 125,-32.7 125,-30.5 131.25,-30.5 131.25,-28.5 137.5,-28.5 137.5,-26.7 143.75,-26.7 143.75,-25.1 150,-25.1 150,-23.5 156.25,-23.5 156.25,-22.1 162.5,-22.1 162.5,-20.8 168.75,-20.8 168.75,-19.7 175,-19.7 175,-18.6 181.25,-18.6 181.25,-17.5 187.5,-17.5 187.5,-16.6 193.75,-16.6 193.75,-15.7 200,-15.7 200,-14.9 206.25,-14.9 206.25,-14 212.5,-14 212.5,-13.4 218.75,-13.4 218.75,-12.7 225,-12.7 225,-12 231.25,-12 231.25,-11.4 237.5,-11.4 237.5,-10.9 243.75,-10.9 243.75,-10.2 250,-10.2 250,0\" style=\"fill:none; stroke:currentColor;\"/>\n",
       "</svg>\n",
       "</div>\n",
       "<div style=\"flex=grow:1;\">\n",
       "Variable(array([ 0.,  1.,  2.,  3.,  4.,  5.,  6.,  7.,  8.,  9., 10., 11., 12.,\n",
       "       13., 14., 15., 16., 17., 18., 19., 20., 21., 22., 23., 24., 25.,\n",
       "       26., 27., 28., 29., 30., 31., 32., 33., 34., 35., 36., 37., 38.,\n",
       "       39., 40.]), name='xaxis', label='xaxis')<br/>\n",
       "<hr style=\"margin-top:.2em; margin-bottom:.2em;\"/>\n",
       "Weight() Σ=WeightedSum(value=1732.91, variance=0)\n",
       "\n",
       "</div>\n",
       "</div>\n",
       "</html>"
      ],
      "text/plain": [
       "Hist(Variable(array([ 0.,  1.,  2.,  3.,  4.,  5.,  6.,  7.,  8.,  9., 10., 11., 12.,\n",
       "       13., 14., 15., 16., 17., 18., 19., 20., 21., 22., 23., 24., 25.,\n",
       "       26., 27., 28., 29., 30., 31., 32., 33., 34., 35., 36., 37., 38.,\n",
       "       39., 40.]), name='xaxis', label='xaxis'), storage=Weight()) # Sum: WeightedSum(value=1732.91, variance=0)"
      ]
     },
     "execution_count": 222,
     "metadata": {},
     "output_type": "execute_result"
    }
   ],
   "source": [
    "matrix_rad_rebin"
   ]
  },
  {
   "cell_type": "code",
   "execution_count": 230,
   "id": "b15e5e79",
   "metadata": {},
   "outputs": [],
   "source": [
    "scetlib_minnlo = minnlohZ.project(\"ptVgen\").copy()\n",
    "scetlib_minnlo.view()[:scetlibh.axes[\"pt\"].size] = scetlibh.project(\"pt\").view()"
   ]
  },
  {
   "cell_type": "code",
   "execution_count": null,
   "id": "0127c4e1",
   "metadata": {},
   "outputs": [],
   "source": []
  },
  {
   "cell_type": "code",
   "execution_count": null,
   "id": "cdf8e421",
   "metadata": {},
   "outputs": [],
   "source": []
  },
  {
   "cell_type": "code",
   "execution_count": 191,
   "id": "825c54c8",
   "metadata": {},
   "outputs": [],
   "source": [
    "ratio2D = hh.divideHists(scetlibh.project(\"pt\"), ratioh.project(\"pt\"))"
   ]
  },
  {
   "cell_type": "code",
   "execution_count": 234,
   "id": "a426c10d",
   "metadata": {},
   "outputs": [
    {
     "name": "stderr",
     "output_type": "stream",
     "text": [
      "/opt/venv/lib/python3.10/site-packages/mplhep/error_estimation.py:48: RuntimeWarning: divide by zero encountered in true_divide\n",
      "  counts = sumw / scale\n"
     ]
    },
    {
     "data": {
      "image/png": "[encoded data removed]",
      "text/plain": [
       "<Figure size 576x576 with 2 Axes>"
      ]
     },
     "metadata": {
      "needs_background": "light"
     },
     "output_type": "display_data"
    }
   ],
   "source": [
    "fig = plot_tools.makePlotWithRatioToRef([minnlo_rebin.project(\"ptVgen\"), scetlibh.project(\"pt\"), matrix_rad_rebin],colors=[\"red\", \"blue\", \"green\"], labels=[\"MiNNLO\", \"SCETlib\", \"MATRIX+RadISH\"], rrange=[0.9, 1.1], binwnorm=1.)"
   ]
  },
  {
   "cell_type": "code",
   "execution_count": 235,
   "id": "9f23c805",
   "metadata": {},
   "outputs": [
    {
     "name": "stderr",
     "output_type": "stream",
     "text": [
      "/opt/venv/lib/python3.10/site-packages/mplhep/error_estimation.py:48: RuntimeWarning: divide by zero encountered in true_divide\n",
      "  counts = sumw / scale\n"
     ]
    },
    {
     "data": {
      "image/png": "[encoded data removed]",
      "text/plain": [
       "<Figure size 576x576 with 2 Axes>"
      ]
     },
     "metadata": {
      "needs_background": "light"
     },
     "output_type": "display_data"
    }
   ],
   "source": [
    "fig = plot_tools.makePlotWithRatioToRef([minnlohZ.project(\"ptVgen\"), scetlib_minnlo, matrixRadish],colors=[\"red\", \"purple\", \"green\"], labels=[\"MiNNLO\", \"SCETlib\", \"MATRIX+RadISH\"], rrange=[0.85, 1.15], binwnorm=1.)"
   ]
  },
  {
   "cell_type": "code",
   "execution_count": 44,
   "id": "b1121e9d",
   "metadata": {},
   "outputs": [
    {
     "data": {
      "image/png": "[encoded data removed]",
      "text/plain": [
       "<Figure size 576x576 with 2 Axes>"
      ]
     },
     "metadata": {
      "needs_background": "light"
     },
     "output_type": "display_data"
    }
   ],
   "source": [
    "fig = plot_tools.makePlotWithRatioToRef([minnlo_rebin.project(\"absYVgen\"), scetlibh.project(\"absy\")],colors=[\"red\", \"blue\",], labels=[\"MiNNLO\", \"SCETlib\"], rrange=[0.95, 1.05], binwnorm=1.)\n"
   ]
  },
  {
   "cell_type": "code",
   "execution_count": 20,
   "id": "22949f59",
   "metadata": {},
   "outputs": [
    {
     "data": {
      "text/plain": [
       "0.9967050811198408"
      ]
     },
     "execution_count": 20,
     "metadata": {},
     "output_type": "execute_result"
    }
   ],
   "source": [
    "scetlibh.sum().value/minnlo_rebin.sum().value"
   ]
  },
  {
   "cell_type": "code",
   "execution_count": 27,
   "id": "19947ba3",
   "metadata": {},
   "outputs": [],
   "source": [
    "corrh = scetlib_corrections.make_scetlib_minnlo_corr(minnlohZ, scetlibh)"
   ]
  },
  {
   "cell_type": "code",
   "execution_count": 47,
   "id": "ee323554",
   "metadata": {},
   "outputs": [
    {
     "data": {
      "text/plain": [
       "Hist(\n",
       "  Variable([60, 120], name='mass', label='mass'),\n",
       "  Variable([0, 1, 2, 3, 4, 5], name='absy', label='absy'),\n",
       "  Variable(array([ 0.,  1.,  2.,  3.,  4.,  5.,  6.,  7.,  8.,  9., 10., 11., 12.,\n",
       "       13., 14., 15., 16., 17., 18., 19., 20., 21., 22., 23., 24., 25.,\n",
       "       26., 27., 28., 29., 30., 31., 32., 33., 34., 35., 36., 37., 38.,\n",
       "       39., 40.]), name='pt', label='pt'),\n",
       "  Regular(1, 0, 1, underflow=False, overflow=False, name='charge', label='charge'),\n",
       "  Integer(0, 1, underflow=False, overflow=False, name='vars', label='vars'),\n",
       "  storage=Weight()) # Sum: WeightedSum(value=208.711, variance=0.477121) (WeightedSum(value=890.711, variance=485.477) with flow)"
      ]
     },
     "execution_count": 47,
     "metadata": {},
     "output_type": "execute_result"
    }
   ],
   "source": [
    "corrh"
   ]
  },
  {
   "cell_type": "code",
   "execution_count": 42,
   "id": "e169a1ce",
   "metadata": {},
   "outputs": [
    {
     "data": {
      "text/plain": [
       "Hist(\n",
       "  Variable([60, 120], name='mass', label='mass'),\n",
       "  Variable([0, 1, 2, 3, 4, 5], name='absy', label='absy'),\n",
       "  Variable(array([ 0.,  1.,  2.,  3.,  4.,  5.,  6.,  7.,  8.,  9., 10., 11., 12.,\n",
       "       13., 14., 15., 16., 17., 18., 19., 20., 21., 22., 23., 24., 25.,\n",
       "       26., 27., 28., 29., 30., 31., 32., 33., 34., 35., 36., 37., 38.,\n",
       "       39., 40.]), name='pt', label='pt'),\n",
       "  Regular(1, 0, 1, underflow=False, overflow=False, name='charge', label='charge'),\n",
       "  Integer(0, 1, underflow=False, overflow=False, name='vars', label='vars'),\n",
       "  storage=Weight()) # Sum: WeightedSum(value=208.711, variance=0.477121) (WeightedSum(value=890.711, variance=485.477) with flow)"
      ]
     },
     "execution_count": 42,
     "metadata": {},
     "output_type": "execute_result"
    }
   ],
   "source": [
    "corrh"
   ]
  },
  {
   "cell_type": "code",
   "execution_count": 181,
   "id": "589598ad",
   "metadata": {},
   "outputs": [
    {
     "data": {
      "text/plain": [
       "(8, 18, 120, 1)"
      ]
     },
     "execution_count": 181,
     "metadata": {},
     "output_type": "execute_result"
    }
   ],
   "source": [
    "minnlohZ.values().take(indices=range(8), axis=0).shape"
   ]
  },
  {
   "cell_type": "code",
   "execution_count": 178,
   "id": "8982e20c",
   "metadata": {},
   "outputs": [
    {
     "data": {
      "text/plain": [
       "(12, 18, 120, 1)"
      ]
     },
     "execution_count": 178,
     "metadata": {},
     "output_type": "execute_result"
    }
   ],
   "source": [
    "minnlohZ.shape"
   ]
  },
  {
   "cell_type": "code",
   "execution_count": null,
   "id": "727bada4",
   "metadata": {},
   "outputs": [],
   "source": [
    "hh.divideHists(h.project(\"ptVgen\"), scetlibh.project(\"pt\")).plot()"
   ]
  },
  {
   "cell_type": "code",
   "execution_count": null,
   "id": "eca84c27",
   "metadata": {},
   "outputs": [],
   "source": [
    "scetlibh.axes"
   ]
  },
  {
   "cell_type": "code",
   "execution_count": null,
   "id": "2351bc7b",
   "metadata": {},
   "outputs": [],
   "source": [
    "minnlohZ.axes"
   ]
  },
  {
   "cell_type": "code",
   "execution_count": null,
   "id": "3e50164e",
   "metadata": {},
   "outputs": [],
   "source": [
    "#ax = minnlohZ.axes[\"ptVgen\"]\n",
    "#np.add.reduceat(minnlohZ[0,0,:,0].values(), ax.index([0, 10, 20]))"
   ]
  },
  {
   "cell_type": "code",
   "execution_count": null,
   "id": "96819592",
   "metadata": {},
   "outputs": [],
   "source": [
    "np.add.reduceat(minnlohZ[0,0,:,:].values(), ax.index(scetlibhZ_tot.axes[\"pt\"].edges))"
   ]
  },
  {
   "cell_type": "code",
   "execution_count": null,
   "id": "aa197870",
   "metadata": {},
   "outputs": [],
   "source": [
    "axm = minnlohZsel.axes[\"massVgen\"]\n",
    "axy = minnlohZsel.axes[\"absYVgen\"]\n",
    "axpt = minnlohZsel.axes[\"ptVgen\"]"
   ]
  },
  {
   "cell_type": "code",
   "execution_count": null,
   "id": "e906a4b4",
   "metadata": {},
   "outputs": [],
   "source": [
    "ipt = axpt.index(scetlibhZ_tot.axes[\"pt\"].edges)\n",
    "iy = axy.index(scetlibhZ_tot.axes[\"y\"].edges)"
   ]
  },
  {
   "cell_type": "code",
   "execution_count": null,
   "id": "fe077ec1",
   "metadata": {},
   "outputs": [],
   "source": [
    "newh = np.add.reduceat(minnlohZ[:,:,:,0].values(), \n",
    "    ipt, axis=2\n",
    ")"
   ]
  },
  {
   "cell_type": "code",
   "execution_count": null,
   "id": "5787b484",
   "metadata": {},
   "outputs": [],
   "source": [
    "newh = np.add.reduceat(newh, \n",
    "    (0,1), axis=1\n",
    ")\n",
    "np.sum(newh, axis=1, keepdims=True).shape"
   ]
  },
  {
   "cell_type": "code",
   "execution_count": null,
   "id": "c6824aa4",
   "metadata": {},
   "outputs": [],
   "source": []
  },
  {
   "cell_type": "code",
   "execution_count": null,
   "id": "1fcd3135",
   "metadata": {},
   "outputs": [],
   "source": [
    "# TODO: Make this nd\n",
    "minnlocorr = minnlohZsel.project(\"ptVgen\").copy()\n",
    "scetlibcorr = minnlohZsel.project(\"ptVgen\").copy()\n",
    "max_pt_corr = scetlibcorr.axes[\"ptVgen\"].index(scetlibhZ_tot.axes[\"pt\"].edges[-1])\n",
    "scetlibcorr[:max_pt_corr] = scetlibhZ_tot[0,0,...].project(\"pt\").view()\n",
    "corr = hh.divideHists(scetlibcorr, minnlocorr, cutoff=0.01)"
   ]
  },
  {
   "cell_type": "code",
   "execution_count": null,
   "id": "149f2806",
   "metadata": {},
   "outputs": [],
   "source": [
    "corr.plot()"
   ]
  },
  {
   "cell_type": "code",
   "execution_count": null,
   "id": "9b67f59d",
   "metadata": {},
   "outputs": [],
   "source": [
    "corr"
   ]
  },
  {
   "cell_type": "code",
   "execution_count": null,
   "id": "4d50e26e",
   "metadata": {},
   "outputs": [],
   "source": [
    "minnloScetlib = hh.multiplyHists(minnlohZsel, corr, transpose=False)"
   ]
  },
  {
   "cell_type": "code",
   "execution_count": null,
   "id": "2d2b9961",
   "metadata": {},
   "outputs": [],
   "source": [
    "minnloScetlib.project(\"ptVgen\").plot()"
   ]
  },
  {
   "cell_type": "code",
   "execution_count": null,
   "id": "1d2b2db7",
   "metadata": {},
   "outputs": [],
   "source": []
  },
  {
   "cell_type": "code",
   "execution_count": null,
   "id": "5fd5dde0",
   "metadata": {},
   "outputs": [],
   "source": []
  },
  {
   "cell_type": "code",
   "execution_count": null,
   "id": "347790f1",
   "metadata": {},
   "outputs": [],
   "source": [
    "minnloScetlib.project(\"ptVgen\").plot()\n",
    "minnlohZsel.project(\"ptVgen\").plot()\n",
    "scetlibcorr.plot()"
   ]
  },
  {
   "cell_type": "code",
   "execution_count": null,
   "id": "9ec8807b",
   "metadata": {},
   "outputs": [],
   "source": []
  },
  {
   "cell_type": "code",
   "execution_count": null,
   "id": "f8fb371c",
   "metadata": {},
   "outputs": [],
   "source": []
  },
  {
   "cell_type": "code",
   "execution_count": null,
   "id": "6a042c17",
   "metadata": {},
   "outputs": [],
   "source": []
  },
  {
   "cell_type": "code",
   "execution_count": null,
   "id": "acecb898",
   "metadata": {},
   "outputs": [],
   "source": []
  },
  {
   "cell_type": "code",
   "execution_count": null,
   "id": "87a5ab82",
   "metadata": {},
   "outputs": [],
   "source": []
  },
  {
   "cell_type": "code",
   "execution_count": null,
   "id": "ae583339",
   "metadata": {},
   "outputs": [],
   "source": []
  },
  {
   "cell_type": "code",
   "execution_count": null,
   "id": "42a9d754",
   "metadata": {},
   "outputs": [],
   "source": []
  },
  {
   "cell_type": "code",
   "execution_count": null,
   "id": "b341f35c",
   "metadata": {},
   "outputs": [],
   "source": []
  },
  {
   "cell_type": "code",
   "execution_count": null,
   "id": "b63f6243",
   "metadata": {},
   "outputs": [],
   "source": [
    "fig = plot_tools.makePlotWithRatioToRef([pdfPtV[:,0], pdfUp, pdfDown], colors=[\"black\", \"red\", \"blue\"], labels=[\"nominal\", \"up\", \"down\"], rrange=[0.95, 1.05], binwnorm=1.)"
   ]
  },
  {
   "cell_type": "code",
   "execution_count": null,
   "id": "39398f9a",
   "metadata": {},
   "outputs": [],
   "source": []
  },
  {
   "cell_type": "code",
   "execution_count": null,
   "id": "284fd3c2",
   "metadata": {},
   "outputs": [],
   "source": []
  },
  {
   "cell_type": "code",
   "execution_count": null,
   "id": "eb9f0321",
   "metadata": {},
   "outputs": [],
   "source": [
    "f = uproot.open(\"/eos/user/k/kelong/HistFiles/WGen/WmToMuNu_inclusive_MATRIX_RadISH_MatchEWParams_NNPDF31.root\")\n",
    "matrixRadish = f[\"wmmunu_matrix_radish/ptW_prefsr_mn\"].to_hist()/1000"
   ]
  },
  {
   "cell_type": "code",
   "execution_count": null,
   "id": "bcb1e161",
   "metadata": {},
   "outputs": [],
   "source": []
  },
  {
   "cell_type": "code",
   "execution_count": null,
   "id": "828cc390",
   "metadata": {},
   "outputs": [],
   "source": []
  },
  {
   "cell_type": "code",
   "execution_count": null,
   "id": "1de65ef9",
   "metadata": {},
   "outputs": [],
   "source": [
    "scetlibh_tot = scetlib_corrections.readScetlibHist(\"/home/k/kelong/work/Generators/scetlib-cms/prod/scetlib_run/helicityTest/Wm/inclusive_Wm.npz\", add_nonsing=True)\n",
    "scetlibh_A4 = scetlib_corrections.readScetlibHist(\"/home/k/kelong/work/Generators/scetlib-cms/prod/scetlib_run/helicityTest/Wm/inclusive_Wm_A4.npz\", add_nonsing=True, flip_y_sign=True)\n",
    "scetlibh_tot_s = scetlib_corrections.readScetlibHist(\"/home/k/kelong/work/Generators/scetlib-cms/prod/scetlib_run/helicityTest/Wm/inclusive_Wm.npz\", add_nonsing=False)"
   ]
  },
  {
   "cell_type": "code",
   "execution_count": null,
   "id": "855c5283",
   "metadata": {},
   "outputs": [],
   "source": []
  },
  {
   "cell_type": "code",
   "execution_count": null,
   "id": "910bf276",
   "metadata": {},
   "outputs": [],
   "source": [
    "minnlocorr = minnloh.project(\"ptVgen\").copy()\n",
    "scetlibcorr = minnloh.project(\"ptVgen\").copy()\n",
    "scetlibcorr[...,:40] = scetlibh_tot.project(\"pt\").view()\n",
    "corrW = hh.divideHists(scetlibcorr, minnlocorr, cutoff=0.01)"
   ]
  },
  {
   "cell_type": "code",
   "execution_count": null,
   "id": "3dfc4e05",
   "metadata": {},
   "outputs": [],
   "source": [
    "corrW.shape"
   ]
  },
  {
   "cell_type": "code",
   "execution_count": null,
   "id": "bc45c0ff",
   "metadata": {},
   "outputs": [],
   "source": []
  },
  {
   "cell_type": "code",
   "execution_count": null,
   "id": "342f58a8",
   "metadata": {},
   "outputs": [],
   "source": [
    "corr[30.j:40.j].axes[\"ptVgen\"].centers"
   ]
  },
  {
   "cell_type": "code",
   "execution_count": null,
   "id": "7d9f5798",
   "metadata": {},
   "outputs": [],
   "source": []
  },
  {
   "cell_type": "code",
   "execution_count": null,
   "id": "27e8b329",
   "metadata": {},
   "outputs": [],
   "source": [
    "x = corr[20.j:40.j].axes[\"ptVgen\"].centers\n",
    "params = np.polyfit(y=corr[20.j:40.j].values(), x=x, deg = 2)\n",
    "poly = np.poly1d(params)\n",
    "xeval = corr[30.j:40.j].axes[\"ptVgen\"].centers"
   ]
  },
  {
   "cell_type": "code",
   "execution_count": null,
   "id": "cf2e97a4",
   "metadata": {},
   "outputs": [],
   "source": [
    "corr_orig = corr.copy()\n",
    "corr[30:40] = np.stack((poly(xeval), corr[30.j:40.j].variances()), axis=-1)"
   ]
  },
  {
   "cell_type": "code",
   "execution_count": null,
   "id": "4068d8b1",
   "metadata": {},
   "outputs": [],
   "source": []
  },
  {
   "cell_type": "code",
   "execution_count": null,
   "id": "499a6ad3",
   "metadata": {},
   "outputs": [],
   "source": []
  },
  {
   "cell_type": "code",
   "execution_count": null,
   "id": "46145538",
   "metadata": {},
   "outputs": [],
   "source": [
    "minnloScetlib = hh.multiplyHists(minnlocorr, corrW)\n",
    "minnloScetlib.plot()\n",
    "matrixRadish.plot()"
   ]
  },
  {
   "cell_type": "code",
   "execution_count": null,
   "id": "0f865392",
   "metadata": {},
   "outputs": [],
   "source": []
  },
  {
   "cell_type": "code",
   "execution_count": null,
   "id": "341e9220",
   "metadata": {},
   "outputs": [],
   "source": [
    "scetlibh_A4.project(\"y\").plot(label=r\"$\\sigma_{4}$\")\n",
    "scetlibh_tot.project(\"y\").plot(label=r\"$\\sigma_{\\mathrm{UL}}$\")\n",
    "plt.legend()"
   ]
  },
  {
   "cell_type": "code",
   "execution_count": null,
   "id": "18406545",
   "metadata": {},
   "outputs": [],
   "source": [
    "scetlib_A4_coeff = hh.divideHists(scetlibh_A4, scetlibh_tot, cutoff=0.0001)\n",
    "scetlib_A4_coeff_pt = hh.divideHists(scetlibh_A4.project(\"pt\"), scetlibh_tot.project(\"pt\"), cutoff=0.0001)"
   ]
  },
  {
   "cell_type": "code",
   "execution_count": null,
   "id": "698b2002",
   "metadata": {},
   "outputs": [],
   "source": [
    "scetlib_A4_coeff_pt.plot()"
   ]
  },
  {
   "cell_type": "code",
   "execution_count": null,
   "id": "28169ce0",
   "metadata": {},
   "outputs": [],
   "source": [
    "scetlibh_A4.project(\"y\").values()"
   ]
  },
  {
   "cell_type": "code",
   "execution_count": null,
   "id": "df96c3f0",
   "metadata": {},
   "outputs": [],
   "source": [
    "scetlibh_A4_nons.project(\"y\").plot(label=\"singular\")\n",
    "scetlibh_A4.project(\"y\").plot(label=\"nonsingular\")\n",
    "plt.title(\"A$_{4}$\")\n",
    "plt.legend()"
   ]
  },
  {
   "cell_type": "code",
   "execution_count": null,
   "id": "f1f3c831",
   "metadata": {},
   "outputs": [],
   "source": [
    "minnloh"
   ]
  },
  {
   "cell_type": "code",
   "execution_count": null,
   "id": "1cca154e",
   "metadata": {},
   "outputs": [],
   "source": [
    "scetlibh_const"
   ]
  },
  {
   "cell_type": "code",
   "execution_count": null,
   "id": "728813aa",
   "metadata": {},
   "outputs": [],
   "source": [
    "scetlibh_A0.project(\"pt\").plot(label=\"A$_{0}$\")\n",
    "(0.1*scetlibh_tot.project(\"pt\")).plot(label=\"total\")\n",
    "minnloh.project(\"ptVgen\").plot(label=\"minnlo\")\n",
    "plt.legend()"
   ]
  },
  {
   "cell_type": "code",
   "execution_count": null,
   "id": "cc546551",
   "metadata": {},
   "outputs": [],
   "source": [
    "scetlibhZ = scetlib_corrections.readScetlibHist(\"/home/k/kelong/work/Generators/scetlib-cms/prod/scetlib_run/helicityTest/inclusive_Z_pT.npz\")"
   ]
  },
  {
   "cell_type": "code",
   "execution_count": null,
   "id": "2bc13bc7",
   "metadata": {},
   "outputs": [],
   "source": [
    "scetlibhZ.project(\"pt\").plot()\n",
    "minnlohZ.project(\"ptVgen\").plot(binwnorm=1.)"
   ]
  },
  {
   "cell_type": "code",
   "execution_count": null,
   "id": "ba4f7007",
   "metadata": {},
   "outputs": [],
   "source": [
    "scetlibh.project(\"pt\").plot(label=\"W\")\n",
    "(100*scetlibhZ).project(\"pt\").plot(label=\"Z\")\n",
    "plt.legend()"
   ]
  },
  {
   "cell_type": "code",
   "execution_count": null,
   "id": "ae11a4e7",
   "metadata": {},
   "outputs": [],
   "source": [
    "minnloh.project(\"ptVgen\").plot(binwnorm=1., label=\"MiNNLO\")\n",
    "scetlibh.project(\"pt\").plot(label=\"SCETlib\")"
   ]
  },
  {
   "cell_type": "code",
   "execution_count": null,
   "id": "8fc2df4f",
   "metadata": {},
   "outputs": [],
   "source": [
    "scetlibhWpt = scetlib_corrections.readScetlibHist(\"/home/k/kelong/work/Generators/scetlib-0.4-256-gbe3a9cb8/prod/scetlib_run/W/inclusive_Wm_pT.npz\")"
   ]
  },
  {
   "cell_type": "code",
   "execution_count": null,
   "id": "91412cc9",
   "metadata": {},
   "outputs": [],
   "source": []
  },
  {
   "cell_type": "code",
   "execution_count": null,
   "id": "d7079536",
   "metadata": {},
   "outputs": [],
   "source": [
    "scetlibhWpt[0,...].project(\"pt\").plot(yerr=False)\n",
    "minnloh.project(\"ptVgen\").plot(binwnorm=1., label=\"MiNNLO\")"
   ]
  },
  {
   "cell_type": "code",
   "execution_count": 362,
   "id": "922424be",
   "metadata": {},
   "outputs": [],
   "source": [
    "scetlibW_y_tot = scetlib_corrections.read_scetlib_hist(\"/home/k/kelong/work/Generators/scetlib-cms/prod/scetlib_run/helicityTest/Wm/inclusive_Wm_y_binMinnlo.npz\", add_nonsing=True)\n",
    "\n",
    "scetlibW_y_A4 = scetlib_corrections.read_scetlib_hist(\"/home/k/kelong/work/Generators/scetlib-cms/prod/scetlib_run/helicityTest/Wm/inclusive_Wm_y_binMinnlo_A4.npz\", add_nonsing=True, flip_y_sign=True)"
   ]
  },
  {
   "cell_type": "code",
   "execution_count": 396,
   "id": "b323233a",
   "metadata": {},
   "outputs": [
    {
     "name": "stdout",
     "output_type": "stream",
     "text": [
      "/eos/user/t/tsarkar/Tanmay-SCETLIB-OutPut/Z/inclusive_Z_pT_A4.dat\r\n",
      "/eos/user/t/tsarkar/Tanmay-SCETLIB-OutPut/Z/inclusive_Z_pT_A4.log\r\n",
      "/eos/user/t/tsarkar/Tanmay-SCETLIB-OutPut/Z/inclusive_Z_pT_A4.npz\r\n",
      "/eos/user/t/tsarkar/Tanmay-SCETLIB-OutPut/Z/inclusive_Z_pT_A4_pdf1.in\r\n",
      "/eos/user/t/tsarkar/Tanmay-SCETLIB-OutPut/Z/inclusive_Z_pT_A4_pdf1.in.npz\r\n",
      "/eos/user/t/tsarkar/Tanmay-SCETLIB-OutPut/Z/inclusive_Z_pT_A4_pdf1.log\r\n",
      "/eos/user/t/tsarkar/Tanmay-SCETLIB-OutPut/Z/inclusive_Z_pT_A4_pdf2.in\r\n",
      "/eos/user/t/tsarkar/Tanmay-SCETLIB-OutPut/Z/inclusive_Z_pT_A4_pdf2.in.npz\r\n",
      "/eos/user/t/tsarkar/Tanmay-SCETLIB-OutPut/Z/inclusive_Z_pT_A4_pdf2.log\r\n",
      "/eos/user/t/tsarkar/Tanmay-SCETLIB-OutPut/Z/inclusive_Z_pT_A4_pdf3.in\r\n",
      "/eos/user/t/tsarkar/Tanmay-SCETLIB-OutPut/Z/inclusive_Z_pT_A4_pdf3.in.npz\r\n",
      "/eos/user/t/tsarkar/Tanmay-SCETLIB-OutPut/Z/inclusive_Z_pT_A4_pdf3.log\r\n",
      "/eos/user/t/tsarkar/Tanmay-SCETLIB-OutPut/Z/inclusive_Z_pT_A4_pdf4.in\r\n",
      "/eos/user/t/tsarkar/Tanmay-SCETLIB-OutPut/Z/inclusive_Z_pT_A4_pdf4.in.npz\r\n",
      "/eos/user/t/tsarkar/Tanmay-SCETLIB-OutPut/Z/inclusive_Z_pT_A4_pdf4.log\r\n",
      "/eos/user/t/tsarkar/Tanmay-SCETLIB-OutPut/Z/inclusive_Z_pT_A4_pdf5.in\r\n",
      "/eos/user/t/tsarkar/Tanmay-SCETLIB-OutPut/Z/inclusive_Z_pT_A4_pdf5.in.npz\r\n",
      "/eos/user/t/tsarkar/Tanmay-SCETLIB-OutPut/Z/inclusive_Z_pT_A4_pdf5.log\r\n"
     ]
    }
   ],
   "source": [
    "ls /eos/user/t/tsarkar/Tanmay-SCETLIB-OutPut/Z/*A4*"
   ]
  },
  {
   "cell_type": "code",
   "execution_count": null,
   "id": "b539317d",
   "metadata": {},
   "outputs": [],
   "source": []
  },
  {
   "cell_type": "code",
   "execution_count": 364,
   "id": "cc2418f5",
   "metadata": {},
   "outputs": [],
   "source": [
    "scetlibW_yabs_A4 = hh.makeAbsHist(scetlibW_y_A4, \"y\")\n",
    "scetlibW_yabs_tot = hh.makeAbsHist(scetlibW_y_tot, \"y\")"
   ]
  },
  {
   "cell_type": "code",
   "execution_count": null,
   "id": "6bbba9c3",
   "metadata": {},
   "outputs": [],
   "source": [
    "yax = scetlibW_y_A4.axes[\"y\"]\n",
    "axs = scetlibW_y_A4.axes"
   ]
  },
  {
   "cell_type": "code",
   "execution_count": null,
   "id": "9923171a",
   "metadata": {},
   "outputs": [],
   "source": [
    "scetlib_absy_A4_coeff = hh.divideHists(scetlibW_yabs_A4.project(\"y\"), scetlibW_yabs_tot.project(\"y\"))"
   ]
  },
  {
   "cell_type": "code",
   "execution_count": null,
   "id": "97895975",
   "metadata": {},
   "outputs": [],
   "source": [
    "scetlibW_yabs_A4.project(\"y\").plot()\n",
    "scetlibW_yabs_tot.project(\"y\").plot()\n",
    "plt.xlim([0, 4.0])"
   ]
  },
  {
   "cell_type": "code",
   "execution_count": null,
   "id": "870cba02",
   "metadata": {},
   "outputs": [],
   "source": [
    "hh.divideHists(scetlibW_yabs_A4.project(\"y\"), scetlibW_yabs_tot.project(\"y\")).plot()\n",
    "plt.xlim([0,4.0])"
   ]
  },
  {
   "cell_type": "code",
   "execution_count": 365,
   "id": "0c493eab",
   "metadata": {},
   "outputs": [
    {
     "data": {
      "text/plain": [
       "Text(0.5, 1.0, 'SCETlib structure functions')"
      ]
     },
     "execution_count": 365,
     "metadata": {},
     "output_type": "execute_result"
    },
    {
     "data": {
      "image/png": "[encoded data removed]",
      "text/plain": [
       "<Figure size 720x720 with 1 Axes>"
      ]
     },
     "metadata": {
      "needs_background": "light"
     },
     "output_type": "display_data"
    }
   ],
   "source": [
    "scetlibW_y_A4.project(\"y\").plot(label=\"$\\sigma_{4}$\")\n",
    "scetlibW_y_tot.project(\"y\").plot(label=\"Total\")\n",
    "plt.legend()\n",
    "plt.xlim([-4.5, 4.5])\n",
    "plt.title(\"SCETlib structure functions\")"
   ]
  },
  {
   "cell_type": "code",
   "execution_count": 380,
   "id": "50557648",
   "metadata": {},
   "outputs": [],
   "source": [
    "minnlohel = minnlo[\"WminusmunuPostVFP\"][\"output\"][\"helicity_moments_scale\"][{\"muRfact\" : 1.j, \"muFfact\" : 1.j, \"chargeVgen\" : -1.j}]"
   ]
  },
  {
   "cell_type": "code",
   "execution_count": 389,
   "id": "949cde63",
   "metadata": {},
   "outputs": [],
   "source": [
    "hists = hh.rebinHistsToCommon([minnlohel, scetlibW_yabs_tot], 2, False)"
   ]
  },
  {
   "cell_type": "code",
   "execution_count": 390,
   "id": "d51ab0f0",
   "metadata": {},
   "outputs": [
    {
     "data": {
      "text/plain": [
       "[Hist(\n",
       "   Variable([0, inf], name='massVgen', label='massVgen'),\n",
       "   Variable([0, 0.25, 0.5, 0.75, 1, 1.25, 1.5, 1.75, 2, 2.25, 2.5, 2.75, 3, 3.25, 3.5, 3.75, 4, 5, 10], name='absYVgen', label='absYVgen'),\n",
       "   Variable([0, 30], name='ptVgen', label='ptVgen'),\n",
       "   Integer(-1, 8, underflow=False, overflow=False, name='helicity', label='helicity'),\n",
       "   storage=Weight()) # Sum: WeightedSum(value=1.92461e+08, variance=6.13672e+08),\n",
       " Hist(\n",
       "   Variable([5, 13000], name='mass', label='mass'),\n",
       "   Variable([0, 0.25, 0.5, 0.75, 1, 1.25, 1.5, 1.75, 2, 2.25, 2.5, 2.75, 3, 3.25, 3.5, 3.75, 4, 10], name='absy', label='absy'),\n",
       "   Variable([0, 30], name='pt', label='pt'),\n",
       "   Integer(0, 1, underflow=False, overflow=False, name='vars', label='vars'),\n",
       "   storage=Weight()) # Sum: WeightedSum(value=6838, variance=12.1198)]"
      ]
     },
     "execution_count": 390,
     "metadata": {},
     "output_type": "execute_result"
    }
   ],
   "source": [
    "hists"
   ]
  },
  {
   "cell_type": "code",
   "execution_count": 391,
   "id": "57cfdf83",
   "metadata": {},
   "outputs": [
    {
     "data": {
      "text/plain": [
       "Hist(\n",
       "  Variable([5, 13000], name='mass', label='mass'),\n",
       "  Variable([0, 0.25, 0.5, 0.75, 1, 1.25, 1.5, 1.75, 2, 2.25, 2.5, 2.75, 3, 3.25, 3.5, 3.75, 4, 10], name='absy', label='absy'),\n",
       "  Variable([0, 30], name='pt', label='pt'),\n",
       "  Integer(0, 1, underflow=False, overflow=False, name='vars', label='vars'),\n",
       "  storage=Weight()) # Sum: WeightedSum(value=6838, variance=12.1198)"
      ]
     },
     "execution_count": 391,
     "metadata": {},
     "output_type": "execute_result"
    }
   ],
   "source": [
    "scetlibW_yabs_tot"
   ]
  },
  {
   "cell_type": "code",
   "execution_count": 385,
   "id": "a834abbb",
   "metadata": {},
   "outputs": [],
   "source": [
    "hists = hh.rebinHistsToCommon([minnlohel[...,:30:hist.sum,:], scetlibW_yabs_A4, scetlibW_yabs_tot], 1)"
   ]
  },
  {
   "cell_type": "code",
   "execution_count": 370,
   "id": "6117cb68",
   "metadata": {},
   "outputs": [
    {
     "data": {
      "text/plain": [
       "Hist(\n",
       "  Variable([5, 13000], name='mass', label='mass'),\n",
       "  Variable(array([-10.  ,  -4.  ,  -3.75,  -3.5 ,  -3.25,  -3.  ,  -2.75,  -2.5 ,\n",
       "        -2.25,  -2.  ,  -1.75,  -1.5 ,  -1.25,  -1.  ,  -0.75,  -0.5 ,\n",
       "        -0.25,   0.  ,   0.25,   0.5 ,   0.75,   1.  ,   1.25,   1.5 ,\n",
       "         1.75,   2.  ,   2.25,   2.5 ,   2.75,   3.  ,   3.25,   3.5 ,\n",
       "         3.75,   4.  ,  10.  ]), name='y', label='y'),\n",
       "  Variable([0, 30], name='pt', label='pt'),\n",
       "  Integer(0, 1, underflow=False, overflow=False, name='vars', label='vars'),\n",
       "  storage=Weight()) # Sum: WeightedSum(value=-4264.52, variance=12.0002)"
      ]
     },
     "execution_count": 370,
     "metadata": {},
     "output_type": "execute_result"
    }
   ],
   "source": [
    "scetlibW_y_A4"
   ]
  },
  {
   "cell_type": "code",
   "execution_count": 346,
   "id": "7414b442",
   "metadata": {},
   "outputs": [],
   "source": [
    "scetlib_absy_A4_coeff = hh.divideHists(hists[1].project(\"absy\"), hists[2].project(\"absy\"))\n",
    "minnloCoeffs = theory_tools.moments_to_angular_coeffs(hists[0].project(\"absYVgen\", \"helicity\"))"
   ]
  },
  {
   "cell_type": "code",
   "execution_count": 347,
   "id": "d7569492",
   "metadata": {},
   "outputs": [
    {
     "data": {
      "text/plain": [
       "[StairsArtists(stairs=<matplotlib.patches.StepPatch object at 0x7f9e804785b0>, errorbar=<ErrorbarContainer object of 3 artists>, legend_artist=<ErrorbarContainer object of 3 artists>)]"
      ]
     },
     "execution_count": 347,
     "metadata": {},
     "output_type": "execute_result"
    },
    {
     "data": {
      "image/png": "[encoded data removed]",
      "text/plain": [
       "<Figure size 720x720 with 1 Axes>"
      ]
     },
     "metadata": {
      "needs_background": "light"
     },
     "output_type": "display_data"
    }
   ],
   "source": [
    "minnloCoeffs[{\"helicity\" : 4.j}].plot()\n",
    "scetlib_absy_A4_coeff.plot()"
   ]
  },
  {
   "cell_type": "code",
   "execution_count": 348,
   "id": "a99280a2",
   "metadata": {},
   "outputs": [
    {
     "data": {
      "image/png": "[encoded data removed]",
      "text/plain": [
       "<Figure size 576x576 with 2 Axes>"
      ]
     },
     "metadata": {
      "needs_background": "light"
     },
     "output_type": "display_data"
    }
   ],
   "source": [
    "fig = plot_tools.makePlotWithRatioToRef([minnloCoeffs[{\"helicity\" : 4.j}], scetlib_absy_A4_coeff], colors=[\"red\", \"blue\"], labels=[\"minnlo\", \"scetlib\"], ylabel=\"A$_{4}$\", rrange=[0.9, 1.1], rlabel=\"scetlib/minnlo\")"
   ]
  },
  {
   "cell_type": "code",
   "execution_count": null,
   "id": "ebb9aacb",
   "metadata": {},
   "outputs": [],
   "source": []
  },
  {
   "cell_type": "code",
   "execution_count": 355,
   "id": "5eda4065",
   "metadata": {},
   "outputs": [
    {
     "ename": "KeyError",
     "evalue": "'qcdScaleByHelicity'",
     "output_type": "error",
     "traceback": [
      "\u001b[0;31m---------------------------------------------------------------------------\u001b[0m",
      "\u001b[0;31mKeyError\u001b[0m                                  Traceback (most recent call last)",
      "Input \u001b[0;32mIn [355]\u001b[0m, in \u001b[0;36m<cell line: 1>\u001b[0;34m()\u001b[0m\n\u001b[0;32m----> 1\u001b[0m minnloByHel \u001b[38;5;241m=\u001b[39m \u001b[43mminnlo\u001b[49m\u001b[43m[\u001b[49m\u001b[38;5;124;43m\"\u001b[39;49m\u001b[38;5;124;43mWminusmunuPostVFP\u001b[39;49m\u001b[38;5;124;43m\"\u001b[39;49m\u001b[43m]\u001b[49m\u001b[43m[\u001b[49m\u001b[38;5;124;43m\"\u001b[39;49m\u001b[38;5;124;43moutput\u001b[39;49m\u001b[38;5;124;43m\"\u001b[39;49m\u001b[43m]\u001b[49m\u001b[43m[\u001b[49m\u001b[38;5;124;43m\"\u001b[39;49m\u001b[38;5;124;43mqcdScaleByHelicity\u001b[39;49m\u001b[38;5;124;43m\"\u001b[39;49m\u001b[43m]\u001b[49m\u001b[38;5;241m*\u001b[39mminnlo[\u001b[38;5;124m\"\u001b[39m\u001b[38;5;124mWminusmunuPostVFP\u001b[39m\u001b[38;5;124m\"\u001b[39m][\u001b[38;5;124m\"\u001b[39m\u001b[38;5;124mdataset\u001b[39m\u001b[38;5;124m\"\u001b[39m][\u001b[38;5;124m\"\u001b[39m\u001b[38;5;124mxsec\u001b[39m\u001b[38;5;124m\"\u001b[39m]\u001b[38;5;241m/\u001b[39mminnlo[\u001b[38;5;124m\"\u001b[39m\u001b[38;5;124mWminusmunuPostVFP\u001b[39m\u001b[38;5;124m\"\u001b[39m][\u001b[38;5;124m\"\u001b[39m\u001b[38;5;124mweight_sum\u001b[39m\u001b[38;5;124m\"\u001b[39m]\n\u001b[1;32m      2\u001b[0m minnloByHel\n",
      "\u001b[0;31mKeyError\u001b[0m: 'qcdScaleByHelicity'"
     ]
    },
    {
     "name": "stdout",
     "output_type": "stream",
     "text": [
      "ERROR! Session/line number was not unique in database. History logging moved to new session 1322\n"
     ]
    }
   ],
   "source": [
    "minnloByHel = minnlo[\"WminusmunuPostVFP\"][\"output\"][\"qcdScaleByHelicity\"]*minnlo[\"WminusmunuPostVFP\"][\"dataset\"][\"xsec\"]/minnlo[\"WminusmunuPostVFP\"][\"weight_sum\"]\n",
    "minnloByHel"
   ]
  },
  {
   "cell_type": "code",
   "execution_count": null,
   "id": "e0af9201",
   "metadata": {},
   "outputs": [],
   "source": [
    "hists = hh.rebinHistsToCommon([minnlohel[...,:30:hist.sum,:], scetlibW_yabs_A4, scetlibW_yabs_tot], 2)"
   ]
  },
  {
   "cell_type": "code",
   "execution_count": 354,
   "id": "72424018",
   "metadata": {},
   "outputs": [
    {
     "data": {
      "text/plain": [
       "Hist(\n",
       "  Variable([0, inf], name='massVgen', label='massVgen'),\n",
       "  Variable([0, 0.25, 0.5, 0.75, 1, 1.25, 1.5, 1.75, 2, 2.25, 2.5, 2.75, 3, 3.25, 3.5, 3.75, 4, 10], name='absYVgen', label='absYVgen'),\n",
       "  Integer(-1, 8, underflow=False, overflow=False, name='helicity', label='helicity'),\n",
       "  storage=Weight()) # Sum: WeightedSum(value=1.92461e+08, variance=6.13672e+08)"
      ]
     },
     "execution_count": 354,
     "metadata": {},
     "output_type": "execute_result"
    },
    {
     "name": "stdout",
     "output_type": "stream",
     "text": [
      "ERROR! Session/line number was not unique in database. History logging moved to new session 1321\n"
     ]
    }
   ],
   "source": [
    "hists[0]"
   ]
  },
  {
   "cell_type": "code",
   "execution_count": 353,
   "id": "ffc13125",
   "metadata": {},
   "outputs": [
    {
     "ename": "ValueError",
     "evalue": "The axis name ptVgen could not be found",
     "output_type": "error",
     "traceback": [
      "\u001b[0;31m---------------------------------------------------------------------------\u001b[0m",
      "\u001b[0;31mValueError\u001b[0m                                Traceback (most recent call last)",
      "Input \u001b[0;32mIn [353]\u001b[0m, in \u001b[0;36m<cell line: 2>\u001b[0;34m()\u001b[0m\n\u001b[1;32m      1\u001b[0m scetlib_absy_A4_coeff \u001b[38;5;241m=\u001b[39m hh\u001b[38;5;241m.\u001b[39mdivideHists(hists[\u001b[38;5;241m1\u001b[39m]\u001b[38;5;241m.\u001b[39mproject(\u001b[38;5;124m\"\u001b[39m\u001b[38;5;124mpt\u001b[39m\u001b[38;5;124m\"\u001b[39m), hists[\u001b[38;5;241m2\u001b[39m]\u001b[38;5;241m.\u001b[39mproject(\u001b[38;5;124m\"\u001b[39m\u001b[38;5;124mpt\u001b[39m\u001b[38;5;124m\"\u001b[39m))\n\u001b[0;32m----> 2\u001b[0m minnloCoeffs \u001b[38;5;241m=\u001b[39m theory_tools\u001b[38;5;241m.\u001b[39mmoments_to_angular_coeffs(\u001b[43mhists\u001b[49m\u001b[43m[\u001b[49m\u001b[38;5;241;43m0\u001b[39;49m\u001b[43m]\u001b[49m\u001b[38;5;241;43m.\u001b[39;49m\u001b[43mproject\u001b[49m\u001b[43m(\u001b[49m\u001b[38;5;124;43m\"\u001b[39;49m\u001b[38;5;124;43mptVgen\u001b[39;49m\u001b[38;5;124;43m\"\u001b[39;49m\u001b[43m,\u001b[49m\u001b[43m \u001b[49m\u001b[38;5;124;43m\"\u001b[39;49m\u001b[38;5;124;43mhelicity\u001b[39;49m\u001b[38;5;124;43m\"\u001b[39;49m\u001b[43m)\u001b[49m)\n",
      "File \u001b[0;32m/opt/venv/lib/python3.10/site-packages/hist/basehist.py:201\u001b[0m, in \u001b[0;36mBaseHist.project\u001b[0;34m(self, *args)\u001b[0m\n\u001b[1;32m    197\u001b[0m \u001b[38;5;28;01mdef\u001b[39;00m \u001b[38;5;21mproject\u001b[39m(\u001b[38;5;28mself\u001b[39m: T, \u001b[38;5;241m*\u001b[39margs: \u001b[38;5;28mint\u001b[39m \u001b[38;5;241m|\u001b[39m \u001b[38;5;28mstr\u001b[39m) \u001b[38;5;241m-\u001b[39m\u001b[38;5;241m>\u001b[39m T \u001b[38;5;241m|\u001b[39m \u001b[38;5;28mfloat\u001b[39m \u001b[38;5;241m|\u001b[39m bh\u001b[38;5;241m.\u001b[39maccumulators\u001b[38;5;241m.\u001b[39mAccumulator:\n\u001b[1;32m    198\u001b[0m     \u001b[38;5;124;03m\"\"\"\u001b[39;00m\n\u001b[1;32m    199\u001b[0m \u001b[38;5;124;03m    Projection of axis idx.\u001b[39;00m\n\u001b[1;32m    200\u001b[0m \u001b[38;5;124;03m    \"\"\"\u001b[39;00m\n\u001b[0;32m--> 201\u001b[0m     int_args \u001b[38;5;241m=\u001b[39m [\u001b[38;5;28mself\u001b[39m\u001b[38;5;241m.\u001b[39m_name_to_index(a) \u001b[38;5;28;01mif\u001b[39;00m \u001b[38;5;28misinstance\u001b[39m(a, \u001b[38;5;28mstr\u001b[39m) \u001b[38;5;28;01melse\u001b[39;00m a \u001b[38;5;28;01mfor\u001b[39;00m a \u001b[38;5;129;01min\u001b[39;00m args]\n\u001b[1;32m    202\u001b[0m     \u001b[38;5;28;01mreturn\u001b[39;00m \u001b[38;5;28msuper\u001b[39m()\u001b[38;5;241m.\u001b[39mproject(\u001b[38;5;241m*\u001b[39mint_args)\n",
      "File \u001b[0;32m/opt/venv/lib/python3.10/site-packages/hist/basehist.py:201\u001b[0m, in \u001b[0;36m<listcomp>\u001b[0;34m(.0)\u001b[0m\n\u001b[1;32m    197\u001b[0m \u001b[38;5;28;01mdef\u001b[39;00m \u001b[38;5;21mproject\u001b[39m(\u001b[38;5;28mself\u001b[39m: T, \u001b[38;5;241m*\u001b[39margs: \u001b[38;5;28mint\u001b[39m \u001b[38;5;241m|\u001b[39m \u001b[38;5;28mstr\u001b[39m) \u001b[38;5;241m-\u001b[39m\u001b[38;5;241m>\u001b[39m T \u001b[38;5;241m|\u001b[39m \u001b[38;5;28mfloat\u001b[39m \u001b[38;5;241m|\u001b[39m bh\u001b[38;5;241m.\u001b[39maccumulators\u001b[38;5;241m.\u001b[39mAccumulator:\n\u001b[1;32m    198\u001b[0m     \u001b[38;5;124;03m\"\"\"\u001b[39;00m\n\u001b[1;32m    199\u001b[0m \u001b[38;5;124;03m    Projection of axis idx.\u001b[39;00m\n\u001b[1;32m    200\u001b[0m \u001b[38;5;124;03m    \"\"\"\u001b[39;00m\n\u001b[0;32m--> 201\u001b[0m     int_args \u001b[38;5;241m=\u001b[39m [\u001b[38;5;28;43mself\u001b[39;49m\u001b[38;5;241;43m.\u001b[39;49m\u001b[43m_name_to_index\u001b[49m\u001b[43m(\u001b[49m\u001b[43ma\u001b[49m\u001b[43m)\u001b[49m \u001b[38;5;28;01mif\u001b[39;00m \u001b[38;5;28misinstance\u001b[39m(a, \u001b[38;5;28mstr\u001b[39m) \u001b[38;5;28;01melse\u001b[39;00m a \u001b[38;5;28;01mfor\u001b[39;00m a \u001b[38;5;129;01min\u001b[39;00m args]\n\u001b[1;32m    202\u001b[0m     \u001b[38;5;28;01mreturn\u001b[39;00m \u001b[38;5;28msuper\u001b[39m()\u001b[38;5;241m.\u001b[39mproject(\u001b[38;5;241m*\u001b[39mint_args)\n",
      "File \u001b[0;32m/opt/venv/lib/python3.10/site-packages/hist/basehist.py:161\u001b[0m, in \u001b[0;36mBaseHist._name_to_index\u001b[0;34m(self, name)\u001b[0m\n\u001b[1;32m    158\u001b[0m     \u001b[38;5;28;01mif\u001b[39;00m name \u001b[38;5;241m==\u001b[39m axis\u001b[38;5;241m.\u001b[39mname:\n\u001b[1;32m    159\u001b[0m         \u001b[38;5;28;01mreturn\u001b[39;00m index\n\u001b[0;32m--> 161\u001b[0m \u001b[38;5;28;01mraise\u001b[39;00m \u001b[38;5;167;01mValueError\u001b[39;00m(\u001b[38;5;124mf\u001b[39m\u001b[38;5;124m\"\u001b[39m\u001b[38;5;124mThe axis name \u001b[39m\u001b[38;5;132;01m{\u001b[39;00mname\u001b[38;5;132;01m}\u001b[39;00m\u001b[38;5;124m could not be found\u001b[39m\u001b[38;5;124m\"\u001b[39m)\n",
      "\u001b[0;31mValueError\u001b[0m: The axis name ptVgen could not be found"
     ]
    },
    {
     "name": "stdout",
     "output_type": "stream",
     "text": [
      "ERROR! Session/line number was not unique in database. History logging moved to new session 1320\n"
     ]
    }
   ],
   "source": [
    "scetlib_absy_A4_coeff = hh.divideHists(hists[1].project(\"pt\"), hists[2].project(\"pt\"))\n",
    "minnloCoeffs = theory_tools.moments_to_angular_coeffs(hists[0].project(\"ptVgen\", \"helicity\"))"
   ]
  },
  {
   "cell_type": "code",
   "execution_count": null,
   "id": "14891d66",
   "metadata": {},
   "outputs": [],
   "source": []
  },
  {
   "cell_type": "code",
   "execution_count": null,
   "id": "31b72fd4",
   "metadata": {},
   "outputs": [],
   "source": []
  },
  {
   "cell_type": "code",
   "execution_count": null,
   "id": "ec1654d4",
   "metadata": {},
   "outputs": [],
   "source": [
    "import uproot"
   ]
  },
  {
   "cell_type": "code",
   "execution_count": null,
   "id": "ba55d9fe",
   "metadata": {},
   "outputs": [],
   "source": []
  },
  {
   "cell_type": "code",
   "execution_count": null,
   "id": "9a554d13",
   "metadata": {},
   "outputs": [],
   "source": []
  },
  {
   "cell_type": "code",
   "execution_count": null,
   "id": "9370e4c3",
   "metadata": {},
   "outputs": [],
   "source": [
    "matrixRadish.plot()\n",
    "minnloh.project(\"ptVgen\").plot()"
   ]
  },
  {
   "cell_type": "code",
   "execution_count": null,
   "id": "57f7e90c",
   "metadata": {},
   "outputs": [],
   "source": [
    "f = uproot.open(\"/eos/user/k/kelong/HistFiles/ZGen/ZToMuMu_MATRIX_RadISH_MatchEWParams_NNPDF31.root\")"
   ]
  },
  {
   "cell_type": "code",
   "execution_count": null,
   "id": "7363903c",
   "metadata": {},
   "outputs": [],
   "source": [
    "f[\"DYm50_matrix__radish/ptZ_lhe_mm\"].to_hist().plot()\n",
    "minnlohZ.project(\"ptVgen\").plot()"
   ]
  },
  {
   "cell_type": "code",
   "execution_count": null,
   "id": "3f9141e9",
   "metadata": {},
   "outputs": [],
   "source": [
    "dyturbof = np.load(\"/eos/user/k/kelong/HistFiles/WGen/DYTurbo/wm-13tev-cms-n3ll.npz\")"
   ]
  },
  {
   "cell_type": "code",
   "execution_count": null,
   "id": "12aa7c36",
   "metadata": {},
   "outputs": [],
   "source": [
    "ptax = hist.axis.Variable(dyturbof[\"bins\"], name=\"pt\")\n",
    "dyturboh = hist.Hist(ptax, storage=hist.storage.Weight())\n",
    "dyturboh[...] = np.stack((dyturbof[\"hist\"], dyturbof[\"err\"]), axis=-1)"
   ]
  },
  {
   "cell_type": "code",
   "execution_count": null,
   "id": "0d495637",
   "metadata": {},
   "outputs": [],
   "source": [
    "dyturboMatch = matrixRadish.copy()\n",
    "dyturboMatch[:40] = dyturboh.view()/1000"
   ]
  },
  {
   "cell_type": "code",
   "execution_count": null,
   "id": "3a3ffc10",
   "metadata": {},
   "outputs": [],
   "source": [
    "dyturboMatch"
   ]
  },
  {
   "cell_type": "code",
   "execution_count": null,
   "id": "3698b140",
   "metadata": {},
   "outputs": [],
   "source": [
    "scetlibMatch = matrixRadish.copy()\n",
    "scetlibMatch[:40] = scetlibh_tot.project(\"pt\").view()"
   ]
  },
  {
   "cell_type": "code",
   "execution_count": null,
   "id": "5c3fbc63",
   "metadata": {},
   "outputs": [],
   "source": [
    "minnloZbug"
   ]
  },
  {
   "cell_type": "code",
   "execution_count": null,
   "id": "4664f07f",
   "metadata": {},
   "outputs": [],
   "source": [
    "fig = plot_tools.makePlotWithRatioToRef([f[\"DYm50_matrix__radish/ptZ_lhe_mm\"].to_hist(), minnlohZ.project(\"ptVgen\")], colors=[\"blue\", \"green\", ], labels=[\"MATRIX+RadISH (NNLO+N$^{3}$LL)\", \"MiNNLO (H$^{(2)}$ sign error)\",], rrange=[0.9, 1.1], ylabel=\"$\\sigma$/bin\", xlabel=\"p$_{T}^{\\mathrm{Z}}$ (GeV)\", rlabel=\"x/NNLO+N$^{3}$LL\", nlegcols=1)\n"
   ]
  },
  {
   "cell_type": "code",
   "execution_count": null,
   "id": "c3b7b337",
   "metadata": {},
   "outputs": [],
   "source": [
    "scetlibMatch.sum()"
   ]
  },
  {
   "cell_type": "code",
   "execution_count": null,
   "id": "e4069acf",
   "metadata": {},
   "outputs": [],
   "source": [
    "minnlohW.sum()"
   ]
  },
  {
   "cell_type": "code",
   "execution_count": null,
   "id": "c0d8018d",
   "metadata": {},
   "outputs": [],
   "source": [
    "fig = plot_tools.makePlotWithRatioToRef([matrixRadish, minnloScetlib, minnlohW.project(\"ptVgen\"), dyturboMatch, scetlibMatch],colors=[\"green\", \"orange\", \"blue\", \"red\", \"purple\"], labels=[\"MATRIX+RadISH (NNLO+N$^{3}$LL)\", \"MiNNLO+SCETlib (NNLO+PS + N$^{3}$LL corr.)\", \"MiNNLO (NNLO+PS)\", \"DYTurbo (N$^{3}$LL)\", \"SCETlib (N$^{3}$LL)\"], rrange=[0.9, 1.1], binwnorm=1., nlegcols=1, rlabel=\"x/Matrix+Rad\", ylabel=\"$\\sigma$/bin\", xlabel=\"p$_{T}^{\\mathrm{W}^{-}}$ (GeV)\")\n",
    "\n",
    "#fig = plot_tools.makePlotWithRatioToRef([matrixRadish, minnloh.project(\"ptVgen\"), dyturboMatch, scetlibMatch],colors=[\"green\", \"blue\", \"red\", \"purple\"], labels=[\"MATRIX+RadISH (NNLO+N$^{3}$LL)\", \"MiNNLO (NNLO+PS)\", \"DYTurbo (N$^{3}$LL)\", \"SCETlib (N$^{3}$LL)\"], rrange=[0.9, 1.1], binwnorm=1., nlegcols=1, rlabel=\"x/Matrix+Rad\", ylabel=\"$\\sigma$/bin\", xlabel=\"p$_{T}^{\\mathrm{W}^{-}}$ (GeV)\")\n",
    "\n"
   ]
  },
  {
   "cell_type": "code",
   "execution_count": 49,
   "id": "4213be86",
   "metadata": {},
   "outputs": [
    {
     "name": "stdout",
     "output_type": "stream",
     "text": [
      "\u001b[0m\u001b[38;5;33mcombineResults\u001b[0m/                  README.md           temp.txt\r\n",
      "\u001b[38;5;33mlowpu\u001b[0m/                           \u001b[38;5;33mResultsOldSamples\u001b[0m/  \u001b[38;5;33mtest\u001b[0m/\r\n",
      "\u001b[38;5;9mmw_with_mu_eta_pt.pkl.lz4\u001b[0m        \u001b[38;5;33mscripts\u001b[0m/            test.root\r\n",
      "\u001b[38;5;9mmz_wlike_with_mu_eta_pt.pkl.lz4\u001b[0m  setup.sh            \u001b[38;5;33mwremnants\u001b[0m/\r\n",
      "\u001b[38;5;33mnarf\u001b[0m/                            \u001b[38;5;33mtemp\u001b[0m/               \u001b[38;5;9mw_z_gen_dists.pkl.lz4\u001b[0m\r\n",
      "\u001b[38;5;33mnotebooks\u001b[0m/                       \u001b[38;5;33mtempLowPU\u001b[0m/\r\n",
      "\u001b[38;5;33mrdfCorrections\u001b[0m/                  temp.py\r\n"
     ]
    }
   ],
   "source": [
    "ls .."
   ]
  },
  {
   "cell_type": "code",
   "execution_count": 188,
   "id": "e7aa2124",
   "metadata": {},
   "outputs": [],
   "source": [
    "with lz4.frame.open(\"../mz_wlike_with_mu_eta_pt.pkl.lz4\") as f:\n",
    "    out = pickle.load(f)"
   ]
  },
  {
   "cell_type": "code",
   "execution_count": 60,
   "id": "9cf2f802",
   "metadata": {},
   "outputs": [
    {
     "data": {
      "text/plain": [
       "Hist(\n",
       "  Regular(48, -2.4, 2.4, name='eta', label='eta'),\n",
       "  Regular(29, 26, 55, name='pt', label='pt'),\n",
       "  Regular(2, -2, 2, underflow=False, overflow=False, name='charge', label='charge'),\n",
       "  storage=Weight()) # Sum: WeightedSum(value=2.1768e+07, variance=2.14759e+07) (WeightedSum(value=2.41761e+07, variance=2.39617e+07) with flow)"
      ]
     },
     "execution_count": 60,
     "metadata": {},
     "output_type": "execute_result"
    }
   ],
   "source": [
    "out[\"ZmumuPostVFP\"][\"output\"][\"nominal\"]"
   ]
  },
  {
   "cell_type": "code",
   "execution_count": 189,
   "id": "61166245",
   "metadata": {},
   "outputs": [
    {
     "data": {
      "text/plain": [
       "1.0089005148758106"
      ]
     },
     "execution_count": 189,
     "metadata": {},
     "output_type": "execute_result"
    }
   ],
   "source": [
    "out[\"ZmumuPostVFP\"][\"output\"][\"nominal_uncorr\"].sum(flow=True).value/out[\"ZmumuPostVFP\"][\"output\"][\"nominal\"].sum(flow=True).value"
   ]
  },
  {
   "cell_type": "code",
   "execution_count": 96,
   "id": "4e68c158",
   "metadata": {},
   "outputs": [],
   "source": [
    "old = out[\"ZmumuPostVFP\"][\"output\"][\"weight\"]"
   ]
  },
  {
   "cell_type": "code",
   "execution_count": 193,
   "id": "d72fdf43",
   "metadata": {},
   "outputs": [
    {
     "data": {
      "text/plain": [
       "<matplotlib.legend.Legend at 0x7f9e9031dd80>"
      ]
     },
     "execution_count": 193,
     "metadata": {},
     "output_type": "execute_result"
    },
    {
     "data": {
      "image/png": "[encoded data removed]",
      "text/plain": [
       "<Figure size 720x720 with 1 Axes>"
      ]
     },
     "metadata": {
      "needs_background": "light"
     },
     "output_type": "display_data"
    }
   ],
   "source": [
    "out[\"ZmumuPostVFP\"][\"output\"][\"weight_uncorr\"].plot(label=\"nominal weight\")\n",
    "out[\"ZmumuPostVFP\"][\"output\"][\"weight\"].plot()\n",
    "old.plot(label=\"Corrected weight\")\n",
    "plt.legend()"
   ]
  },
  {
   "cell_type": "code",
   "execution_count": null,
   "id": "b366af7e",
   "metadata": {},
   "outputs": [],
   "source": [
    "out[\"ZmumuPostVFP\"][\"output\"][\"weight\"].plot()"
   ]
  },
  {
   "cell_type": "code",
   "execution_count": 78,
   "id": "8c0562fc",
   "metadata": {},
   "outputs": [
    {
     "data": {
      "text/plain": [
       "[StairsArtists(stairs=<matplotlib.patches.StepPatch object at 0x7f9f5c8d5de0>, errorbar=<ErrorbarContainer object of 3 artists>, legend_artist=<ErrorbarContainer object of 3 artists>)]"
      ]
     },
     "execution_count": 78,
     "metadata": {},
     "output_type": "execute_result"
    },
    {
     "data": {
      "image/png": "[encoded data removed]",
      "text/plain": [
       "<Figure size 720x720 with 1 Axes>"
      ]
     },
     "metadata": {
      "needs_background": "light"
     },
     "output_type": "display_data"
    }
   ],
   "source": [
    "out[\"ZmumuPostVFP\"][\"output\"][\"corrWeight\"].plot()"
   ]
  },
  {
   "cell_type": "code",
   "execution_count": 80,
   "id": "85e8fd35",
   "metadata": {},
   "outputs": [
    {
     "data": {
      "text/plain": [
       "dict_keys(['dilepton', 'dilepton_uncorr', 'tensorSize', 'corrWeight', 'scetlibCorr', 'nominal', 'effStatTnP', 'effSystTnP', 'muonL1PrefireStat', 'muonL1PrefireSyst', 'nominal_uncorr', 'qcdScale', 'qcdScaleByHelicity', 'pdfNNPDF31', 'alphaS002pdfNNPDF31', 'massWeight', 'muonScaleSyst', 'muonScaleSyst_responseWeights'])"
      ]
     },
     "execution_count": 80,
     "metadata": {},
     "output_type": "execute_result"
    }
   ],
   "source": [
    "out[\"ZmumuPostVFP\"][\"output\"].keys()"
   ]
  },
  {
   "cell_type": "code",
   "execution_count": 195,
   "id": "3fbba418",
   "metadata": {},
   "outputs": [
    {
     "data": {
      "image/png": "[encoded data removed]",
      "text/plain": [
       "<Figure size 576x576 with 2 Axes>"
      ]
     },
     "metadata": {
      "needs_background": "light"
     },
     "output_type": "display_data"
    }
   ],
   "source": [
    "fig = plot_tools.makePlotWithRatioToRef([out[\"ZmumuPostVFP\"][\"output\"][\"dilepton_uncorr\"].project(\"ptll\"), out[\"ZmumuPostVFP\"][\"output\"][\"dilepton\"].project(\"ptll\"), ], colors=[\"blue\", \"green\", ], labels=[\"MiNNLO uncorr\", \"MNNLO+SCETlib\", ], rrange=[0.9, 1.1], ylabel=\"$\\sigma$/bin\", xlabel=\"p$_{T}^{\\mathrm{Z}}$ (GeV)\", rlabel=\"x/NNLO+N$^{3}$LL\", nlegcols=1, binwnorm=True)"
   ]
  },
  {
   "cell_type": "code",
   "execution_count": 197,
   "id": "9a64a351",
   "metadata": {},
   "outputs": [
    {
     "data": {
      "image/png": "[encoded data removed]",
      "text/plain": [
       "<Figure size 576x576 with 2 Axes>"
      ]
     },
     "metadata": {
      "needs_background": "light"
     },
     "output_type": "display_data"
    }
   ],
   "source": [
    "fig = plot_tools.makePlotWithRatioToRef([out[\"ZmumuPostVFP\"][\"output\"][\"dilepton_uncorr\"].project(\"mll\"), out[\"ZmumuPostVFP\"][\"output\"][\"dilepton\"].project(\"mll\"), ], colors=[\"blue\", \"green\", ], labels=[\"MiNNLO uncorr\", \"MNNLO+SCETlib\", ], rrange=[0.9, 1.1,], ylabel=\"$\\sigma$/bin\", xlabel=\"p$_{T}^{\\mathrm{Z}}$ (GeV)\", rlabel=\"x/NNLO+N$^{3}$LL\", nlegcols=1, binwnorm=True)\n"
   ]
  },
  {
   "cell_type": "code",
   "execution_count": 199,
   "id": "bfadd311",
   "metadata": {},
   "outputs": [
    {
     "data": {
      "image/png": "[encoded data removed]",
      "text/plain": [
       "<Figure size 576x576 with 2 Axes>"
      ]
     },
     "metadata": {
      "needs_background": "light"
     },
     "output_type": "display_data"
    }
   ],
   "source": [
    "fig = plot_tools.makePlotWithRatioToRef([out[\"ZmumuPostVFP\"][\"output\"][\"dilepton_uncorr\"].project(\"yll\"), out[\"ZmumuPostVFP\"][\"output\"][\"dilepton\"].project(\"yll\"), ], colors=[\"blue\", \"green\", ], labels=[\"MiNNLO uncorr\", \"MNNLO+SCETlib\", ], rrange=[0.9, 1.1], ylabel=\"$\\sigma$/bin\", xlabel=\"p$_{T}^{\\mathrm{Z}}$ (GeV)\", rlabel=\"x/NNLO+N$^{3}$LL\", nlegcols=1, binwnorm=True)"
   ]
  },
  {
   "cell_type": "code",
   "execution_count": 169,
   "id": "76d7e9be",
   "metadata": {},
   "outputs": [],
   "source": [
    "from wremnants import scetlib_corrections"
   ]
  },
  {
   "cell_type": "code",
   "execution_count": 172,
   "id": "11ff31a1",
   "metadata": {},
   "outputs": [
    {
     "name": "stdout",
     "output_type": "stream",
     "text": [
      "Shape is (1, 5, 40, 1, 1)\n"
     ]
    }
   ],
   "source": [
    "corr = scetlib_corrections.make_corr_helper(isW=False)"
   ]
  },
  {
   "cell_type": "code",
   "execution_count": null,
   "id": "6bbd5d8f",
   "metadata": {},
   "outputs": [],
   "source": []
  },
  {
   "cell_type": "code",
   "execution_count": null,
   "id": "750c4b76",
   "metadata": {},
   "outputs": [],
   "source": []
  },
  {
   "cell_type": "code",
   "execution_count": null,
   "id": "7496cdec",
   "metadata": {},
   "outputs": [],
   "source": []
  }
 ],
 "metadata": {
  "kernelspec": {
   "display_name": "Python 3 (ipykernel)",
   "language": "python",
   "name": "python3"
  },
  "language_info": {
   "codemirror_mode": {
    "name": "ipython",
    "version": 3
   },
   "file_extension": ".py",
   "mimetype": "text/x-python",
   "name": "python",
   "nbconvert_exporter": "python",
   "pygments_lexer": "ipython3",
   "version": "3.10.2"
  }
 },
 "nbformat": 4,
 "nbformat_minor": 5
}
