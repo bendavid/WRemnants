{
 "cells": [
  {
   "cell_type": "code",
   "execution_count": 62,
   "id": "58999998",
   "metadata": {},
   "outputs": [],
   "source": [
    "import numpy as np\n",
    "import hist\n",
    "import matplotlib.pyplot as plt\n",
    "import mplhep as hep\n",
    "import pickle\n",
    "import lz4.frame\n",
    "from wremnants import plot_tools"
   ]
  },
  {
   "cell_type": "code",
   "execution_count": 64,
   "id": "3321b89f",
   "metadata": {},
   "outputs": [],
   "source": [
    "%load_ext autoreload\n",
    "%autoreload 2"
   ]
  },
  {
   "cell_type": "code",
   "execution_count": 56,
   "id": "89fdf98d",
   "metadata": {},
   "outputs": [],
   "source": [
    "with lz4.frame.open(\"/home/k/kelong/work/WRemnants/w_z_gen_dists.pkl.lz4\") as minnlof:\n",
    "    minnlo = pickle.load(minnlof)\n",
    "minnloh = minnlo[\"ZmumuPostVFP\"][\"output\"][\"nominal_gen\"]*minnlo[\"ZmumuPostVFP\"][\"dataset\"][\"xsec\"]/minnlo[\"ZmumuPostVFP\"][\"weight_sum\"]"
   ]
  },
  {
   "cell_type": "code",
   "execution_count": 3,
   "id": "b3791ea8",
   "metadata": {},
   "outputs": [],
   "source": [
    "f = np.load(\"/home/k/kelong/work/Generators/scetlib-cms/prod/scetlib_run/Ztests/inclusive_Z_pT.npz\", allow_pickle=True)"
   ]
  },
  {
   "cell_type": "code",
   "execution_count": 16,
   "id": "fb558e44",
   "metadata": {},
   "outputs": [],
   "source": [
    "var_axis = hist.axis.Integer(f[\"bins\"][0][0], f[\"bins\"][0][-1], name=\"vars\")\n",
    "mass_axis = hist.axis.Variable(f[\"bins\"][1], name=\"mass\")\n",
    "y_axis = hist.axis.Variable(f[\"bins\"][2], name=\"y\")\n",
    "#pt_axis = hist.axis.Variable(f[\"bins\"][3], name=\"pt\")\n",
    "pt_axis = minnloh.axes[\"ptVgen\"]"
   ]
  },
  {
   "cell_type": "code",
   "execution_count": 17,
   "id": "75df6fd0",
   "metadata": {},
   "outputs": [],
   "source": [
    "scetlibh = hist.Hist(var_axis,mass_axis,y_axis,pt_axis, storage=hist.storage.Weight())"
   ]
  },
  {
   "cell_type": "code",
   "execution_count": 20,
   "id": "f87b5d16",
   "metadata": {},
   "outputs": [],
   "source": [
    "scetlibh[...,:40] = np.stack((f[\"hist\"], f[\"hist_err\"]), axis=-1)"
   ]
  },
  {
   "cell_type": "code",
   "execution_count": 57,
   "id": "890a74e6",
   "metadata": {},
   "outputs": [
    {
     "data": {
      "text/html": [
       "<html>\n",
       "<div style=\"display:flex; align-items:center;\">\n",
       "<div style=\"width:290px;\">\n",
       "<svg xmlns=\"http://www.w3.org/2000/svg\" viewBox=\"-10 -10 220 220\">\n",
       "<rect x=\"0\" y=\"0\" width=\"160\" height=\"160\" style=\"fill:white;opacity:.5;stroke-width:2;stroke:currentColor;\"/>\n",
       "<rect x=\"20\" y=\"20\" width=\"160\" height=\"160\" style=\"fill:white;opacity:.5;stroke-width:2;stroke:currentColor;\"/>\n",
       "<rect x=\"40\" y=\"40\" width=\"160\" height=\"160\" style=\"fill:white;opacity:.5;stroke-width:2;stroke:currentColor;\"/>\n",
       "<text x=\"120.0\" y=\"120.0\" style=\"font-size: 26pt; font-family: verdana; font-style: bold; fill: black;\" text-anchor=\"middle\" alignment-baseline=\"middle\">\n",
       "4D\n",
       "</text>\n",
       "</svg>\n",
       "</div>\n",
       "<div style=\"flex=grow:1;\">\n",
       "Regular(12, 60, 120, name='massVgen', label='massVgen')<br/>\n",
       "Variable([0, 0.25, 0.5, 0.75, 1, 1.25, 1.5, 1.75, 2, 2.25, 2.5, 2.75, 3, 3.25, 3.5, 3.75, 4, 10], name='absYVgen', label='absYVgen')<br/>\n",
       "Variable(array([  0.,   1.,   2.,   3.,   4.,   5.,   6.,   7.,   8.,   9.,  10.,\n",
       "        11.,  12.,  13.,  14.,  15.,  16.,  17.,  18.,  19.,  20.,  21.,\n",
       "        22.,  23.,  24.,  25.,  26.,  27.,  28.,  29.,  30.,  31.,  32.,\n",
       "        33.,  34.,  35.,  36.,  37.,  38.,  39.,  40.,  45.,  50.,  55.,\n",
       "        60.,  75., 100.]), name='ptVgen', label='ptVgen')<br/>\n",
       "Integer(0, 1, underflow=False, overflow=False, name='chargeVgen', label='chargeVgen')<br/>\n",
       "<hr style=\"margin-top:.2em; margin-bottom:.2em;\"/>\n",
       "Weight() Σ=WeightedSum(value=1870.37, variance=0.059025) <em>(WeightedSum(value=1976.1, variance=0.0622546) with flow)</em>\n",
       "\n",
       "</div>\n",
       "</div>\n",
       "</html>"
      ],
      "text/plain": [
       "Hist(\n",
       "  Regular(12, 60, 120, name='massVgen', label='massVgen'),\n",
       "  Variable([0, 0.25, 0.5, 0.75, 1, 1.25, 1.5, 1.75, 2, 2.25, 2.5, 2.75, 3, 3.25, 3.5, 3.75, 4, 10], name='absYVgen', label='absYVgen'),\n",
       "  Variable(array([  0.,   1.,   2.,   3.,   4.,   5.,   6.,   7.,   8.,   9.,  10.,\n",
       "        11.,  12.,  13.,  14.,  15.,  16.,  17.,  18.,  19.,  20.,  21.,\n",
       "        22.,  23.,  24.,  25.,  26.,  27.,  28.,  29.,  30.,  31.,  32.,\n",
       "        33.,  34.,  35.,  36.,  37.,  38.,  39.,  40.,  45.,  50.,  55.,\n",
       "        60.,  75., 100.]), name='ptVgen', label='ptVgen'),\n",
       "  Integer(0, 1, underflow=False, overflow=False, name='chargeVgen', label='chargeVgen'),\n",
       "  storage=Weight()) # Sum: WeightedSum(value=1870.37, variance=0.059025) (WeightedSum(value=1976.1, variance=0.0622546) with flow)"
      ]
     },
     "execution_count": 57,
     "metadata": {},
     "output_type": "execute_result"
    }
   ],
   "source": [
    "minnloh"
   ]
  },
  {
   "cell_type": "code",
   "execution_count": 45,
   "id": "eebe183d",
   "metadata": {},
   "outputs": [
    {
     "data": {
      "text/plain": [
       "WeightedSum(value=8.44125e+07, variance=8.44125e+07)"
      ]
     },
     "execution_count": 45,
     "metadata": {},
     "output_type": "execute_result"
    }
   ],
   "source": [
    "minnlo[\"ZmumuPostVFP\"][\"output\"][\"nominal_gen\"].sum()"
   ]
  },
  {
   "cell_type": "code",
   "execution_count": 51,
   "id": "6a205177",
   "metadata": {},
   "outputs": [],
   "source": [
    "x = minnlo[\"ZmumuPostVFP\"][\"output\"][\"nominal_gen\"].sum()"
   ]
  },
  {
   "cell_type": "code",
   "execution_count": 53,
   "id": "227cb9ed",
   "metadata": {},
   "outputs": [
    {
     "data": {
      "text/plain": [
       "1.1295678198765564"
      ]
     },
     "execution_count": 53,
     "metadata": {},
     "output_type": "execute_result"
    }
   ],
   "source": [
    "x.value/minnlo[\"ZmumuPostVFP\"][\"weight_sum\"]"
   ]
  },
  {
   "cell_type": "code",
   "execution_count": 67,
   "id": "825c54c8",
   "metadata": {},
   "outputs": [
    {
     "data": {
      "image/png": "[encoded data removed]",
      "text/plain": [
       "<Figure size 576x576 with 2 Axes>"
      ]
     },
     "metadata": {
      "needs_background": "light"
     },
     "output_type": "display_data"
    }
   ],
   "source": [
    "fig = plot_tools.makePlotWithRatioToRef([minnloh.project(\"ptVgen\"), scetlibh.project(\"ptVgen\")], colors=[\"red\", \"blue\"], labels=[\"minnlo\", \"scetlib\"], rrange=[0.8, 1.2], binwnorm=1.)\n"
   ]
  },
  {
   "cell_type": "code",
   "execution_count": 84,
   "id": "82eb8e4d",
   "metadata": {},
   "outputs": [],
   "source": [
    "from scipy import special"
   ]
  },
  {
   "cell_type": "code",
   "execution_count": 177,
   "id": "b4965d10",
   "metadata": {},
   "outputs": [],
   "source": [
    "mid = 25\n",
    "k=0.2"
   ]
  },
  {
   "cell_type": "code",
   "execution_count": 182,
   "id": "f712a69d",
   "metadata": {},
   "outputs": [],
   "source": [
    "corr = np.ones(len(pt_axis.edges)+1)\n",
    "corr[1:] = 0.5*(1-special.erf(k*(pt_axis.edges-mid)))"
   ]
  },
  {
   "cell_type": "code",
   "execution_count": null,
   "id": "c85045e8",
   "metadata": {},
   "outputs": [],
   "source": []
  },
  {
   "cell_type": "code",
   "execution_count": 181,
   "id": "f6b07249",
   "metadata": {},
   "outputs": [],
   "source": []
  },
  {
   "cell_type": "code",
   "execution_count": 184,
   "id": "7bce6264",
   "metadata": {},
   "outputs": [
    {
     "data": {
      "text/plain": [
       "array([1.00000000e+00, 1.00000000e+00, 1.00000000e+00, 1.00000000e+00,\n",
       "       1.00000000e+00, 9.99999999e-01, 9.99999992e-01, 9.99999961e-01,\n",
       "       9.99999822e-01, 9.99999239e-01, 9.99996987e-01, 9.99988955e-01,\n",
       "       9.99962493e-01, 9.99881983e-01, 9.99655743e-01, 9.99068577e-01,\n",
       "       9.97661133e-01, 9.94545251e-01, 9.88174192e-01, 9.76142560e-01,\n",
       "       9.55156989e-01, 9.21350396e-01, 8.71050482e-01, 8.01928045e-01,\n",
       "       7.14196178e-01, 6.11351295e-01, 5.00000000e-01, 3.88648705e-01,\n",
       "       2.85803822e-01, 1.98071955e-01, 1.28949518e-01, 7.86496035e-02,\n",
       "       4.48430109e-02, 2.38574401e-02, 1.18258083e-02, 5.45474918e-03,\n",
       "       2.33886749e-03, 9.31423149e-04, 3.44256948e-04, 1.18017208e-04,\n",
       "       3.75065973e-05, 1.10452485e-05, 7.70862896e-09, 7.68718422e-13,\n",
       "       0.00000000e+00, 0.00000000e+00, 0.00000000e+00, 0.00000000e+00])"
      ]
     },
     "execution_count": 184,
     "metadata": {},
     "output_type": "execute_result"
    }
   ],
   "source": [
    "corr"
   ]
  },
  {
   "cell_type": "code",
   "execution_count": 185,
   "id": "178a3e31",
   "metadata": {},
   "outputs": [
    {
     "data": {
      "text/plain": [
       "[StairsArtists(stairs=<matplotlib.patches.StepPatch object at 0x7fa1b7e782e0>, errorbar=None, legend_artist=None)]"
      ]
     },
     "execution_count": 185,
     "metadata": {},
     "output_type": "execute_result"
    },
    {
     "data": {
      "image/png": "[encoded data removed]",
      "text/plain": [
       "<Figure size 720x720 with 1 Axes>"
      ]
     },
     "metadata": {
      "needs_background": "light"
     },
     "output_type": "display_data"
    }
   ],
   "source": [
    "hep.histplot(corr)\n",
    "hep.histplot(1-corr)"
   ]
  },
  {
   "cell_type": "code",
   "execution_count": 189,
   "id": "8b627ea3",
   "metadata": {},
   "outputs": [
    {
     "data": {
      "text/plain": [
       "(1, 1, 1, 46)"
      ]
     },
     "execution_count": 189,
     "metadata": {},
     "output_type": "execute_result"
    }
   ],
   "source": [
    "scetlibh.shape"
   ]
  },
  {
   "cell_type": "code",
   "execution_count": 190,
   "id": "a398ea14",
   "metadata": {},
   "outputs": [],
   "source": [
    "minnlocorr[...] = minnloh.view(flow=True)*(1-corr[np.newaxis,np.newaxis,:,np.newaxis,])\n",
    "scetlibcorr = scetlibh*corr[np.newaxis,np.newaxis,np.newaxis,1:-1]"
   ]
  },
  {
   "cell_type": "code",
   "execution_count": 191,
   "id": "9e097df6",
   "metadata": {},
   "outputs": [],
   "source": [
    "corrh_pt = scetlibcorr.project(\"ptVgen\")+minnlocorr.project(\"ptVgen\")"
   ]
  },
  {
   "cell_type": "code",
   "execution_count": 202,
   "id": "ca0afae8",
   "metadata": {},
   "outputs": [],
   "source": [
    "hists = [corrh_pt] + [x .project(\"ptVgen\") for x in [minnloh, scetlibh, minnlocorr, scetlibcorr]]\n",
    "labels = [r\"MiNNLO$\\bigoplus$SCETlib\", \"MiNNLO\", \"SCETlib\", \"MiNNLO turnon\", \"SCETlib turnoff\"]\n",
    "colors = [\"blue\", \"orange\", \"purple\", \"red\", \"green\"]"
   ]
  },
  {
   "cell_type": "code",
   "execution_count": null,
   "id": "753adb45",
   "metadata": {},
   "outputs": [],
   "source": [
    "fig = plot_tools.makePlotWithRatioToRef(hists, colors=colors, labels=labels, rrange=[0.8, 1.2], binwnorm=1., rlabel=\"x/MiNNO+Stlib\")"
   ]
  },
  {
   "cell_type": "code",
   "execution_count": null,
   "id": "61a20da6",
   "metadata": {},
   "outputs": [],
   "source": []
  }
 ],
 "metadata": {
  "kernelspec": {
   "display_name": "Python 3 (ipykernel)",
   "language": "python",
   "name": "python3"
  },
  "language_info": {
   "codemirror_mode": {
    "name": "ipython",
    "version": 3
   },
   "file_extension": ".py",
   "mimetype": "text/x-python",
   "name": "python",
   "nbconvert_exporter": "python",
   "pygments_lexer": "ipython3",
   "version": "3.10.2"
  }
 },
 "nbformat": 4,
 "nbformat_minor": 5
}
