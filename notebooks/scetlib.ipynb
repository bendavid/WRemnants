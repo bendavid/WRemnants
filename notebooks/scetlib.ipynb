{
 "cells": [
  {
   "cell_type": "code",
   "execution_count": null,
   "id": "58999998",
   "metadata": {},
   "outputs": [],
   "source": [
    "import numpy as np\n",
    "import hist\n",
    "import matplotlib.pyplot as plt\n",
    "import mplhep as hep\n",
    "import pickle\n",
    "import lz4.frame\n",
    "from wremnants import plot_tools, scetlib_corrections,theory_tools\n",
    "from wremnants import boostHistHelpers as hh\n",
    "from scipy import special"
   ]
  },
  {
   "cell_type": "code",
   "execution_count": null,
   "id": "848774e2",
   "metadata": {},
   "outputs": [],
   "source": [
    "%load_ext autoreload\n",
    "%autoreload 2"
   ]
  },
  {
   "cell_type": "code",
   "execution_count": null,
   "id": "89fdf98d",
   "metadata": {},
   "outputs": [],
   "source": [
    "with lz4.frame.open(\"/home/k/kelong/work/WRemnants/w_z_gen_dists.pkl.lz4\") as minnlof:\n",
    "    minnlo = pickle.load(minnlof)\n",
    "minnloh = minnlo[\"WminusmunuPostVFP\"][\"output\"][\"nominal_gen\"]*minnlo[\"WminusmunuPostVFP\"][\"dataset\"][\"xsec\"]/minnlo[\"WminusmunuPostVFP\"][\"weight_sum\"]\n",
    "minnlopdfh = minnlo[\"ZmumuPostVFP\"][\"output\"][\"pdfNNPDF31\"]*minnlo[\"ZmumuPostVFP\"][\"dataset\"][\"xsec\"]/minnlo[\"ZmumuPostVFP\"][\"weight_sum\"]\n",
    "minnlohZ = minnlo[\"ZmumuPostVFP\"][\"output\"][\"nominal_gen\"]*minnlo[\"ZmumuPostVFP\"][\"dataset\"][\"xsec\"]/minnlo[\"ZmumuPostVFP\"][\"weight_sum\"]"
   ]
  },
  {
   "cell_type": "code",
   "execution_count": null,
   "id": "b3791ea8",
   "metadata": {},
   "outputs": [],
   "source": [
    "minnloh"
   ]
  },
  {
   "cell_type": "code",
   "execution_count": null,
   "id": "c71e6e16",
   "metadata": {},
   "outputs": [],
   "source": [
    "scetlibhZ_tot = scetlib_corrections.readScetlibHist(\"/home/k/kelong/work/Generators/scetlib-cms/prod/scetlib_run/helicityTest/Z/inclusive_Z.npz\", add_nonsing=False)\n",
    "scetlibhZ_A4 = scetlib_corrections.readScetlibHist(\"/home/k/kelong/work/Generators/scetlib-cms/prod/scetlib_run/helicityTest/inclusive_Z_pT_A4.npz\", add_nonsing=False, flip_y_sign=True)"
   ]
  },
  {
   "cell_type": "code",
   "execution_count": null,
   "id": "4f548123",
   "metadata": {},
   "outputs": [],
   "source": [
    "scetlibhZ_A4.project(\"pt\").plot(label=\"A$_{4}$\")\n",
    "scetlibhZ_tot.project(\"pt\").plot(label=\"full\")\n",
    "plt.legend()"
   ]
  },
  {
   "cell_type": "code",
   "execution_count": null,
   "id": "fb558e44",
   "metadata": {},
   "outputs": [],
   "source": [
    "fig = plot_tools.makePlotWithRatioToRef([scetlibhZ_tot.project(\"y\"), scetlibhZ_A4.project(\"y\")], xlim=[-5, 5],colors=[\"red\", \"blue\",], labels=[\"total\", \"A$_{4}$\"], rrange=[-0.5, 0], binwnorm=1.)"
   ]
  },
  {
   "cell_type": "code",
   "execution_count": null,
   "id": "4b456002",
   "metadata": {},
   "outputs": [],
   "source": [
    "fig = plot_tools.makePlotWithRatioToRef([scetlibhZ_tot.project(\"pt\"), scetlibhZ_A4.project(\"pt\")],colors=[\"red\", \"blue\",], labels=[\"total\", \"A$_{4}$\"], rrange=[-0.1, 0], binwnorm=1.)"
   ]
  },
  {
   "cell_type": "code",
   "execution_count": null,
   "id": "75df6fd0",
   "metadata": {},
   "outputs": [],
   "source": [
    "s = hist.tag.Slicer()"
   ]
  },
  {
   "cell_type": "code",
   "execution_count": null,
   "id": "890a74e6",
   "metadata": {},
   "outputs": [],
   "source": [
    "minnlohZ.project(\"ptVgen\").plot(label=\"scetlib\", binwnorm=True)\n",
    "scetlibhZ_tot.project(\"pt\").plot(label=\"minnlo\")"
   ]
  },
  {
   "cell_type": "code",
   "execution_count": null,
   "id": "eebe183d",
   "metadata": {},
   "outputs": [],
   "source": []
  },
  {
   "cell_type": "code",
   "execution_count": null,
   "id": "6a205177",
   "metadata": {},
   "outputs": [],
   "source": []
  },
  {
   "cell_type": "code",
   "execution_count": null,
   "id": "cdf8e421",
   "metadata": {},
   "outputs": [],
   "source": []
  },
  {
   "cell_type": "code",
   "execution_count": null,
   "id": "825c54c8",
   "metadata": {},
   "outputs": [],
   "source": []
  },
  {
   "cell_type": "code",
   "execution_count": null,
   "id": "19947ba3",
   "metadata": {},
   "outputs": [],
   "source": []
  },
  {
   "cell_type": "code",
   "execution_count": null,
   "id": "727bada4",
   "metadata": {},
   "outputs": [],
   "source": []
  },
  {
   "cell_type": "code",
   "execution_count": null,
   "id": "eca84c27",
   "metadata": {},
   "outputs": [],
   "source": []
  },
  {
   "cell_type": "code",
   "execution_count": null,
   "id": "2351bc7b",
   "metadata": {},
   "outputs": [],
   "source": []
  },
  {
   "cell_type": "code",
   "execution_count": null,
   "id": "3e50164e",
   "metadata": {},
   "outputs": [],
   "source": [
    "ax = minnlohZ.axes[\"ptVgen\"]\n",
    "np.add.reduceat(minnlohZ[0,0,:,0].values(), ax.index([0, 10, 20]))"
   ]
  },
  {
   "cell_type": "code",
   "execution_count": null,
   "id": "96819592",
   "metadata": {},
   "outputs": [],
   "source": [
    "np.add.reduceat(minnlohZ[0,0,:,:].values(), ax.index(scetlibhZ_tot.axes[\"pt\"].edges))"
   ]
  },
  {
   "cell_type": "code",
   "execution_count": null,
   "id": "aa197870",
   "metadata": {},
   "outputs": [],
   "source": [
    "axm = minnlohZ.axes[\"massVgen\"]\n",
    "axy = minnlohZ.axes[\"absYVgen\"]\n",
    "axpt = minnlohZ.axes[\"ptVgen\"]\n",
    "minnlohZ[:,:,:,0]"
   ]
  },
  {
   "cell_type": "code",
   "execution_count": null,
   "id": "e906a4b4",
   "metadata": {},
   "outputs": [],
   "source": [
    "ipt = axpt.index(scetlibhZ_tot.axes[\"pt\"].edges)\n",
    "iy = axy.index(scetlibhZ_tot.axes[\"y\"].edges)"
   ]
  },
  {
   "cell_type": "code",
   "execution_count": null,
   "id": "fe077ec1",
   "metadata": {},
   "outputs": [],
   "source": [
    "newh = np.add.reduceat(minnlohZ[:,:,:,0].values(), \n",
    "    ipt, axis=2\n",
    ")"
   ]
  },
  {
   "cell_type": "code",
   "execution_count": null,
   "id": "5787b484",
   "metadata": {},
   "outputs": [],
   "source": [
    "newh = np.add.reduceat(newh, \n",
    "    (0,1), axis=1\n",
    ")\n",
    "np.sum(newh, axis=1, keepdims=True).shape"
   ]
  },
  {
   "cell_type": "code",
   "execution_count": null,
   "id": "c6824aa4",
   "metadata": {},
   "outputs": [],
   "source": [
    "hh.makeAbsHist(scetlibhZ_tot, \"y\")"
   ]
  },
  {
   "cell_type": "code",
   "execution_count": null,
   "id": "1fcd3135",
   "metadata": {},
   "outputs": [],
   "source": [
    "# TODO: Make this nd\n",
    "minnlocorr = minnlohZ.project(\"ptVgen\").copy()\n",
    "scetlibcorr = minnlohZ.project(\"ptVgen\").copy()\n",
    "max_pt_corr = scetlibcorr.axes[\"ptVgen\"].index(scetlibhZ_tot.axes[\"pt\"].edges[-1])\n",
    "scetlibcorr[:max_pt_corr] = scetlibhZ_tot[0,0,...].project(\"pt\").view()\n",
    "corr = hh.divideHists(scetlibcorr, minnlocorr, cutoff=0.01)"
   ]
  },
  {
   "cell_type": "code",
   "execution_count": null,
   "id": "149f2806",
   "metadata": {},
   "outputs": [],
   "source": [
    "corr.plot(label=\"SCETlib/MiNNLO Z ratio\")\n",
    "corrW.plot(label=\"SCETlib/MiNNLO W ratio\")\n",
    "plt.legend()\n",
    "plt.ylim([0.8,1.2])"
   ]
  },
  {
   "cell_type": "code",
   "execution_count": null,
   "id": "4d50e26e",
   "metadata": {},
   "outputs": [],
   "source": []
  },
  {
   "cell_type": "code",
   "execution_count": null,
   "id": "2d2b9961",
   "metadata": {},
   "outputs": [],
   "source": []
  },
  {
   "cell_type": "code",
   "execution_count": null,
   "id": "1d2b2db7",
   "metadata": {},
   "outputs": [],
   "source": [
    "minnlocorr[...] = minnlohZ.view(flow=True)*(1-corr[np.newaxis,np.newaxis,:,np.newaxis,])\n",
    "scetlibcorr = scetlibh[0:1,...]*corr[np.newaxis,np.newaxis,np.newaxis,0:40]"
   ]
  },
  {
   "cell_type": "code",
   "execution_count": null,
   "id": "5fd5dde0",
   "metadata": {},
   "outputs": [],
   "source": [
    "minnloScetlib = minnlocorr.project(\"ptVgen\")\n",
    "minnloScetlib[:40] = minnloScetlib[:40].view()+scetlibcorr.view()[0,0,0,:]"
   ]
  },
  {
   "cell_type": "code",
   "execution_count": null,
   "id": "347790f1",
   "metadata": {},
   "outputs": [],
   "source": [
    "minnloScetlib.plot()\n",
    "minnlocorr.project(\"ptVgen\").plot()\n",
    "minnlohZ.project(\"ptVgen\").plot()\n",
    "scetlibcorr[0,0,0,:].project(\"pt\").plot()"
   ]
  },
  {
   "cell_type": "code",
   "execution_count": null,
   "id": "9ec8807b",
   "metadata": {},
   "outputs": [],
   "source": [
    "hists = [corrh_pt] + [x .project(\"ptVgen\") for x in [minnloh, scetlibh, minnlocorr, scetlibcorr]]\n",
    "labels = [r\"MiNNLO$\\bigoplus$SCETlib\", \"MiNNLO\", \"SCETlib\", \"MiNNLO turnon\", \"SCETlib turnoff\"]\n",
    "colors = [\"blue\", \"orange\", \"purple\", \"red\", \"green\"]"
   ]
  },
  {
   "cell_type": "code",
   "execution_count": null,
   "id": "f8fb371c",
   "metadata": {},
   "outputs": [],
   "source": [
    "fig = plot_tools.makePlotWithRatioToRef(hists, colors=colors, labels=labels, rrange=[0.8, 1.2], binwnorm=1.)#, rlabel=\"x/MiNNO+Stlib\")"
   ]
  },
  {
   "cell_type": "code",
   "execution_count": null,
   "id": "6a042c17",
   "metadata": {},
   "outputs": [],
   "source": [
    "pdfPtV = minnlopdfh.project(\"ptVgen\", \"tensor_axis_0\")"
   ]
  },
  {
   "cell_type": "code",
   "execution_count": null,
   "id": "acecb898",
   "metadata": {},
   "outputs": [],
   "source": [
    "diff = hh.addHists(pdfPtV[:, 0], -1*pdfPtV)\n",
    "diff"
   ]
  },
  {
   "cell_type": "code",
   "execution_count": null,
   "id": "87a5ab82",
   "metadata": {},
   "outputs": [],
   "source": [
    "sq = hh.multiplyHists(diff, diff)"
   ]
  },
  {
   "cell_type": "code",
   "execution_count": null,
   "id": "ae583339",
   "metadata": {},
   "outputs": [],
   "source": [
    "ss = sq.project(\"ptVgen\")"
   ]
  },
  {
   "cell_type": "code",
   "execution_count": null,
   "id": "42a9d754",
   "metadata": {},
   "outputs": [],
   "source": [
    "ss[...] = np.stack((np.sqrt(ss.values()), ss.variances()), axis=-1)"
   ]
  },
  {
   "cell_type": "code",
   "execution_count": null,
   "id": "b341f35c",
   "metadata": {},
   "outputs": [],
   "source": [
    "pdfUp = pdfPtV[:,0]+ss\n",
    "pdfDown = pdfPtV[:,0]+-1*ss"
   ]
  },
  {
   "cell_type": "code",
   "execution_count": null,
   "id": "b63f6243",
   "metadata": {},
   "outputs": [],
   "source": [
    "fig = plot_tools.makePlotWithRatioToRef([pdfPtV[:,0], pdfUp, pdfDown], colors=[\"black\", \"red\", \"blue\"], labels=[\"nominal\", \"up\", \"down\"], rrange=[0.95, 1.05], binwnorm=1.)"
   ]
  },
  {
   "cell_type": "code",
   "execution_count": null,
   "id": "39398f9a",
   "metadata": {},
   "outputs": [],
   "source": [
    "newh = hh.addHists(pdfPtV[:,0], -1*pdfPtV)"
   ]
  },
  {
   "cell_type": "code",
   "execution_count": null,
   "id": "284fd3c2",
   "metadata": {},
   "outputs": [],
   "source": [
    "newh1 = hh.addHists(pdfPtV[:,0], -1*pdfPtV[:,1])"
   ]
  },
  {
   "cell_type": "code",
   "execution_count": null,
   "id": "eb9f0321",
   "metadata": {},
   "outputs": [],
   "source": [
    "scetlibh.project(\"pt\").plot()\n",
    "minnloh.project(\"ptVgen\").plot()"
   ]
  },
  {
   "cell_type": "code",
   "execution_count": null,
   "id": "bcb1e161",
   "metadata": {},
   "outputs": [],
   "source": []
  },
  {
   "cell_type": "code",
   "execution_count": null,
   "id": "828cc390",
   "metadata": {},
   "outputs": [],
   "source": []
  },
  {
   "cell_type": "code",
   "execution_count": null,
   "id": "1de65ef9",
   "metadata": {},
   "outputs": [],
   "source": [
    "scetlibh_tot = scetlib_corrections.readScetlibHist(\"/home/k/kelong/work/Generators/scetlib-cms/prod/scetlib_run/helicityTest/Wm/inclusive_Wm.npz\", add_nonsing=True)\n",
    "scetlibh_A4 = scetlib_corrections.readScetlibHist(\"/home/k/kelong/work/Generators/scetlib-cms/prod/scetlib_run/helicityTest/Wm/inclusive_Wm_A4.npz\", add_nonsing=True, flip_y_sign=True)\n",
    "scetlibh_tot_s = scetlib_corrections.readScetlibHist(\"/home/k/kelong/work/Generators/scetlib-cms/prod/scetlib_run/helicityTest/Wm/inclusive_Wm.npz\", add_nonsing=False)"
   ]
  },
  {
   "cell_type": "code",
   "execution_count": null,
   "id": "855c5283",
   "metadata": {},
   "outputs": [],
   "source": [
    "corrh.project(\"ptVgen\").plot()\n",
    "scetlibh_tot.project(\"pt\").plot()"
   ]
  },
  {
   "cell_type": "code",
   "execution_count": null,
   "id": "910bf276",
   "metadata": {},
   "outputs": [],
   "source": [
    "minnlocorr = minnloh.project(\"ptVgen\").copy()\n",
    "scetlibcorr = minnloh.project(\"ptVgen\").copy()\n",
    "scetlibcorr[...,:40] = scetlibh_tot.project(\"pt\").view()\n",
    "corrW = hh.divideHists(scetlibcorr, minnlocorr, cutoff=0.01)"
   ]
  },
  {
   "cell_type": "code",
   "execution_count": null,
   "id": "3dfc4e05",
   "metadata": {},
   "outputs": [],
   "source": []
  },
  {
   "cell_type": "code",
   "execution_count": null,
   "id": "bc45c0ff",
   "metadata": {},
   "outputs": [],
   "source": []
  },
  {
   "cell_type": "code",
   "execution_count": null,
   "id": "342f58a8",
   "metadata": {},
   "outputs": [],
   "source": [
    "corr[30.j:40.j].axes[\"ptVgen\"].centers"
   ]
  },
  {
   "cell_type": "code",
   "execution_count": null,
   "id": "7d9f5798",
   "metadata": {},
   "outputs": [],
   "source": []
  },
  {
   "cell_type": "code",
   "execution_count": null,
   "id": "27e8b329",
   "metadata": {},
   "outputs": [],
   "source": [
    "x = corr[20.j:40.j].axes[\"ptVgen\"].centers\n",
    "params = np.polyfit(y=corr[20.j:40.j].values(), x=x, deg = 2)\n",
    "poly = np.poly1d(params)\n",
    "xeval = corr[30.j:40.j].axes[\"ptVgen\"].centers"
   ]
  },
  {
   "cell_type": "code",
   "execution_count": null,
   "id": "cf2e97a4",
   "metadata": {},
   "outputs": [],
   "source": [
    "corr_orig = corr.copy()\n",
    "corr[30:40] = np.stack((poly(xeval), corr[30.j:40.j].variances()), axis=-1)"
   ]
  },
  {
   "cell_type": "code",
   "execution_count": null,
   "id": "4068d8b1",
   "metadata": {},
   "outputs": [],
   "source": []
  },
  {
   "cell_type": "code",
   "execution_count": null,
   "id": "499a6ad3",
   "metadata": {},
   "outputs": [],
   "source": []
  },
  {
   "cell_type": "code",
   "execution_count": null,
   "id": "46145538",
   "metadata": {},
   "outputs": [],
   "source": [
    "minnloScetlib = hh.multiplyHists(minnlocorr, corrW)\n",
    "minnloScetlib.plot()\n",
    "matrixRadish.plot()"
   ]
  },
  {
   "cell_type": "code",
   "execution_count": null,
   "id": "0f865392",
   "metadata": {},
   "outputs": [],
   "source": []
  },
  {
   "cell_type": "code",
   "execution_count": null,
   "id": "341e9220",
   "metadata": {},
   "outputs": [],
   "source": [
    "scetlibh_A4.project(\"y\").plot(label=r\"$\\sigma_{4}$\")\n",
    "scetlibh_tot.project(\"y\").plot(label=r\"$\\sigma_{\\mathrm{UL}}$\")\n",
    "plt.legend()"
   ]
  },
  {
   "cell_type": "code",
   "execution_count": null,
   "id": "18406545",
   "metadata": {},
   "outputs": [],
   "source": [
    "scetlib_A4_coeff = hh.divideHists(scetlibh_A4, scetlibh_tot, cutoff=0.0001)\n",
    "scetlib_A4_coeff_pt = hh.divideHists(scetlibh_A4.project(\"pt\"), scetlibh_tot.project(\"pt\"), cutoff=0.0001)"
   ]
  },
  {
   "cell_type": "code",
   "execution_count": null,
   "id": "698b2002",
   "metadata": {},
   "outputs": [],
   "source": [
    "scetlib_A4_coeff_pt.plot()"
   ]
  },
  {
   "cell_type": "code",
   "execution_count": null,
   "id": "28169ce0",
   "metadata": {},
   "outputs": [],
   "source": [
    "scetlibh_A4.project(\"y\").values()"
   ]
  },
  {
   "cell_type": "code",
   "execution_count": null,
   "id": "df96c3f0",
   "metadata": {},
   "outputs": [],
   "source": [
    "scetlibh_A4_nons.project(\"y\").plot(label=\"singular\")\n",
    "scetlibh_A4.project(\"y\").plot(label=\"nonsingular\")\n",
    "plt.title(\"A$_{4}$\")\n",
    "plt.legend()"
   ]
  },
  {
   "cell_type": "code",
   "execution_count": null,
   "id": "f1f3c831",
   "metadata": {},
   "outputs": [],
   "source": [
    "minnloh"
   ]
  },
  {
   "cell_type": "code",
   "execution_count": null,
   "id": "1cca154e",
   "metadata": {},
   "outputs": [],
   "source": [
    "scetlibh_const"
   ]
  },
  {
   "cell_type": "code",
   "execution_count": null,
   "id": "728813aa",
   "metadata": {},
   "outputs": [],
   "source": [
    "scetlibh_A0.project(\"pt\").plot(label=\"A$_{0}$\")\n",
    "(0.1*scetlibh_tot.project(\"pt\")).plot(label=\"total\")\n",
    "minnloh.project(\"ptVgen\").plot(label=\"minnlo\")\n",
    "plt.legend()"
   ]
  },
  {
   "cell_type": "code",
   "execution_count": null,
   "id": "cc546551",
   "metadata": {},
   "outputs": [],
   "source": [
    "scetlibhZ = scetlib_corrections.readScetlibHist(\"/home/k/kelong/work/Generators/scetlib-cms/prod/scetlib_run/helicityTest/inclusive_Z_pT.npz\")"
   ]
  },
  {
   "cell_type": "code",
   "execution_count": null,
   "id": "2bc13bc7",
   "metadata": {},
   "outputs": [],
   "source": [
    "scetlibhZ.project(\"pt\").plot()\n",
    "minnlohZ.project(\"ptVgen\").plot(binwnorm=1.)"
   ]
  },
  {
   "cell_type": "code",
   "execution_count": null,
   "id": "ba4f7007",
   "metadata": {},
   "outputs": [],
   "source": [
    "scetlibh.project(\"pt\").plot(label=\"W\")\n",
    "(100*scetlibhZ).project(\"pt\").plot(label=\"Z\")\n",
    "plt.legend()"
   ]
  },
  {
   "cell_type": "code",
   "execution_count": null,
   "id": "ae11a4e7",
   "metadata": {},
   "outputs": [],
   "source": [
    "minnloh.project(\"ptVgen\").plot(binwnorm=1., label=\"MiNNLO\")\n",
    "scetlibh.project(\"pt\").plot(label=\"SCETlib\")"
   ]
  },
  {
   "cell_type": "code",
   "execution_count": null,
   "id": "8fc2df4f",
   "metadata": {},
   "outputs": [],
   "source": [
    "scetlibhWpt = scetlib_corrections.readScetlibHist(\"/home/k/kelong/work/Generators/scetlib-0.4-256-gbe3a9cb8/prod/scetlib_run/W/inclusive_Wm_pT.npz\")"
   ]
  },
  {
   "cell_type": "code",
   "execution_count": null,
   "id": "91412cc9",
   "metadata": {},
   "outputs": [],
   "source": []
  },
  {
   "cell_type": "code",
   "execution_count": null,
   "id": "d7079536",
   "metadata": {},
   "outputs": [],
   "source": [
    "scetlibhWpt[0,...].project(\"pt\").plot(yerr=False)\n",
    "minnloh.project(\"ptVgen\").plot(binwnorm=1., label=\"MiNNLO\")"
   ]
  },
  {
   "cell_type": "code",
   "execution_count": null,
   "id": "922424be",
   "metadata": {},
   "outputs": [],
   "source": [
    "scetlibW_y_tot_s = scetlib_corrections.readScetlibHist(\"/home/k/kelong/work/Generators/scetlib-cms/prod/scetlib_run/helicityTest/Wm/inclusive_Wm_y_binMinnlo.npz\")\n",
    "scetlibW_y_tot_nons = scetlib_corrections.readScetlibHist(\"/home/k/kelong/work/Generators/scetlib-cms/prod/scetlib_run/helicityTest/Wm/inclusive_Wm_y_binMinnlo_nons.npz\")\n",
    "scetlibW_y_tot = scetlibW_y_tot_s + scetlibW_y_tot_nons\n",
    "\n",
    "scetlibW_y_A4_s = scetlib_corrections.readScetlibHist(\"/home/k/kelong/work/Generators/scetlib-cms/prod/scetlib_run/helicityTest/Wm/inclusive_Wm_y_binMinnlo_A4.npz\")\n",
    "scetlibW_y_A4_nons = scetlib_corrections.readScetlibHist(\"/home/k/kelong/work/Generators/scetlib-cms/prod/scetlib_run/helicityTest/Wm/inclusive_Wm_y_binMinnlo_A4_nons.npz\")\n",
    "scetlibW_y_A4 = scetlibW_y_A4_s + scetlibW_y_A4_nons\n",
    "\n",
    "#s = hist.tag.Slicer()\n",
    "yax = scetlibW_y_A4.axes[\"y\"]\n",
    "scetlibW_y_A4[:,:,yax.index(0):,:] = scetlibW_y_A4[:,:,yax.index(0):,:].view()*-1"
   ]
  },
  {
   "cell_type": "code",
   "execution_count": null,
   "id": "b323233a",
   "metadata": {},
   "outputs": [],
   "source": [
    "scetlibW_y_tot = scetlib_corrections.readScetlibHist(\"/home/k/kelong/work/Generators/scetlib-cms/prod/scetlib_run/helicityTest/Wm/inclusive_Wm.npz\", add_nonsing=True)"
   ]
  },
  {
   "cell_type": "code",
   "execution_count": null,
   "id": "b539317d",
   "metadata": {},
   "outputs": [],
   "source": []
  },
  {
   "cell_type": "code",
   "execution_count": null,
   "id": "cc2418f5",
   "metadata": {},
   "outputs": [],
   "source": [
    "scetlibW_yabs_A4 = makeYAbsHist(scetlibW_y_A4)\n",
    "scetlibW_yabs_tot = makeYAbsHist(scetlibW_y_tot)"
   ]
  },
  {
   "cell_type": "code",
   "execution_count": null,
   "id": "6bbba9c3",
   "metadata": {},
   "outputs": [],
   "source": [
    "yax = scetlibW_y_A4.axes[\"y\"]\n",
    "axs = scetlibW_y_A4.axes"
   ]
  },
  {
   "cell_type": "code",
   "execution_count": null,
   "id": "9923171a",
   "metadata": {},
   "outputs": [],
   "source": [
    "scetlib_absy_A4_coeff = hh.divideHists(scetlibW_yabs_A4.project(\"y\"), scetlibW_yabs_tot.project(\"y\"))"
   ]
  },
  {
   "cell_type": "code",
   "execution_count": null,
   "id": "97895975",
   "metadata": {},
   "outputs": [],
   "source": [
    "scetlibW_yabs_A4.project(\"y\").plot()\n",
    "scetlibW_yabs_tot.project(\"y\").plot()\n",
    "plt.xlim([0, 4.0])"
   ]
  },
  {
   "cell_type": "code",
   "execution_count": null,
   "id": "870cba02",
   "metadata": {},
   "outputs": [],
   "source": [
    "hh.divideHists(scetlibW_yabs_A4.project(\"y\"), scetlibW_yabs_tot.project(\"y\")).plot()\n",
    "plt.xlim([0,4.0])"
   ]
  },
  {
   "cell_type": "code",
   "execution_count": null,
   "id": "0c493eab",
   "metadata": {},
   "outputs": [],
   "source": [
    "scetlibW_y_A4.project(\"y\").plot(label=\"$\\sigma_{4}$\")\n",
    "scetlibW_y_tot.project(\"y\").plot(label=\"Total\")\n",
    "plt.legend()\n",
    "plt.xlim([-4.5, 4.5])\n",
    "plt.title(\"SCETlib structure functions\")"
   ]
  },
  {
   "cell_type": "code",
   "execution_count": null,
   "id": "50557648",
   "metadata": {},
   "outputs": [],
   "source": [
    "minnlohel = minnlo[\"WminusmunuPostVFP\"][\"output\"][\"helicity_moments_scale\"][{\"muRfact\" : 1.j, \"muFfact\" : 1.j, \"chargeVgen\" : -1.j}]"
   ]
  },
  {
   "cell_type": "code",
   "execution_count": null,
   "id": "949cde63",
   "metadata": {},
   "outputs": [],
   "source": [
    "minnlohel[...,:30,4.j]"
   ]
  },
  {
   "cell_type": "code",
   "execution_count": null,
   "id": "d51ab0f0",
   "metadata": {},
   "outputs": [],
   "source": [
    "minnloCoeffs = theory_tools.moments_to_angular_coeffs(minnlohel[...,:30:hist.sum,:].project(\"absYVgen\", \"helicity\"))"
   ]
  },
  {
   "cell_type": "code",
   "execution_count": null,
   "id": "a834abbb",
   "metadata": {},
   "outputs": [],
   "source": []
  },
  {
   "cell_type": "code",
   "execution_count": null,
   "id": "d7569492",
   "metadata": {},
   "outputs": [],
   "source": [
    "minnloCoeffs[{\"helicity\" : 4.j}]\n",
    "#scetlib_absy_A4_coeff.plot()"
   ]
  },
  {
   "cell_type": "code",
   "execution_count": null,
   "id": "a99280a2",
   "metadata": {},
   "outputs": [],
   "source": [
    "fig = plot_tools.makePlotWithRatioToRef([minnloCoeffs[{\"helicity\" : 4.j}], scetlib_absy_A4_coeff], colors=[\"red\", \"blue\"], labels=[\"minnlo\", \"scetlib\"], ylabel=\"A$_{4}$\", rrange=[0.9, 1.1], rlabel=\"scetlib/minnlo\")"
   ]
  },
  {
   "cell_type": "code",
   "execution_count": null,
   "id": "ebb9aacb",
   "metadata": {},
   "outputs": [],
   "source": [
    "blah = np.expand_dims(blah, axis=tuple(range(blah.ndim, minnlohel.ndim-blah.ndim)))"
   ]
  },
  {
   "cell_type": "code",
   "execution_count": null,
   "id": "5eda4065",
   "metadata": {},
   "outputs": [],
   "source": [
    "minnloByHel = minnlo[\"WminusmunuPostVFP\"][\"output\"][\"qcdScaleByHelicity\"]*minnlo[\"WminusmunuPostVFP\"][\"dataset\"][\"xsec\"]/minnlo[\"WminusmunuPostVFP\"][\"weight_sum\"]\n",
    "minnloByHel"
   ]
  },
  {
   "cell_type": "code",
   "execution_count": null,
   "id": "ffc13125",
   "metadata": {},
   "outputs": [],
   "source": []
  },
  {
   "cell_type": "code",
   "execution_count": null,
   "id": "14891d66",
   "metadata": {},
   "outputs": [],
   "source": []
  },
  {
   "cell_type": "code",
   "execution_count": null,
   "id": "31b72fd4",
   "metadata": {},
   "outputs": [],
   "source": []
  },
  {
   "cell_type": "code",
   "execution_count": null,
   "id": "ec1654d4",
   "metadata": {},
   "outputs": [],
   "source": [
    "import uproot"
   ]
  },
  {
   "cell_type": "code",
   "execution_count": null,
   "id": "ba55d9fe",
   "metadata": {},
   "outputs": [],
   "source": [
    "f = uproot.open(\"/eos/user/k/kelong/HistFiles/WGen/WmToMuNu_inclusive_MATRIX_RadISH_MatchEWParams_NNPDF31.root\")"
   ]
  },
  {
   "cell_type": "code",
   "execution_count": null,
   "id": "9a554d13",
   "metadata": {},
   "outputs": [],
   "source": [
    "matrixRadish = f[\"wmmunu_matrix_radish/ptW_prefsr_mn\"].to_hist()/1000"
   ]
  },
  {
   "cell_type": "code",
   "execution_count": null,
   "id": "9370e4c3",
   "metadata": {},
   "outputs": [],
   "source": [
    "matrixRadish.plot()\n",
    "minnloh.project(\"ptVgen\").plot()"
   ]
  },
  {
   "cell_type": "code",
   "execution_count": null,
   "id": "57f7e90c",
   "metadata": {},
   "outputs": [],
   "source": [
    "f = uproot.open(\"/eos/user/k/kelong/HistFiles/ZGen/ZToMuMu_MATRIX_RadISH_MatchEWParams_NNPDF31.root\")"
   ]
  },
  {
   "cell_type": "code",
   "execution_count": null,
   "id": "7363903c",
   "metadata": {},
   "outputs": [],
   "source": [
    "f[\"DYm50_matrix__radish/ptZ_lhe_mm\"].to_hist().plot()\n",
    "minnlohZ.project(\"ptVgen\").plot()"
   ]
  },
  {
   "cell_type": "code",
   "execution_count": null,
   "id": "3f9141e9",
   "metadata": {},
   "outputs": [],
   "source": [
    "dyturbof = np.load(\"/eos/user/k/kelong/HistFiles/WGen/DYTurbo/wm-13tev-cms-n3ll.npz\")"
   ]
  },
  {
   "cell_type": "code",
   "execution_count": null,
   "id": "12aa7c36",
   "metadata": {},
   "outputs": [],
   "source": [
    "ptax = hist.axis.Variable(dyturbof[\"bins\"], name=\"pt\")\n",
    "dyturboh = hist.Hist(ptax, storage=hist.storage.Weight())\n",
    "dyturboh[...] = np.stack((dyturbof[\"hist\"], dyturbof[\"err\"]), axis=-1)"
   ]
  },
  {
   "cell_type": "code",
   "execution_count": null,
   "id": "0d495637",
   "metadata": {},
   "outputs": [],
   "source": [
    "dyturboMatch = matrixRadish.copy()\n",
    "dyturboMatch[:40] = dyturboh.view()/1000"
   ]
  },
  {
   "cell_type": "code",
   "execution_count": null,
   "id": "3a3ffc10",
   "metadata": {},
   "outputs": [],
   "source": [
    "dyturboMatch"
   ]
  },
  {
   "cell_type": "code",
   "execution_count": null,
   "id": "3698b140",
   "metadata": {},
   "outputs": [],
   "source": [
    "scetlibMatch = matrixRadish.copy()\n",
    "scetlibMatch[:40] = scetlibh_tot.project(\"pt\").view()"
   ]
  },
  {
   "cell_type": "code",
   "execution_count": null,
   "id": "4664f07f",
   "metadata": {},
   "outputs": [],
   "source": [
    "fig = plot_tools.makePlotWithRatioToRef([f[\"DYm50_matrix__radish/ptZ_lhe_mm\"].to_hist(), minnlohZ.project(\"ptVgen\")], colors=[\"blue\", \"green\", ], labels=[\"MATRIX+RadISH (NNLO+N$^{3}$LL)\", \"MiNNLO (H$^{(2)}$ sign error)\",], rrange=[0.9, 1.1], ylabel=\"$\\sigma$/bin\", xlabel=\"p$_{T}^{\\mathrm{Z}}$ (GeV)\", rlabel=\"x/NNLO+N$^{3}$LL\", nlegcols=1)\n"
   ]
  },
  {
   "cell_type": "code",
   "execution_count": null,
   "id": "c3b7b337",
   "metadata": {},
   "outputs": [],
   "source": [
    "scetlibMatch"
   ]
  },
  {
   "cell_type": "code",
   "execution_count": null,
   "id": "c0d8018d",
   "metadata": {},
   "outputs": [],
   "source": [
    "fig = plot_tools.makePlotWithRatioToRef([matrixRadish, minnloScetlib, minnloh.project(\"ptVgen\"), dyturboMatch, scetlibMatch],colors=[\"green\", \"orange\", \"blue\", \"red\", \"purple\"], labels=[\"MATRIX+RadISH (NNLO+N$^{3}$LL)\", \"MiNNLO+SCETlib (NNLO+PS + N$^{3}$LL corr.)\", \"MiNNLO (NNLO+PS)\", \"DYTurbo (N$^{3}$LL)\", \"SCETlib (N$^{3}$LL)\"], rrange=[0.9, 1.1], binwnorm=1., nlegcols=1, rlabel=\"x/Matrix+Rad\", ylabel=\"$\\sigma$/bin\", xlabel=\"p$_{T}^{\\mathrm{W}^{-}}$ (GeV)\")\n",
    "\n",
    "#fig = plot_tools.makePlotWithRatioToRef([matrixRadish, minnloh.project(\"ptVgen\"), dyturboMatch, scetlibMatch],colors=[\"green\", \"blue\", \"red\", \"purple\"], labels=[\"MATRIX+RadISH (NNLO+N$^{3}$LL)\", \"MiNNLO (NNLO+PS)\", \"DYTurbo (N$^{3}$LL)\", \"SCETlib (N$^{3}$LL)\"], rrange=[0.9, 1.1], binwnorm=1., nlegcols=1, rlabel=\"x/Matrix+Rad\", ylabel=\"$\\sigma$/bin\", xlabel=\"p$_{T}^{\\mathrm{W}^{-}}$ (GeV)\")\n",
    "\n"
   ]
  }
 ],
 "metadata": {
  "kernelspec": {
   "display_name": "Python 3 (ipykernel)",
   "language": "python",
   "name": "python3"
  },
  "language_info": {
   "codemirror_mode": {
    "name": "ipython",
    "version": 3
   },
   "file_extension": ".py",
   "mimetype": "text/x-python",
   "name": "python",
   "nbconvert_exporter": "python",
   "pygments_lexer": "ipython3",
   "version": "3.10.2"
  }
 },
 "nbformat": 4,
 "nbformat_minor": 5
}
